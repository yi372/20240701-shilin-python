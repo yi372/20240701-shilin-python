{
 "cells": [
  {
   "cell_type": "code",
   "execution_count": 9,
   "metadata": {},
   "outputs": [],
   "source": [
    "import os\n",
    "def get_path()-> list[str]:\n",
    "    current_path = os.path.dirname(os.path.abspath(__name__))\n",
    "    folder_path = os.path.join(current_path,'每日各站進出站人數')\n",
    "    fileName_list = []\n",
    "    for filename in os.listdir(folder_path):\n",
    "       if '每日各站進出站人數' in filename:\n",
    "        fileName_list.append(os.path.join(folder_path,filename))\n",
    "    return fileName_list"
   ]
  },
  {
   "cell_type": "code",
   "execution_count": 10,
   "metadata": {},
   "outputs": [],
   "source": [
    "from pandas import DataFrame\n",
    "def station_info() -> DataFrame:\n",
    "    import os,json\n",
    "    import pandas as pd\n",
    "    current_path = os.path.dirname(os.path.abspath(__name__))\n",
    "    folder_path = os.path.join(current_path,'每日各站進出站人數')\n",
    "    stations_path = os.path.join(folder_path,'車站基本資料集.json')\n",
    "    with open(stations_path,encoding='utf-8') as file:\n",
    "        station_content = json.load(file)\n",
    "\n",
    "    stations_df = pd.DataFrame(station_content)\n",
    "\n",
    "\n",
    "    stations_df['stationCode'] = stations_df['stationCode'].astype(int)\n",
    "    return stations_df "
   ]
  },
  {
   "cell_type": "code",
   "execution_count": 11,
   "metadata": {},
   "outputs": [],
   "source": [
    "def merge_dataFrame(names:list[str], station:DataFrame) -> list[DataFrame]:\n",
    "    import pandas as pd\n",
    "    all_frames = []\n",
    "    for name in names:\n",
    "        inOut_df = pd.read_csv(name)\n",
    "        df1 = pd.merge(inOut_df,station,left_on='staCode',right_on='stationCode')\n",
    "        df2 = df1.reindex(columns=['trnOpDate','stationName','gateInComingCnt','gateOutGoingCnt'])\n",
    "        df3 = df2.rename(columns={'trnOpDate':'日期',\n",
    "                    'stationName':'站名',\n",
    "                    'gateInComingCnt':'進站',\n",
    "                    'gateOutGoingCnt':'出站'\n",
    "                    })\n",
    "        df3['日期'] = pd.to_datetime(df3['日期'].astype(str))\n",
    "        all_frames.append(df3)\n",
    "    return all_frames"
   ]
  },
  {
   "cell_type": "code",
   "execution_count": 12,
   "metadata": {},
   "outputs": [
    {
     "data": {
      "text/plain": [
       "[              日期   站名    進站    出站\n",
       " 0     2020-01-01   基隆  7552  8154\n",
       " 1     2020-01-01   三坑  1020  1135\n",
       " 2     2020-01-01   八堵  1623  1972\n",
       " 3     2020-01-01   七堵  4130  4813\n",
       " 4     2020-01-01   百福  1818  2128\n",
       " ...          ...  ...   ...   ...\n",
       " 86927 2020-12-31   瑞芳  3523  3602\n",
       " 86928 2020-12-31  海科館     3    18\n",
       " 86929 2020-12-31  八斗子    28    34\n",
       " 86930 2020-12-31  四腳亭   609   604\n",
       " 86931 2020-12-31   暖暖   377   444\n",
       " \n",
       " [86932 rows x 4 columns],\n",
       "               日期   站名    進站    出站\n",
       " 0     2021-01-01   基隆  7223  7425\n",
       " 1     2021-01-01   三坑   972  1100\n",
       " 2     2021-01-01   八堵  1505  1698\n",
       " 3     2021-01-01   七堵  4385  4657\n",
       " 4     2021-01-01   百福  1785  1967\n",
       " ...          ...  ...   ...   ...\n",
       " 86534 2021-12-31   瑞芳  4062  4451\n",
       " 86535 2021-12-31  海科館    87   104\n",
       " 86536 2021-12-31  八斗子   341   403\n",
       " 86537 2021-12-31  四腳亭   534   481\n",
       " 86538 2021-12-31   暖暖   383   389\n",
       " \n",
       " [86539 rows x 4 columns],\n",
       "               日期   站名    進站    出站\n",
       " 0     2019-04-23   基隆  8442  7743\n",
       " 1     2019-04-23   三坑  1394  1348\n",
       " 2     2019-04-23   八堵  2770  2423\n",
       " 3     2019-04-23   七堵  6113  6335\n",
       " 4     2019-04-23   百福  2680  2726\n",
       " ...          ...  ...   ...   ...\n",
       " 60124 2019-12-31   瑞芳  5779  5782\n",
       " 60125 2019-12-31  海科館   146   142\n",
       " 60126 2019-12-31  八斗子   116   134\n",
       " 60127 2019-12-31  四腳亭   654   585\n",
       " 60128 2019-12-31   暖暖   448   396\n",
       " \n",
       " [60129 rows x 4 columns],\n",
       "               日期   站名    進站    出站\n",
       " 0     2023-01-01   基隆  8030  8241\n",
       " 1     2023-01-01   三坑  1017  1326\n",
       " 2     2023-01-01   八堵  1400  1705\n",
       " 3     2023-01-01   七堵  3558  4398\n",
       " 4     2023-01-01   百福  1509  1815\n",
       " ...          ...  ...   ...   ...\n",
       " 86604 2023-12-31   瑞芳  7916  8252\n",
       " 86605 2023-12-31  海科館   164   195\n",
       " 86606 2023-12-31  八斗子   652   720\n",
       " 86607 2023-12-31  四腳亭  1526   656\n",
       " 86608 2023-12-31   暖暖   576   447\n",
       " \n",
       " [86609 rows x 4 columns],\n",
       "               日期   站名    進站    出站\n",
       " 0     2022-01-01   基隆  8645  8526\n",
       " 1     2022-01-01   三坑   996  1243\n",
       " 2     2022-01-01   八堵  1369  1711\n",
       " 3     2022-01-01   七堵  3663  4535\n",
       " 4     2022-01-01   百福  1532  1845\n",
       " ...          ...  ...   ...   ...\n",
       " 86547 2022-12-31   瑞芳  3984  3893\n",
       " 86548 2022-12-31  海科館    92   115\n",
       " 86549 2022-12-31  八斗子   131   159\n",
       " 86550 2022-12-31  四腳亭   494   426\n",
       " 86551 2022-12-31   暖暖   313   274\n",
       " \n",
       " [86552 rows x 4 columns]]"
      ]
     },
     "execution_count": 12,
     "metadata": {},
     "output_type": "execute_result"
    }
   ],
   "source": [
    "fileName_list = get_path()\n",
    "stations_df = station_info()\n",
    "all_in_out = merge_dataFrame(fileName_list,stations_df)\n",
    "all_in_out"
   ]
  },
  {
   "cell_type": "code",
   "execution_count": null,
   "metadata": {},
   "outputs": [],
   "source": []
  }
 ],
 "metadata": {
  "kernelspec": {
   "display_name": "Python 3",
   "language": "python",
   "name": "python3"
  },
  "language_info": {
   "codemirror_mode": {
    "name": "ipython",
    "version": 3
   },
   "file_extension": ".py",
   "mimetype": "text/x-python",
   "name": "python",
   "nbconvert_exporter": "python",
   "pygments_lexer": "ipython3",
   "version": "3.11.9"
  }
 },
 "nbformat": 4,
 "nbformat_minor": 2
}
