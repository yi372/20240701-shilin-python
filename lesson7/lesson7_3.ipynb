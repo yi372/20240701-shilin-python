{
 "cells": [
  {
   "cell_type": "code",
   "execution_count": 1,
   "metadata": {},
   "outputs": [
    {
     "name": "stdout",
     "output_type": "stream",
     "text": [
      "======數字遊戲======\n",
      "再大一點\n",
      "您已經猜了1次\n",
      "再大一點\n",
      "您已經猜了2次\n",
      "再小一點\n",
      "您已經猜了3次\n",
      "再大一點\n",
      "您已經猜了4次\n",
      "再小一點\n",
      "您已經猜了5次\n",
      "再小一點\n",
      "您已經猜了6次\n",
      "賓果!猜對了, 答案是:79\n",
      "您猜了7次\n",
      "應用程式結束\n"
     ]
    }
   ],
   "source": [
    "import random\n",
    "max = 100\n",
    "min = 1\n",
    "count = 0\n",
    "target = random.randint(min,max)\n",
    "print('======數字遊戲======')\n",
    "while True:\n",
    "    count += 1\n",
    "    try:\n",
    "       keyin = int(input(f\"猜數字範圍{min}~{max}:\"))\n",
    "    except:\n",
    "        print(\"格式錯誤\") \n",
    "        continue\n",
    "    if keyin < min or keyin > max:\n",
    "        print(\"超過範圍\")        \n",
    "        continue\n",
    "    if keyin == target:\n",
    "     print(f\"賓果!猜對了, 答案是:{keyin}\")\n",
    "     print(f\"您猜了{count}次\")\n",
    "     break\n",
    "    elif keyin > target:\n",
    "        print(\"再小一點\")\n",
    "        max = keyin - 1\n",
    "    elif keyin < target:\n",
    "        print(\"再大一點\")\n",
    "        min = keyin + 1\n",
    "    print(f\"您已經猜了{count}次\") \n",
    "    \n",
    "print(\"應用程式結束\")\n",
    "\n"
   ]
  },
  {
   "cell_type": "code",
   "execution_count": null,
   "metadata": {},
   "outputs": [],
   "source": []
  }
 ],
 "metadata": {
  "kernelspec": {
   "display_name": "Python 3",
   "language": "python",
   "name": "python3"
  },
  "language_info": {
   "codemirror_mode": {
    "name": "ipython",
    "version": 3
   },
   "file_extension": ".py",
   "mimetype": "text/x-python",
   "name": "python",
   "nbconvert_exporter": "python",
   "pygments_lexer": "ipython3",
   "version": "3.11.9"
  }
 },
 "nbformat": 4,
 "nbformat_minor": 2
}
