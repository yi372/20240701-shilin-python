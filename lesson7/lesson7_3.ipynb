{
 "cells": [
  {
   "cell_type": "code",
   "execution_count": 10,
   "metadata": {},
   "outputs": [
    {
     "name": "stdout",
     "output_type": "stream",
     "text": [
      "\n",
      "    ton你好\n",
      "    身高是：146公分\n",
      "    體重是：45公斤\n",
      "    BMI:21.11\n",
      "    體重正常\n",
      "    \n",
      "\n",
      "    ton你好\n",
      "    身高是：156公分\n",
      "    體重是：46公斤\n",
      "    BMI:18.9\n",
      "    體重正常\n",
      "    \n",
      "應用程式結束\n"
     ]
    }
   ],
   "source": [
    "while True :\n",
    "    name = input(\"請輸入姓名：\")\n",
    "    height = eval(input(\"請輸入身高(cm)：\"))\n",
    "    weight = eval(input(\"請輸入體重(kg)：\"))\n",
    "    bmi = weight/(height/100) ** 2\n",
    "    if bmi >= 35:\n",
    "      status = '重度肥胖'\n",
    "    elif bmi >= 30:\n",
    "      status = '中度肥胖'\n",
    "    elif bmi >= 27:\n",
    "      status = '輕度肥胖'\n",
    "    elif bmi >= 24:\n",
    "      status = '體重過重'\n",
    "    elif bmi >= 18.5:\n",
    "      status = '體重正常'\n",
    "    else:\n",
    "      status = '體重過輕'\n",
    "    print(f\"\"\"\n",
    "    {name}你好\n",
    "    身高是：{height}公分\n",
    "    體重是：{weight}公斤\n",
    "    BMI:{round(bmi,ndigits=2)}\n",
    "    {status}\n",
    "    \"\"\")\n",
    "    try:\n",
    "       letter = input(\"是否要離開?[離開請輸入q 繼續請輸入c]\")\n",
    "       if letter == \"q\":\n",
    "        break\n",
    "        number = int(letter)\n",
    "    except:\n",
    "        print(\"輸入格式錯誤 請重新輸入\")\n",
    "        continue\n",
    "print(\"應用程式結束\")    \n"
   ]
  },
  {
   "cell_type": "code",
   "execution_count": 4,
   "metadata": {},
   "outputs": [
    {
     "name": "stdout",
     "output_type": "stream",
     "text": [
      "===========猜數字遊戲============\n",
      "\n",
      "再小一點\n",
      "您已經猜了1次\n",
      "再大一點\n",
      "您已經猜了2次\n",
      "再小一點\n",
      "您已經猜了3次\n",
      "再大一點\n",
      "您已經猜了4次\n",
      "再小一點\n",
      "您已經猜了5次\n",
      "再小一點\n",
      "您已經猜了6次\n",
      "再大一點\n",
      "您已經猜了7次\n",
      "賓果!猜對了, 答案是:43\n",
      "您猜了8次\n",
      "應用程式結束\n"
     ]
    }
   ],
   "source": [
    "import random\n",
    "\n",
    "min = 1\n",
    "max = 100\n",
    "target = random.randint(min, max)\n",
    "print(\"===========猜數字遊戲============\\n\")\n",
    "count = 0\n",
    "\n",
    "while True:\n",
    "    count += 1\n",
    "    try:\n",
    "        keyin = int(input(f\"猜數字範圍{min}~{max}:\"))\n",
    "    except:\n",
    "        print(\"格式錯誤\")        \n",
    "        continue\n",
    "\n",
    "    if keyin < min or keyin > max:\n",
    "        print(\"超過範圍\")        \n",
    "        continue\n",
    "\n",
    "    \n",
    "\n",
    "    if keyin == target:\n",
    "        print(f\"賓果!猜對了, 答案是:{keyin}\")\n",
    "        print(f\"您猜了{count}次\")\n",
    "        break\n",
    "    elif keyin > target:\n",
    "        print(\"再小一點\")\n",
    "        max = keyin - 1\n",
    "        \n",
    "    elif keyin < target:\n",
    "        print(\"再大一點\")\n",
    "        min = keyin + 1\n",
    "    print(f\"您已經猜了{count}次\") \n",
    "    try:\n",
    "       letter = input(\"還要繼續嗎?[y/n]\")\n",
    "       if letter == \"n\":\n",
    "        break\n",
    "    \n",
    "    except:\n",
    "        print(\"輸入格式錯誤 請重新輸入\")\n",
    "        continue\n",
    "       \n",
    "        \n",
    "\n",
    "print(\"應用程式結束\")\n",
    "\n"
   ]
  }
 ],
 "metadata": {
  "kernelspec": {
   "display_name": "Python 3",
   "language": "python",
   "name": "python3"
  },
  "language_info": {
   "codemirror_mode": {
    "name": "ipython",
    "version": 3
   },
   "file_extension": ".py",
   "mimetype": "text/x-python",
   "name": "python",
   "nbconvert_exporter": "python",
   "pygments_lexer": "ipython3",
   "version": "3.11.9"
  }
 },
 "nbformat": 4,
 "nbformat_minor": 2
}
