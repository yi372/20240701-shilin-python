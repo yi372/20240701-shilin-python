{
 "cells": [
  {
   "cell_type": "code",
   "execution_count": 2,
   "metadata": {},
   "outputs": [
    {
     "name": "stdout",
     "output_type": "stream",
     "text": [
      "1 2 5 10 "
     ]
    }
   ],
   "source": [
    "n = int(input(\"請輸入第一個數\"))\n",
    "m = int(input(\"請輸入第二個數\"))\n",
    "min = n if not(n > m) else m\n",
    "for i in range(1,min+1):\n",
    "    if n % i == 0 and m % i == 0:\n",
    "        print(i,end=\" \")"
   ]
  },
  {
   "cell_type": "code",
   "execution_count": 6,
   "metadata": {},
   "outputs": [
    {
     "name": "stdout",
     "output_type": "stream",
     "text": [
      "A\n",
      "應用程式結束\n"
     ]
    }
   ],
   "source": [
    "stuff = input(\"請輸入小寫英文字[按q會離開]\")\n",
    "while stuff != 'q':\n",
    "    print(stuff.upper())\n",
    "    stuff = input(\"請輸入小寫英文字[按q會離開]\")\n",
    "\n",
    "print(\"應用程式結束\")\n"
   ]
  },
  {
   "cell_type": "code",
   "execution_count": 7,
   "metadata": {},
   "outputs": [
    {
     "name": "stdout",
     "output_type": "stream",
     "text": [
      "A\n",
      "應用程式結束\n"
     ]
    }
   ],
   "source": [
    "while True:\n",
    "    stuff = input(\"請輸入小寫英文字[按q會離開]\")\n",
    "    if stuff == \"q\":\n",
    "        break\n",
    "    print(stuff.upper())\n",
    "    \n",
    "\n",
    "print(\"應用程式結束\")"
   ]
  },
  {
   "cell_type": "code",
   "execution_count": 11,
   "metadata": {},
   "outputs": [
    {
     "name": "stdout",
     "output_type": "stream",
     "text": [
      "25\n",
      "應用程式結束\n"
     ]
    }
   ],
   "source": [
    "while True:\n",
    "    letter = input(\"請輸入整數\")\n",
    "    if letter == \"q\":\n",
    "        break\n",
    "    try:\n",
    "        number =int(letter)\n",
    "    except:\n",
    "        print(\"輸入格式錯誤 請重新輸入\")\n",
    "        continue\n",
    "    if not number % 2 == 0:\n",
    "     print(number ** 2)\n",
    "print(\"應用程式結束\")"
   ]
  },
  {
   "cell_type": "code",
   "execution_count": null,
   "metadata": {},
   "outputs": [],
   "source": [
    "#tuple\n",
    "(1, 2, 3)"
   ]
  },
  {
   "cell_type": "code",
   "execution_count": null,
   "metadata": {},
   "outputs": [],
   "source": [
    "#list\n",
    "[1, 2, 3]"
   ]
  },
  {
   "cell_type": "code",
   "execution_count": null,
   "metadata": {},
   "outputs": [],
   "source": [
    "#dictionary\n",
    "{\"one\":1, \"two\":2, \"three\":3}"
   ]
  },
  {
   "cell_type": "code",
   "execution_count": null,
   "metadata": {},
   "outputs": [],
   "source": [
    "#set\n",
    "{1, 2, 3}"
   ]
  },
  {
   "cell_type": "code",
   "execution_count": null,
   "metadata": {},
   "outputs": [],
   "source": [
    "t1 = (90, 70, 60)\n",
    "t1[0]\n",
    "t1[1]\n",
    "t1[2]"
   ]
  },
  {
   "cell_type": "code",
   "execution_count": null,
   "metadata": {},
   "outputs": [],
   "source": [
    "#拆解法\n",
    "(chinese, english, math) = (90, 70, 60)\n",
    "print(chinese, english, math)"
   ]
  },
  {
   "cell_type": "code",
   "execution_count": null,
   "metadata": {},
   "outputs": [],
   "source": [
    "#拆解法\n",
    "chinese, english, math = 90, 70, 60\n",
    "print(chinese, english, math)"
   ]
  }
 ],
 "metadata": {
  "kernelspec": {
   "display_name": "Python 3",
   "language": "python",
   "name": "python3"
  },
  "language_info": {
   "codemirror_mode": {
    "name": "ipython",
    "version": 3
   },
   "file_extension": ".py",
   "mimetype": "text/x-python",
   "name": "python",
   "nbconvert_exporter": "python",
   "pygments_lexer": "ipython3",
   "version": "3.11.9"
  }
 },
 "nbformat": 4,
 "nbformat_minor": 2
}
