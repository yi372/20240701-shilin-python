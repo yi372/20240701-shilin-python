{
 "cells": [
  {
   "cell_type": "code",
   "execution_count": 6,
   "metadata": {},
   "outputs": [
    {
     "name": "stdout",
     "output_type": "stream",
     "text": [
      "學習 Python 是一段充滿樂趣且有回報的旅程！以下是一些建議，讓你踏上 Python 的學習之路：\n",
      "\n",
      "**1. 選擇適合的學習資源：**\n",
      "\n",
      "* **線上課程:** \n",
      "    * **Codecademy:** 互動式教學，適合初學者。\n",
      "    * **Coursera:** 提供由知名大學開設的 Python 課程。\n",
      "    * **Udemy:** 有許多不同程度的 Python 課程，選擇性多。\n",
      "    * **FreeCodeCamp:** 免費的線上學習平台，提供 Python 教學。\n",
      "* **書籍:** \n",
      "    * **Python Crash Course:** 適合初學者，内容豐富且易懂。\n",
      "    * **Automate the Boring Stuff with Python:** 教你用 Python 自動化日常任務。\n",
      "    * **Fluent Python:** 適合想深入了解 Python 语言特性的讀者。\n",
      "* **官方文件:** [https://docs.python.org/3/](https://docs.python.org/3/) \n",
      "    * 想要精通 Python，官方文件是不可或缺的参考。\n",
      "\n",
      "**2. 練習、练习、再练习:**\n",
      "\n",
      "* **编写代码:**  通过练习编写代码，才能真正理解 Python 的概念。\n",
      "* **练习项目:**  选择一些有趣且有挑战性的项目，例如：\n",
      "    * 建立一个简单的网站\n",
      "    * 编写一个游戏\n",
      "    * 自动化日常任务\n",
      "* **参与开源项目:** 参与开源项目可以让你接触到实际的代码，并学习其他开发者的经验。\n",
      "\n",
      "**3. 持续学习：**\n",
      "\n",
      "* **探索新的库和框架:** Python 有许多强大的库和框架，例如：\n",
      "    * NumPy: 用于科学计算\n",
      "    * Pandas: 用于数据分析\n",
      "    * Django: 用于 Web 开发\n",
      "    * Flask: 用于 Web 开发\n",
      "* **参加线上社群:** \n",
      "    * **Stack Overflow:** 提問問題並從其他開發者獲取幫助。\n",
      "    * **Reddit:** 尋找最新的 Python 資訊和讨论。\n",
      "* **参加会议:**  参加 Python 会议可以让你结识其他开发者并学习最新的技术趋势。\n",
      "\n",
      "**4. 保持好奇心和耐心：**\n",
      "\n",
      "* 学习编程需要时间和耐心，不要轻易放弃。\n",
      "* 保持好奇心，不断探索 Python 的潜力。\n",
      "\n",
      "**一些额外的建议:**\n",
      "\n",
      "* **选择一个文本编辑器或 IDE:**  VS Code、PyCharm 和 Sublime Text 都是受欢迎的选择。\n",
      "* **设置虚拟环境:** 虚拟环境可以帮助你隔离项目依赖，避免冲突。\n",
      "* **代码风格:**  遵循 PEP 8 代码风格指南，保持代码清晰易读。\n",
      "\n",
      "希望这些建议能帮助你顺利学习 Python！\n",
      "\n"
     ]
    }
   ],
   "source": [
    "from dotenv import load_dotenv\n",
    "import google.generativeai as genai\n",
    "import os\n",
    "load_dotenv()\n",
    "\n",
    "\n",
    "genai.configure(api_key=os.environ['api_key'])\n",
    "model = genai.GenerativeModel('gemini-1.5-flash')\n",
    "response = model.generate_content(\"請問如何學習python?\")\n",
    "print(response.text)\n"
   ]
  }
 ],
 "metadata": {
  "kernelspec": {
   "display_name": "Python 3",
   "language": "python",
   "name": "python3"
  },
  "language_info": {
   "codemirror_mode": {
    "name": "ipython",
    "version": 3
   },
   "file_extension": ".py",
   "mimetype": "text/x-python",
   "name": "python",
   "nbconvert_exporter": "python",
   "pygments_lexer": "ipython3",
   "version": "3.11.9"
  }
 },
 "nbformat": 4,
 "nbformat_minor": 2
}
