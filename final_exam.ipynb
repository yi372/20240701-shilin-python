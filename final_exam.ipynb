{
 "cells": [
  {
   "cell_type": "code",
   "execution_count": null,
   "metadata": {},
   "outputs": [],
   "source": [
    "#批改娘5-1題\n",
    "n = int(input())\n",
    "i = 1\n",
    "while\n"
   ]
  },
  {
   "cell_type": "code",
   "execution_count": 4,
   "metadata": {},
   "outputs": [
    {
     "name": "stdout",
     "output_type": "stream",
     "text": [
      "5050\n"
     ]
    }
   ],
   "source": [
    "#批改娘5-2題\n",
    "n1 = int(input())\n",
    "n2 = int(input())\n",
    "sum = 0\n",
    "while n1 <= n2:\n",
    "    sum = sum + n1\n",
    "    n1 = n1 + 1\n",
    "print(\"%d\" %sum)"
   ]
  },
  {
   "cell_type": "code",
   "execution_count": null,
   "metadata": {},
   "outputs": [
    {
     "name": "stdout",
     "output_type": "stream",
     "text": [
      "偶數個數:2\n",
      "奇數個數:3\n"
     ]
    }
   ],
   "source": [
    "#批改娘5-3題\n",
    "count = 0\n",
    "count_even = 0\n",
    "count_odd = 0\n",
    "while count < 5:\n",
    "    n = int(input())\n",
    "    if n % 2 == 0:\n",
    "        count_even = count_even + 1\n",
    "    else:\n",
    "        count_odd = count_odd + 1\n",
    "    count = count + 1\n",
    "print(\"偶數個數: %d\" %(count_even))\n",
    "print(\"奇數個數: %d\" %(count_odd))"
   ]
  },
  {
   "cell_type": "code",
   "execution_count": 23,
   "metadata": {},
   "outputs": [
    {
     "name": "stdout",
     "output_type": "stream",
     "text": [
      "1\n"
     ]
    }
   ],
   "source": [
    "#批改娘5-4題\n",
    "n1 = int(input())\n",
    "n2 = int(input())\n",
    "n3 = int(input())\n",
    "min = n1\n",
    "compare = 0\n",
    "while compare < 2:\n",
    "    if compare == 0:\n",
    "       if n2 < min:\n",
    "           min = n2\n",
    "    elif compare == 1:\n",
    "        if n3 < min:\n",
    "            min = n3\n",
    "    compare = compare + 1\n",
    "print(\"%d\" %min)"
   ]
  },
  {
   "cell_type": "code",
   "execution_count": null,
   "metadata": {},
   "outputs": [
    {
     "name": "stdout",
     "output_type": "stream",
     "text": [
      "1\n"
     ]
    }
   ],
   "source": [
    "#批改娘5-6題\n",
    "n = int(input())\n",
    "odd_sum = 0\n",
    "even_sum = 0\n",
    "position = 1\n",
    "while n > 0:\n",
    "    digit = n % 10 \n",
    "    if position % 2 == 1:\n",
    "        odd_sum = odd_sum + digit\n",
    "    else:\n",
    "        even_sum = even_sum + digit\n",
    "    n = n // 10\n",
    "    position = position + 1\n",
    "print(abs(odd_sum - even_sum))\n"
   ]
  },
  {
   "cell_type": "code",
   "execution_count": null,
   "metadata": {},
   "outputs": [],
   "source": [
    "#批改娘5-7題\n",
    "n = int(input())\n",
    "while n <= 100:\n",
    "    \n"
   ]
  }
 ],
 "metadata": {
  "kernelspec": {
   "display_name": "Python 3",
   "language": "python",
   "name": "python3"
  },
  "language_info": {
   "codemirror_mode": {
    "name": "ipython",
    "version": 3
   },
   "file_extension": ".py",
   "mimetype": "text/x-python",
   "name": "python",
   "nbconvert_exporter": "python",
   "pygments_lexer": "ipython3",
   "version": "3.11.2"
  }
 },
 "nbformat": 4,
 "nbformat_minor": 2
}
