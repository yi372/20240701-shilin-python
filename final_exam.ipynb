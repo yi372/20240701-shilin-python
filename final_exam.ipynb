{
 "cells": [
  {
   "cell_type": "code",
   "execution_count": 4,
   "metadata": {},
   "outputs": [
    {
     "name": "stdout",
     "output_type": "stream",
     "text": [
      "5050\n"
     ]
    }
   ],
   "source": [
    "#批改娘5-2題\n",
    "n1 = int(input())\n",
    "n2 = int(input())\n",
    "sum = 0\n",
    "while n1 <= n2:\n",
    "    sum = sum + n1\n",
    "    n1 = n1 + 1\n",
    "print(\"%d\" %sum)"
   ]
  },
  {
   "cell_type": "code",
   "execution_count": null,
   "metadata": {},
   "outputs": [
    {
     "name": "stdout",
     "output_type": "stream",
     "text": [
      "偶數個數:2\n",
      "奇數個數:3\n"
     ]
    }
   ],
   "source": [
    "#批改娘5-3題\n",
    "count = 0\n",
    "count_even = 0\n",
    "count_odd = 0\n",
    "while count < 5:\n",
    "    n = int(input())\n",
    "    if n % 2 == 0:\n",
    "        count_even = count_even + 1\n",
    "    else:\n",
    "        count_odd = count_odd + 1\n",
    "    count = count + 1\n",
    "print(\"偶數個數: %d\" %(count_even))\n",
    "print(\"奇數個數: %d\" %(count_odd))"
   ]
  },
  {
   "cell_type": "code",
   "execution_count": null,
   "metadata": {},
   "outputs": [
    {
     "name": "stdout",
     "output_type": "stream",
     "text": [
      "偶數個數:2\n",
      "奇數個數:3\n"
     ]
    }
   ],
   "source": [
    "#批改娘5-4題\n"
   ]
  }
 ],
 "metadata": {
  "kernelspec": {
   "display_name": "Python 3",
   "language": "python",
   "name": "python3"
  },
  "language_info": {
   "codemirror_mode": {
    "name": "ipython",
    "version": 3
   },
   "file_extension": ".py",
   "mimetype": "text/x-python",
   "name": "python",
   "nbconvert_exporter": "python",
   "pygments_lexer": "ipython3",
   "version": "3.11.2"
  }
 },
 "nbformat": 4,
 "nbformat_minor": 2
}
