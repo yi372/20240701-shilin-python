{
 "cells": [
  {
   "cell_type": "code",
   "execution_count": null,
   "metadata": {},
   "outputs": [],
   "source": [
    "#批改娘5-1題\n",
    "##Task Description\n",
    "#印出由0和1組成的三角形\n",
    "#1\n",
    "#01\n",
    "#101\n",
    "#0101\n",
    "#10101\n",
    "#Input Format\n",
    "#輸入欲印的列數。\n",
    "#Output Format\n",
    "#輸出0和1組成的三角形。\n",
    "n = int(input())\n",
    "i = 1\n",
    "while i <= n:\n",
    "    line = \"\"\n",
    "    if i % 2 == 1:\n",
    "        for j in range(i):\n",
    "            if j % 2 == 0:\n",
    "                line = line + \"1\"\n",
    "            else:\n",
    "                line = line + \"0\"\n",
    "    else:\n",
    "        for j in range(i):\n",
    "            if j % 2 == 0:\n",
    "                line = line + \"0\"\n",
    "            else:\n",
    "                line = line + \"1\"\n",
    "    print(line)\n",
    "    i = i + 1"
   ]
  },
  {
   "cell_type": "code",
   "execution_count": null,
   "metadata": {},
   "outputs": [],
   "source": [
    "#批改娘5-2題\n",
    "n1 = int(input())\n",
    "n2 = int(input())\n",
    "sum = 0\n",
    "while n1 <= n2:\n",
    "    sum = sum + n1\n",
    "    n1 = n1 + 1\n",
    "print(\"%d\" %sum)"
   ]
  },
  {
   "cell_type": "code",
   "execution_count": null,
   "metadata": {},
   "outputs": [],
   "source": [
    "#批改娘5-3題\n",
    "##Task Description\n",
    "#輸入5個整數,計算並輸出偶數和奇數的個數\n",
    "#Input Format\n",
    "#輸入5個整數(換行輸入)                              \n",
    "#Output Format\n",
    "#先輸出偶數個數:\n",
    "#再輸出奇數個數:\n",
    "#(換行輸出)\n",
    "count = 0\n",
    "count_even = 0\n",
    "count_odd = 0\n",
    "while count < 5:\n",
    "    n = int(input())\n",
    "    if n % 2 == 0:\n",
    "        count_even = count_even + 1\n",
    "    else:\n",
    "        count_odd = count_odd + 1\n",
    "    count = count + 1\n",
    "print(\"偶數個數: %d\" %(count_even))\n",
    "print(\"奇數個數: %d\" %(count_odd))"
   ]
  },
  {
   "cell_type": "code",
   "execution_count": null,
   "metadata": {},
   "outputs": [],
   "source": [
    "#批改娘5-4題\n",
    "##Task Description\n",
    "#輸入 3 個數字，找出其中最小值，然後輸出最小值。\n",
    "#Input Format\n",
    "#輸入3個數字，換行輸入\n",
    "#Output Format\n",
    "#輸出其中最小的數字\n",
    "n1 = int(input())\n",
    "n2 = int(input()) \n",
    "n3 = int(input())\n",
    "min = n1                   \n",
    "compare = 0\n",
    "while compare < 2:\n",
    "    if compare == 0:\n",
    "       if n2 < min:\n",
    "           min = n2\n",
    "    elif compare == 1:\n",
    "        if n3 < min:\n",
    "            min = n3\n",
    "    compare = compare + 1\n",
    "print(\"%d\" %min)"
   ]
  },
  {
   "cell_type": "code",
   "execution_count": null,
   "metadata": {},
   "outputs": [],
   "source": [
    "n1 = int(input())\n",
    "n2 = int(input()) \n",
    "n3 = int(input())\n",
    "min = n1                   \n",
    "compare = 0\n",
    "while compare < 2:\n",
    "    if compare == 0:\n",
    "       if n2 < min:\n",
    "           min = n2\n",
    "       else:\n",
    "           min = n1\n",
    "    if compare == 1:\n",
    "        if n3 < min:\n",
    "            min = n3\n",
    "    compare = compare + 1\n",
    "print(\"%d\" %min)"
   ]
  },
  {
   "cell_type": "code",
   "execution_count": null,
   "metadata": {},
   "outputs": [],
   "source": [
    "#批改娘5-5題\n",
    "n = int(input())\n"
   ]
  },
  {
   "cell_type": "code",
   "execution_count": null,
   "metadata": {},
   "outputs": [],
   "source": [
    "#批改娘5-6題\n",
    "##Task Description\n",
    "#將一個正整數的奇數位數的和稱為 A，偶數位數的和稱為 B，則 A 與 B 的絕對差值 |A－B| 稱為這個正整數的秘密差。\n",
    "#例如：263541 的奇數位數的和 A = 6+5+1 = 12，偶數位數的和 B = 2+3+4 = 9，所以 263541 的秘密差是 |12－9|= 3。\n",
    "#給定一個正整數 X，請找出 X 的秘密差。\n",
    "#Input Format\n",
    "#輸入為一行含有一個十進位表示法的正整數 X\n",
    "#Output Format\n",
    "#請輸出 X 的秘密差 Y (以十進位表示法輸出)\n",
    "n = int(input())\n",
    "odd_sum = 0\n",
    "even_sum = 0\n",
    "position = 1                  \n",
    "while n > 0:\n",
    "    digit = n % 10 \n",
    "    if position % 2 == 1:\n",
    "        odd_sum = odd_sum + digit\n",
    "    else:\n",
    "        even_sum = even_sum + digit\n",
    "    n = n // 10\n",
    "    position = position + 1\n",
    "print(abs(odd_sum - even_sum))\n"
   ]
  },
  {
   "cell_type": "code",
   "execution_count": null,
   "metadata": {},
   "outputs": [],
   "source": [
    "#批改娘5-7題\n",
    "##Task Description\n",
    "#請寫一程式讓使用者輸入正整數n，並計算1到n的平方和。\n",
    "#Input Format\n",
    "#輸入一個正整數n，1<=n<=100。\n",
    "#Output Format\n",
    "#印出1到n的平方和\n",
    "n = int(input())\n",
    "square_sum = 0\n",
    "i = 1\n",
    "while i <= n:\n",
    "    square_sum = square_sum + i ** 2\n",
    "    i = i + 1\n",
    "print(\"%d\" %square_sum )"
   ]
  },
  {
   "cell_type": "code",
   "execution_count": null,
   "metadata": {},
   "outputs": [
    {
     "ename": "KeyboardInterrupt",
     "evalue": "",
     "output_type": "error",
     "traceback": [
      "\u001b[0;31m---------------------------------------------------------------------------\u001b[0m",
      "\u001b[0;31mKeyboardInterrupt\u001b[0m                         Traceback (most recent call last)",
      "Cell \u001b[0;32mIn[8], line 11\u001b[0m\n\u001b[1;32m      9\u001b[0m j \u001b[38;5;241m=\u001b[39m \u001b[38;5;241m0\u001b[39m\n\u001b[1;32m     10\u001b[0m \u001b[38;5;28;01mwhile\u001b[39;00m j \u001b[38;5;241m<\u001b[39m space:\n\u001b[0;32m---> 11\u001b[0m   \u001b[38;5;28mprint\u001b[39m(\u001b[38;5;124m\"\u001b[39m\u001b[38;5;124m\"\u001b[39m,end\u001b[38;5;241m=\u001b[39m\u001b[38;5;124m\"\u001b[39m\u001b[38;5;124m\"\u001b[39m)\n\u001b[1;32m     12\u001b[0m   j \u001b[38;5;241m=\u001b[39m j \u001b[38;5;241m+\u001b[39m \u001b[38;5;241m1\u001b[39m\n\u001b[1;32m     13\u001b[0m \u001b[38;5;28;01mfor\u001b[39;00m j \u001b[38;5;129;01min\u001b[39;00m \u001b[38;5;28mrange\u001b[39m(\u001b[38;5;241m1\u001b[39m, i \u001b[38;5;241m+\u001b[39m \u001b[38;5;241m1\u001b[39m):\n",
      "File \u001b[0;32m~/.local/lib/python3.11/site-packages/ipykernel/iostream.py:681\u001b[0m, in \u001b[0;36mOutStream.write\u001b[0;34m(self, string)\u001b[0m\n\u001b[1;32m    678\u001b[0m     msg \u001b[38;5;241m=\u001b[39m \u001b[38;5;124m\"\u001b[39m\u001b[38;5;124mI/O operation on closed file\u001b[39m\u001b[38;5;124m\"\u001b[39m\n\u001b[1;32m    679\u001b[0m     \u001b[38;5;28;01mraise\u001b[39;00m \u001b[38;5;167;01mValueError\u001b[39;00m(msg)\n\u001b[0;32m--> 681\u001b[0m is_child \u001b[38;5;241m=\u001b[39m \u001b[38;5;129;01mnot\u001b[39;00m \u001b[38;5;28;43mself\u001b[39;49m\u001b[38;5;241;43m.\u001b[39;49m\u001b[43m_is_master_process\u001b[49m\u001b[43m(\u001b[49m\u001b[43m)\u001b[49m\n\u001b[1;32m    682\u001b[0m \u001b[38;5;66;03m# only touch the buffer in the IO thread to avoid races\u001b[39;00m\n\u001b[1;32m    683\u001b[0m \u001b[38;5;28;01mwith\u001b[39;00m \u001b[38;5;28mself\u001b[39m\u001b[38;5;241m.\u001b[39m_buffer_lock:\n",
      "File \u001b[0;32m~/.local/lib/python3.11/site-packages/ipykernel/iostream.py:551\u001b[0m, in \u001b[0;36mOutStream._is_master_process\u001b[0;34m(self)\u001b[0m\n\u001b[1;32m    550\u001b[0m \u001b[38;5;28;01mdef\u001b[39;00m \u001b[38;5;21m_is_master_process\u001b[39m(\u001b[38;5;28mself\u001b[39m):\n\u001b[0;32m--> 551\u001b[0m     \u001b[38;5;28;01mreturn\u001b[39;00m \u001b[43mos\u001b[49m\u001b[38;5;241;43m.\u001b[39;49m\u001b[43mgetpid\u001b[49m\u001b[43m(\u001b[49m\u001b[43m)\u001b[49m \u001b[38;5;241m==\u001b[39m \u001b[38;5;28mself\u001b[39m\u001b[38;5;241m.\u001b[39m_master_pid\n",
      "\u001b[0;31mKeyboardInterrupt\u001b[0m: "
     ]
    }
   ],
   "source": [
    "#批改娘5-8題\n",
    "    #1\n",
    "   #121\n",
    "  #12321\n",
    "n = int(input())\n",
    "i = 1\n",
    "while i <= n:\n",
    "  space = n - i\n",
    "  j = 0\n",
    "  while j < space:\n",
    "    print(\"\",end=\"\")\n",
    "    j = j + 1\n",
    "  for j in range(1,i):\n",
    "        print(j, end=\"\")  \n",
    "  for j in range(i - 1, 0, -1):\n",
    "        print(j, end=\"\")  \n",
    "  print()\n",
    "  i += 1\n"
   ]
  },
  {
   "cell_type": "code",
   "execution_count": null,
   "metadata": {},
   "outputs": [],
   "source": [
    "#批改娘5-9題\n",
    "answer = int(input())\n",
    "low = 1\n",
    "high = 100\n",
    "print(\"%d < ? < %d\" %(low,high))\n",
    "while True:\n",
    "    n = int(input())\n",
    "    if (n <= low) or (n >= high):\n",
    "        print(\"out of range\")\n",
    "        print(\"%d < ? < %d\" %(low,high))\n",
    "    elif n > answer:\n",
    "        print(\"wrong answer, guess smaller\")\n",
    "        high = n \n",
    "        print(\"%d < ? < %d\" %(low,high))   \n",
    "    elif n < answer:\n",
    "        print(\"wrong answer, guess larger\")\n",
    "        low = n \n",
    "        print(\"%d < ? < %d\" %(low,high))  \n",
    "    else:\n",
    "        print(\"bingo answer is %d\" %answer)\n",
    "        break"
   ]
  },
  {
   "cell_type": "code",
   "execution_count": null,
   "metadata": {},
   "outputs": [],
   "source": [
    "#批改娘5-11題\n",
    "n = int(input())\n",
    "r = int(input())\n",
    "def f(x):\n",
    "    i = 1\n",
    "    result = 1\n",
    "    while i <= x:\n",
    "        result = result * i\n",
    "        i = i + 1\n",
    "    return result\n",
    "def C(n,r):\n",
    "    if n < r:\n",
    "        return 0\n",
    "    return f(n)/( f(r) * f(n - r))\n",
    "result = C(n,r)\n",
    "print(\"%d\" %result)"
   ]
  },
  {
   "cell_type": "code",
   "execution_count": 4,
   "metadata": {},
   "outputs": [
    {
     "name": "stdout",
     "output_type": "stream",
     "text": [
      "恭喜您中頭獎20萬元\n"
     ]
    }
   ],
   "source": [
    "#發票兌獎\n",
    "invoice_number = input()\n",
    "winning_number = \"53227282\"\n",
    "last_three_digit = invoice_number[-3:]\n",
    "last_four_digit = invoice_number[-4:]\n",
    "last_five_digit = invoice_number[-5:]\n",
    "last_six_digit = invoice_number[-6:]\n",
    "last_seven_digit = invoice_number[-7:]\n",
    "last_eight_digit = invoice_number[-8:]\n",
    "if (last_three_digit == winning_number[-3:]) and (last_four_digit != winning_number[-4:]):\n",
    "    print(\"恭喜您中六獎2百元\")\n",
    "elif (last_four_digit == winning_number[-4:]) and (last_five_digit != winning_number[-5:]):\n",
    "    print(\"恭喜您中五獎1千元\")\n",
    "elif (last_five_digit == winning_number[-5:]) and (last_six_digit != winning_number[-6:]):\n",
    "    print(\"恭喜您中四獎4千元\")\n",
    "elif (last_six_digit == winning_number[-6:]) and (last_seven_digit != winning_number[-7:]):\n",
    "    print(\"恭喜您中三獎1萬元\")\n",
    "elif (last_seven_digit == winning_number[-7:]) and (last_eight_digit != winning_number[-8:]):\n",
    "    print(\"恭喜您中二獎4萬元\")\n",
    "else:\n",
    "    print(\"恭喜您中頭獎20萬元\")"
   ]
  },
  {
   "cell_type": "code",
   "execution_count": 14,
   "metadata": {},
   "outputs": [
    {
     "name": "stdout",
     "output_type": "stream",
     "text": [
      "7, 11, 13, 17, 19, 23, 29, 31, 37, "
     ]
    }
   ],
   "source": [
    "#找出兩數之間的所有質數\n",
    "#起始數字 ：7\n",
    "#結束數字 ：40\n",
    "#7, 11, 13, 17, 19, 23, 29, 31, 37, 是質數\n",
    "start = 7      \n",
    "finish = 40\n",
    "for number in range(start,finish + 1):\n",
    "    prime = True \n",
    "    for i in range(2,number,1):\n",
    "        if number % i == 0:\n",
    "            prime = False\n",
    "            break\n",
    "    if prime == True:\n",
    "        print(number,end=\", \")"
   ]
  },
  {
   "cell_type": "code",
   "execution_count": 44,
   "metadata": {},
   "outputs": [
    {
     "name": "stdout",
     "output_type": "stream",
     "text": [
      "    *\n",
      "   **\n",
      "  ***\n",
      " ****\n",
      "*****\n"
     ]
    }
   ],
   "source": [
    "#印出星形圖樣\n",
    "#金字塔型     \n",
    "n = 5\n",
    "for i in range(1,n + 1,1):\n",
    "    for j in range(0,n-i,1):\n",
    "       print(\" \",end=\"\")\n",
    "    for j in range(0,i,1):\n",
    "       print(\"*\",end = \"\")\n",
    "    print()\n",
    "    "
   ]
  },
  {
   "cell_type": "code",
   "execution_count": 30,
   "metadata": {},
   "outputs": [
    {
     "name": "stdout",
     "output_type": "stream",
     "text": [
      "i = 1, sum = 1\n",
      "i = 2, sum = 2\n",
      "i = 3, sum = 4\n",
      "i = 4, sum = 7\n",
      "i = 5, sum = 11\n",
      "i = 6, sum = 16\n",
      "i = 7, sum = 22\n"
     ]
    }
   ],
   "source": [
    "begin = 1\n",
    "sum = 1\n",
    "print(\"i = %d, sum = %d\" %(begin,sum))\n",
    "for i in range(2,8,1):\n",
    "    sum = sum + begin\n",
    "    print(\"i = %d, sum = %d\" %(i,sum))\n",
    "    begin = begin + 1"
   ]
  },
  {
   "cell_type": "code",
   "execution_count": null,
   "metadata": {},
   "outputs": [],
   "source": []
  }
 ],
 "metadata": {
  "kernelspec": {
   "display_name": "Python 3",
   "language": "python",
   "name": "python3"
  },
  "language_info": {
   "codemirror_mode": {
    "name": "ipython",
    "version": 3
   },
   "file_extension": ".py",
   "mimetype": "text/x-python",
   "name": "python",
   "nbconvert_exporter": "python",
   "pygments_lexer": "ipython3",
   "version": "3.11.2"
  }
 },
 "nbformat": 4,
 "nbformat_minor": 2
}
