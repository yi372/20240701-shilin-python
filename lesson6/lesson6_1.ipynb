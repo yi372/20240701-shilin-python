{
 "cells": [
  {
   "cell_type": "code",
   "execution_count": 3,
   "metadata": {},
   "outputs": [
    {
     "name": "stdout",
     "output_type": "stream",
     "text": [
      "偶數\n",
      "這是正數\n"
     ]
    }
   ],
   "source": [
    "try:\n",
    "   num = int(input(\"請輸入一個整數\"))\n",
    "   if num % 2 == 0:\n",
    "       print(\"偶數\")\n",
    "   else:\n",
    "       print(\"奇數\")\n",
    "   if num == 0:\n",
    "        print(\"這是0\")\n",
    "   else:\n",
    "        if num > 0:\n",
    "            print(\"這是正數\")\n",
    "        else:\n",
    "            print(\"這是負數\")\n",
    "except:\n",
    "    print(\"格式錯誤\")"
   ]
  },
  {
   "cell_type": "code",
   "execution_count": 4,
   "metadata": {},
   "outputs": [
    {
     "name": "stdout",
     "output_type": "stream",
     "text": [
      "丙\n"
     ]
    }
   ],
   "source": [
    "score= int(input(\"請輸入分數:\"))\n",
    "if score >= 90:\n",
    "    print(\"優\")\n",
    "elif score >= 80:\n",
    "    print(\"甲\")\n",
    "elif score >= 70:\n",
    "    print(\"乙\")\n",
    "elif score >=60:\n",
    "    print(\"丙\")\n",
    "else:\n",
    "    print(\"丁\")"
   ]
  },
  {
   "cell_type": "code",
   "execution_count": 6,
   "metadata": {},
   "outputs": [
    {
     "name": "stdout",
     "output_type": "stream",
     "text": [
      "不加分\n"
     ]
    }
   ],
   "source": [
    "is_add = input(\"請問是否加分(y,n):\")\n",
    "if not is_add == \"y\":\n",
    "    print(\"不加分\")\n",
    "else:\n",
    "    print(\"加分\")\n"
   ]
  },
  {
   "cell_type": "code",
   "execution_count": 8,
   "metadata": {},
   "outputs": [
    {
     "name": "stdout",
     "output_type": "stream",
     "text": [
      "獎金0\n"
     ]
    }
   ],
   "source": [
    "chinese = int(input(\"請輸入國文成績:\"))\n",
    "math = int(input(\"請輸入數學成績:\"))\n",
    "if chinese == 100 and math == 100:\n",
    "    bonus = 1000\n",
    "elif chinese == 100 or math == 100:\n",
    "    bonus = 500\n",
    "else:\n",
    "    bonus = 0\n",
    "print(f\"獎金{bonus}\")"
   ]
  }
 ],
 "metadata": {
  "kernelspec": {
   "display_name": "Python 3",
   "language": "python",
   "name": "python3"
  },
  "language_info": {
   "codemirror_mode": {
    "name": "ipython",
    "version": 3
   },
   "file_extension": ".py",
   "mimetype": "text/x-python",
   "name": "python",
   "nbconvert_exporter": "python",
   "pygments_lexer": "ipython3",
   "version": "3.11.9"
  }
 },
 "nbformat": 4,
 "nbformat_minor": 2
}
