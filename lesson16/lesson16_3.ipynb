{
 "cells": [
  {
   "cell_type": "code",
   "execution_count": 1,
   "metadata": {},
   "outputs": [
    {
     "data": {
      "text/plain": [
       "2"
      ]
     },
     "metadata": {},
     "output_type": "display_data"
    },
    {
     "data": {
      "text/plain": [
       "250"
      ]
     },
     "metadata": {},
     "output_type": "display_data"
    },
    {
     "data": {
      "text/plain": [
       "(50, 5)"
      ]
     },
     "metadata": {},
     "output_type": "display_data"
    }
   ],
   "source": [
    "import numpy as np\n",
    "students = np.random.randint(50,101,size = (50,5))\n",
    "display(students.ndim)\n",
    "display(students.size)\n",
    "display(students.shape)"
   ]
  },
  {
   "cell_type": "code",
   "execution_count": 2,
   "metadata": {},
   "outputs": [
    {
     "name": "stdout",
     "output_type": "stream",
     "text": [
      "3899\n"
     ]
    }
   ],
   "source": [
    "#一個科目的總分\n",
    "print(students[:,0].sum())"
   ]
  },
  {
   "cell_type": "code",
   "execution_count": 4,
   "metadata": {},
   "outputs": [
    {
     "name": "stdout",
     "output_type": "stream",
     "text": [
      "346\n",
      "69.2\n",
      "75\n",
      "59\n",
      "5.381449618829484\n"
     ]
    }
   ],
   "source": [
    "#第一個學生\n",
    "print(students[0].sum())\n",
    "print(students[0].mean())\n",
    "print(students[0].max())\n",
    "print(students[0].min())\n",
    "print(students[0].std())"
   ]
  },
  {
   "cell_type": "code",
   "execution_count": 5,
   "metadata": {},
   "outputs": [
    {
     "data": {
      "text/plain": [
       "array([69.2, 67.6, 77.6, 77.4, 81.6, 75. , 83. , 80.8, 81.2, 69.4, 77.8,\n",
       "       72.8, 78.4, 66.2, 76. , 60.2, 67.2, 72.4, 74.6, 75.8, 67. , 73.8,\n",
       "       88.2, 70.6, 84.2, 76.6, 81.6, 71. , 65.8, 73.2, 78.6, 77.6, 79.8,\n",
       "       77.6, 83.8, 72.6, 75.6, 67.4, 61.8, 67. , 70.6, 81.6, 76.4, 69.4,\n",
       "       78. , 82.4, 70.4, 81. , 76.8, 76.2])"
      ]
     },
     "execution_count": 5,
     "metadata": {},
     "output_type": "execute_result"
    }
   ],
   "source": [
    "np.mean(students,axis = 1)"
   ]
  },
  {
   "cell_type": "code",
   "execution_count": null,
   "metadata": {},
   "outputs": [],
   "source": []
  }
 ],
 "metadata": {
  "kernelspec": {
   "display_name": "Python 3",
   "language": "python",
   "name": "python3"
  },
  "language_info": {
   "codemirror_mode": {
    "name": "ipython",
    "version": 3
   },
   "file_extension": ".py",
   "mimetype": "text/x-python",
   "name": "python",
   "nbconvert_exporter": "python",
   "pygments_lexer": "ipython3",
   "version": "3.11.9"
  }
 },
 "nbformat": 4,
 "nbformat_minor": 2
}
