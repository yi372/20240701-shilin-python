{
 "cells": [
  {
   "cell_type": "code",
   "execution_count": null,
   "metadata": {},
   "outputs": [
    {
     "name": "stdout",
     "output_type": "stream",
     "text": [
      "14 7.2\n",
      "14 7.214 7.2 14 7.2\n",
      "14\t7.2\tFalse\tJoanna\n",
      "*\n",
      "*14 7.2 False Joanna\n"
     ]
    }
   ],
   "source": [
    "a,b,c,d = 14, 7.2, False, \"Joanna\"\n",
    "print(a, b)\n",
    "print(a, b, end=\"\")\n",
    "print(a, b, end=\" \")\n",
    "print(a, b, end=\"\\n\")\n",
    "print(a, b, c, d, sep = \"\\t\",end = \"\\n*\\n\")\n",
    "print(a, b, c, d)\n",
    "\n",
    "\n"
   ]
  },
  {
   "cell_type": "code",
   "execution_count": 17,
   "metadata": {},
   "outputs": [
    {
     "name": "stdout",
     "output_type": "stream",
     "text": [
      "80 + 33.0\n",
      "113.0\n"
     ]
    }
   ],
   "source": [
    "print(\"80 + 33.0\")\n",
    "print(eval(\"80 + 33.0\"))"
   ]
  },
  {
   "cell_type": "code",
   "execution_count": 29,
   "metadata": {},
   "outputs": [
    {
     "name": "stdout",
     "output_type": "stream",
     "text": [
      "Today is year/month/day.\n",
      "Today is 2024.\n",
      "Today is 2024/9/30.\n",
      "Today is 2024/ 9/30.\n",
      "Today is 2024/9/30.\n"
     ]
    }
   ],
   "source": [
    "year, month, day = 2024, 9, 30\n",
    "print(\"Today is year/month/day.\")\n",
    "print(\"Today is %d.\"%year)\n",
    "print(\"Today is %d/%d/%d.\"%(year,month,day))\n",
    "print(\"Today is %d/%2d/%d.\"%(year,month,day))\n",
    "print(\"Today is\",end = \" \")\n",
    "print(year,month, day,sep = \"/\",end = \"\")\n",
    "print(\".\")"
   ]
  },
  {
   "cell_type": "code",
   "execution_count": 38,
   "metadata": {},
   "outputs": [
    {
     "name": "stdout",
     "output_type": "stream",
     "text": [
      "Height of Taipei 101      is  509.20 m.\n",
      "Height of   Jade mountain is    3952 m.\n"
     ]
    }
   ],
   "source": [
    "skyskraper = \"Taipei 101\"\n",
    "height1 = 509.2\n",
    "mount = \"Jade mountain\"\n",
    "height2 = 3952\n",
    "print(\"Height of %-15s is %7.2f m.\" %(skyskraper,height1))\n",
    "print(\"Height of %15s is %7d m.\" %(mount,height2))"
   ]
  },
  {
   "cell_type": "code",
   "execution_count": 48,
   "metadata": {},
   "outputs": [
    {
     "name": "stdout",
     "output_type": "stream",
     "text": [
      "I have 100\n",
      "I have 100 dollars.\n"
     ]
    }
   ],
   "source": [
    "str1 = \"I have\"\n",
    "money = 100\n",
    "print(str1,money)\n",
    "print(\"{} {} dollars.\".format(str1,money))"
   ]
  },
  {
   "cell_type": "markdown",
   "metadata": {},
   "source": []
  },
  {
   "cell_type": "code",
   "execution_count": 53,
   "metadata": {},
   "outputs": [
    {
     "name": "stdout",
     "output_type": "stream",
     "text": [
      "7.500000\n",
      "7.500\n"
     ]
    }
   ],
   "source": [
    "num = 7.5\n",
    "print(\"{:f}\".format(num))\n",
    "print(\"{:.3f}\".format(num))"
   ]
  }
 ],
 "metadata": {
  "kernelspec": {
   "display_name": "Python 3",
   "language": "python",
   "name": "python3"
  },
  "language_info": {
   "codemirror_mode": {
    "name": "ipython",
    "version": 3
   },
   "file_extension": ".py",
   "mimetype": "text/x-python",
   "name": "python",
   "nbconvert_exporter": "python",
   "pygments_lexer": "ipython3",
   "version": "3.11.10"
  }
 },
 "nbformat": 4,
 "nbformat_minor": 2
}
