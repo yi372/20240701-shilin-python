{
 "cells": [
  {
   "cell_type": "code",
   "execution_count": 13,
   "metadata": {},
   "outputs": [
    {
     "name": "stdout",
     "output_type": "stream",
     "text": [
      "14 7.2\n",
      "14 7.214 7.2 14 7.2\n",
      "14\t7.2\tFalse\tJoanna\n",
      "*\n",
      "*14 7.2 False Joanna\n"
     ]
    }
   ],
   "source": [
    "a,b,c,d = 14, 7.2, False, \"Joanna\"\n",
    "print(a, b)\n",
    "print(a, b, end=\"\")\n",
    "print(a, b, end=\" \")\n",
    "print(a, b, end=\"\\n\")\n",
    "print(a, b, c, d, sep = \"\\t\",end = \"\\n*\\n\")\n",
    "print(a, b, c, d)\n",
    "\n",
    "\n"
   ]
  },
  {
   "cell_type": "code",
   "execution_count": 17,
   "metadata": {},
   "outputs": [
    {
     "name": "stdout",
     "output_type": "stream",
     "text": [
      "80 + 33.0\n",
      "113.0\n"
     ]
    }
   ],
   "source": [
    "print(\"80 + 33.0\")\n",
    "print(eval(\"80 + 33.0\"))"
   ]
  },
  {
   "cell_type": "code",
   "execution_count": 29,
   "metadata": {},
   "outputs": [
    {
     "name": "stdout",
     "output_type": "stream",
     "text": [
      "Today is year/month/day.\n",
      "Today is 2024.\n",
      "Today is 2024/9/30.\n",
      "Today is 2024/ 9/30.\n",
      "Today is 2024/9/30.\n"
     ]
    }
   ],
   "source": [
    "year, month, day = 2024, 9, 30\n",
    "print(\"Today is year/month/day.\")\n",
    "print(\"Today is %d.\"%year)\n",
    "print(\"Today is %d/%d/%d.\"%(year,month,day))\n",
    "print(\"Today is %d/%2d/%d.\"%(year,month,day))\n",
    "print(\"Today is\",end = \" \")\n",
    "print(year,month, day,sep = \"/\",end = \"\")\n",
    "print(\".\")"
   ]
  },
  {
   "cell_type": "code",
   "execution_count": 38,
   "metadata": {},
   "outputs": [
    {
     "name": "stdout",
     "output_type": "stream",
     "text": [
      "Height of Taipei 101      is  509.20 m.\n",
      "Height of   Jade mountain is    3952 m.\n"
     ]
    }
   ],
   "source": [
    "skyskraper = \"Taipei 101\"\n",
    "height1 = 509.2\n",
    "mount = \"Jade mountain\"\n",
    "height2 = 3952\n",
    "print(\"Height of %-15s is %7.2f m.\" %(skyskraper,height1))\n",
    "print(\"Height of %15s is %7d m.\" %(mount,height2))"
   ]
  },
  {
   "cell_type": "code",
   "execution_count": 48,
   "metadata": {},
   "outputs": [
    {
     "name": "stdout",
     "output_type": "stream",
     "text": [
      "I have 100\n",
      "I have 100 dollars.\n"
     ]
    }
   ],
   "source": [
    "str1 = \"I have\"\n",
    "money = 100\n",
    "print(str1,money)\n",
    "print(\"{} {} dollars.\".format(str1,money))"
   ]
  },
  {
   "cell_type": "markdown",
   "metadata": {},
   "source": []
  },
  {
   "cell_type": "code",
   "execution_count": 53,
   "metadata": {},
   "outputs": [
    {
     "name": "stdout",
     "output_type": "stream",
     "text": [
      "7.500000\n",
      "7.500\n"
     ]
    }
   ],
   "source": [
    "num = 7.5\n",
    "print(\"{:f}\".format(num))\n",
    "print(\"{:.3f}\".format(num))"
   ]
  },
  {
   "cell_type": "markdown",
   "metadata": {},
   "source": []
  },
  {
   "cell_type": "markdown",
   "metadata": {},
   "source": []
  },
  {
   "cell_type": "code",
   "execution_count": 2,
   "metadata": {},
   "outputs": [
    {
     "name": "stdout",
     "output_type": "stream",
     "text": [
      "Your age is 34 years.,Your height is 147.00000.,Your name is yo.\n"
     ]
    }
   ],
   "source": [
    "N = int(input(\"請輸入年齡:\"))\n",
    "H = float(input(\"請輸入身高:\"))\n",
    "S = str(input(\"請輸入名字:\"))\n",
    "print(\"Your age is %d years.,Your height is %.5f.,Your name is %s.\" % (N,H,S))"
   ]
  },
  {
   "cell_type": "code",
   "execution_count": 80,
   "metadata": {},
   "outputs": [
    {
     "name": "stdout",
     "output_type": "stream",
     "text": [
      "Your age is 25 years.\n",
      "Your height is 1.85000 meters.\n",
      "Your name is Lancy.\n"
     ]
    }
   ],
   "source": [
    "N = int(input(\"請輸入年齡:\"))\n",
    "H= float(input(\"請輸入身高:(公尺)\"))\n",
    "S = str(input(\"請輸入名字:\"))\n",
    "print(\"Your age is %d years.\" %N)\n",
    "print(\"Your height is %.5f meters.\" %H)\n",
    "print(\"Your name is %s.\" %S)"
   ]
  },
  {
   "cell_type": "code",
   "execution_count": 2,
   "metadata": {},
   "outputs": [
    {
     "ename": "TypeError",
     "evalue": "%d format: a real number is required, not str",
     "output_type": "error",
     "traceback": [
      "\u001b[0;31m---------------------------------------------------------------------------\u001b[0m",
      "\u001b[0;31mTypeError\u001b[0m                                 Traceback (most recent call last)",
      "Cell \u001b[0;32mIn[2], line 4\u001b[0m\n\u001b[1;32m      2\u001b[0m H\u001b[38;5;241m=\u001b[39m \u001b[38;5;28minput\u001b[39m()\n\u001b[1;32m      3\u001b[0m S \u001b[38;5;241m=\u001b[39m \u001b[38;5;28minput\u001b[39m()\n\u001b[0;32m----> 4\u001b[0m \u001b[38;5;28mprint\u001b[39m(\u001b[38;5;124;43m\"\u001b[39;49m\u001b[38;5;124;43mYour age is \u001b[39;49m\u001b[38;5;132;43;01m%d\u001b[39;49;00m\u001b[38;5;124;43m years.\u001b[39;49m\u001b[38;5;124;43m\"\u001b[39;49m\u001b[43m \u001b[49m\u001b[38;5;241;43m%\u001b[39;49m\u001b[43mN\u001b[49m)\n\u001b[1;32m      5\u001b[0m \u001b[38;5;28mprint\u001b[39m(\u001b[38;5;124m\"\u001b[39m\u001b[38;5;124mYour height is \u001b[39m\u001b[38;5;132;01m%.5f\u001b[39;00m\u001b[38;5;124m meters.\u001b[39m\u001b[38;5;124m\"\u001b[39m \u001b[38;5;241m%\u001b[39mH)\n\u001b[1;32m      6\u001b[0m \u001b[38;5;28mprint\u001b[39m(\u001b[38;5;124m\"\u001b[39m\u001b[38;5;124mYour name is \u001b[39m\u001b[38;5;132;01m%s\u001b[39;00m\u001b[38;5;124m.\u001b[39m\u001b[38;5;124m\"\u001b[39m \u001b[38;5;241m%\u001b[39mS)\n",
      "\u001b[0;31mTypeError\u001b[0m: %d format: a real number is required, not str"
     ]
    }
   ],
   "source": [
    "N = input()\n",
    "H= input()\n",
    "S = input()\n",
    "print(\"Your age is %d years.\" %N)\n",
    "print(\"Your height is %.5f meters.\" %H)\n",
    "print(\"Your name is %s.\" %S)"
   ]
  },
  {
   "cell_type": "code",
   "execution_count": 56,
   "metadata": {},
   "outputs": [
    {
     "name": "stdout",
     "output_type": "stream",
     "text": [
      "<class 'int'>\n",
      "<class 'str'>\n",
      "<class 'bool'>\n"
     ]
    }
   ],
   "source": [
    "print(type(45))\n",
    "print(type(\"你好\"))\n",
    "print(type(True))"
   ]
  }
 ],
 "metadata": {
  "kernelspec": {
   "display_name": "Python 3",
   "language": "python",
   "name": "python3"
  },
  "language_info": {
   "codemirror_mode": {
    "name": "ipython",
    "version": 3
   },
   "file_extension": ".py",
   "mimetype": "text/x-python",
   "name": "python",
   "nbconvert_exporter": "python",
   "pygments_lexer": "ipython3",
   "version": "3.11.2"
  }
 },
 "nbformat": 4,
 "nbformat_minor": 2
}
