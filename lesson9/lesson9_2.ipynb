{
 "cells": [
  {
   "cell_type": "code",
   "execution_count": 4,
   "metadata": {},
   "outputs": [
    {
     "name": "stdout",
     "output_type": "stream",
     "text": [
      "我是person的實體,我的名字是:Robert Hsu\n",
      "我是person的實體,我的名字是:徐國堂\n"
     ]
    }
   ],
   "source": [
    "class Person():\n",
    "  def __init__(self,n:str):\n",
    "        self.name = n\n",
    "  def __repr__(self):\n",
    "        return f\"我是person的實體,我的名字是:{self.name}\"\n",
    "\n",
    "\n",
    "p1 = Person(\"Robert Hsu\")\n",
    "print(p1)\n",
    "\n",
    "\n",
    "p2 = Person(n=\"徐國堂\")\n",
    "print(p2)"
   ]
  },
  {
   "cell_type": "code",
   "execution_count": 5,
   "metadata": {},
   "outputs": [
    {
     "name": "stdout",
     "output_type": "stream",
     "text": [
      "張同學\n",
      "王同學\n"
     ]
    }
   ],
   "source": [
    "class Student(Person):\n",
    "    pass\n",
    "s1 = Student(\"張同學\")\n",
    "print(s1.name)\n",
    "s2 = Student(\"王同學\")\n",
    "print(s2.name)"
   ]
  },
  {
   "cell_type": "code",
   "execution_count": 24,
   "metadata": {},
   "outputs": [
    {
     "name": "stdout",
     "output_type": "stream",
     "text": [
      "我是person的實體,我的名字是:Robert Hsu\n",
      "我是person的實體,我的名字是:徐國堂\n"
     ]
    }
   ],
   "source": [
    "class Person():\n",
    "  def __init__(self,n:str):\n",
    "        self.name = n\n",
    "  def __repr__(self):\n",
    "        return f\"我是person的實體,我的名字是:{self.name}\"\n",
    "\n",
    "\n",
    "p1 = Person(\"Robert Hsu\")\n",
    "print(p1)\n",
    "\n",
    "\n",
    "p2 = Person(n=\"徐國堂\")\n",
    "print(p2)"
   ]
  },
  {
   "cell_type": "code",
   "execution_count": 25,
   "metadata": {},
   "outputs": [
    {
     "name": "stdout",
     "output_type": "stream",
     "text": [
      "張同學\n",
      "78\n",
      "92\n",
      "69\n",
      "我是Student的實體\n",
      "239\n",
      "79.66666666666667\n",
      "=================\n",
      "王同學\n",
      "92\n",
      "79\n",
      "88\n",
      "我是Student的實體\n",
      "259\n",
      "86.33333333333333\n"
     ]
    }
   ],
   "source": [
    "class Student(Person):\n",
    "  def __init__(self,n:str,ch:int,en:int,ma:int):\n",
    "        super().__init__(n=n)\n",
    "        self.chinese = ch\n",
    "        self.english = en\n",
    "        self.math = ma\n",
    "  def __repr__(self):\n",
    "        return \"我是Student的實體\"\n",
    "  def sum(self):\n",
    "        return self.chinese + self.english + self.math\n",
    "  def average(self):\n",
    "        return self.sum() / 3\n",
    "\n",
    "\n",
    "s1 = Student(\"張同學\",ch=78,en=92,ma=69)\n",
    "print(s1.name)\n",
    "print(s1.chinese)\n",
    "print(s1.english)\n",
    "print(s1.math)\n",
    "print(s1)\n",
    "print(s1.sum())\n",
    "print(s1.average())\n",
    "\n",
    "print(\"=================\")\n",
    "s2 = Student(\"王同學\",ch=92,en=79,ma=88)\n",
    "print(s2.name)\n",
    "print(s2.chinese)\n",
    "print(s2.english)\n",
    "print(s2.math)\n",
    "print(s2)\n",
    "print(s2.sum())\n",
    "print(s2.average())\n"
   ]
  }
 ],
 "metadata": {
  "kernelspec": {
   "display_name": "Python 3",
   "language": "python",
   "name": "python3"
  },
  "language_info": {
   "codemirror_mode": {
    "name": "ipython",
    "version": 3
   },
   "file_extension": ".py",
   "mimetype": "text/x-python",
   "name": "python",
   "nbconvert_exporter": "python",
   "pygments_lexer": "ipython3",
   "version": "3.11.9"
  }
 },
 "nbformat": 4,
 "nbformat_minor": 2
}
