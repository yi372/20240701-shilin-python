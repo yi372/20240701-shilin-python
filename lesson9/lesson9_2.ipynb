{
 "cells": [
  {
   "cell_type": "code",
   "execution_count": 4,
   "metadata": {},
   "outputs": [
    {
     "name": "stdout",
     "output_type": "stream",
     "text": [
      "我是person的實體,我的名字是:Robert Hsu\n",
      "我是person的實體,我的名字是:徐國堂\n"
     ]
    }
   ],
   "source": [
    "class Person():\n",
    "  def __init__(self,n:str):\n",
    "        self.name = n\n",
    "  def __repr__(self):\n",
    "        return f\"我是person的實體,我的名字是:{self.name}\"\n",
    "\n",
    "\n",
    "p1 = Person(\"Robert Hsu\")\n",
    "print(p1)\n",
    "\n",
    "\n",
    "p2 = Person(n=\"徐國堂\")\n",
    "print(p2)"
   ]
  },
  {
   "cell_type": "code",
   "execution_count": 5,
   "metadata": {},
   "outputs": [
    {
     "name": "stdout",
     "output_type": "stream",
     "text": [
      "張同學\n",
      "王同學\n"
     ]
    }
   ],
   "source": [
    "class Student(Person):\n",
    "    pass\n",
    "s1 = Student(\"張同學\")\n",
    "print(s1.name)\n",
    "s2 = Student(\"王同學\")\n",
    "print(s2.name)"
   ]
  },
  {
   "cell_type": "code",
   "execution_count": 8,
   "metadata": {},
   "outputs": [
    {
     "name": "stdout",
     "output_type": "stream",
     "text": [
      "我是person的實體,我的名字是:Robert Hsu\n",
      "我是person的實體,我的名字是:徐國堂\n"
     ]
    }
   ],
   "source": [
    "class Person():\n",
    "  def __init__(self,n:str):\n",
    "        self.name = n\n",
    "  def __repr__(self):\n",
    "        return f\"我是person的實體,我的名字是:{self.name}\"\n",
    "\n",
    "\n",
    "p1 = Person(\"Robert Hsu\")\n",
    "print(p1)\n",
    "\n",
    "\n",
    "p2 = Person(n=\"徐國堂\")\n",
    "print(p2)"
   ]
  },
  {
   "cell_type": "code",
   "execution_count": 9,
   "metadata": {},
   "outputs": [
    {
     "name": "stdout",
     "output_type": "stream",
     "text": [
      "張同學\n",
      "78\n",
      "92\n",
      "69\n",
      "我是Student的實體\n",
      "239\n",
      "79.66666666666667\n",
      "=================\n",
      "王同學\n",
      "92\n",
      "79\n",
      "88\n",
      "我是Student的實體\n",
      "259\n",
      "86.33333333333333\n"
     ]
    }
   ],
   "source": [
    "class Student(Person):\n",
    "  def __init__(self,n:str,ch:int,en:int,ma:int):\n",
    "        super().__init__(n=n)\n",
    "        self.chinese = ch\n",
    "        self.english = en\n",
    "        self.math = ma\n",
    "  def __repr__(self):\n",
    "        return \"我是Student的實體\"\n",
    "  def sum(self):\n",
    "        return self.chinese + self.english + self.math\n",
    "  def average(self):\n",
    "        return self.sum() / 3\n",
    "\n",
    "\n",
    "s1 = Student(\"張同學\",ch=78,en=92,ma=69)\n",
    "print(s1.name)\n",
    "print(s1.chinese)\n",
    "print(s1.english)\n",
    "print(s1.math)\n",
    "print(s1)\n",
    "print(s1.sum())\n",
    "print(s1.average())\n",
    "\n",
    "print(\"=================\")\n",
    "s2 = Student(\"王同學\",ch=92,en=79,ma=88)\n",
    "print(s2.name)\n",
    "print(s2.chinese)\n",
    "print(s2.english)\n",
    "print(s2.math)\n",
    "print(s2)\n",
    "print(s2.sum())\n",
    "print(s2.average())\n"
   ]
  },
  {
   "cell_type": "code",
   "execution_count": 14,
   "metadata": {},
   "outputs": [
    {
     "ename": "NameError",
     "evalue": "name 'n' is not defined",
     "output_type": "error",
     "traceback": [
      "\u001b[0;31m---------------------------------------------------------------------------\u001b[0m",
      "\u001b[0;31mNameError\u001b[0m                                 Traceback (most recent call last)",
      "Cell \u001b[0;32mIn[14], line 25\u001b[0m\n\u001b[1;32m     23\u001b[0m         \u001b[38;5;28;01melse\u001b[39;00m:\n\u001b[1;32m     24\u001b[0m             \u001b[38;5;28;01mreturn\u001b[39;00m(\u001b[38;5;124m\"\u001b[39m\u001b[38;5;124m重度肥胖\u001b[39m\u001b[38;5;124m\"\u001b[39m)\n\u001b[0;32m---> 25\u001b[0m p1\u001b[38;5;241m=\u001b[39mperson(\u001b[43mn\u001b[49m,he,we)\n\u001b[1;32m     26\u001b[0m \u001b[38;5;28mprint\u001b[39m(\u001b[38;5;124mf\u001b[39m\u001b[38;5;124m\"\"\"\u001b[39m\u001b[38;5;132;01m{\u001b[39;00m\u001b[38;5;28mself\u001b[39m\u001b[38;5;241m.\u001b[39mname\u001b[38;5;132;01m}\u001b[39;00m\u001b[38;5;124m你好\u001b[39m\n\u001b[1;32m     27\u001b[0m \u001b[38;5;124m身高是：\u001b[39m\u001b[38;5;132;01m{\u001b[39;00m\u001b[38;5;28mself\u001b[39m\u001b[38;5;241m.\u001b[39mheight\u001b[38;5;132;01m}\u001b[39;00m\u001b[38;5;124m公分\u001b[39m\n\u001b[1;32m     28\u001b[0m \u001b[38;5;124m體重是：\u001b[39m\u001b[38;5;132;01m{\u001b[39;00m\u001b[38;5;28mself\u001b[39m\u001b[38;5;241m.\u001b[39mweight\u001b[38;5;132;01m}\u001b[39;00m\u001b[38;5;124m公斤\u001b[39m\n\u001b[1;32m     29\u001b[0m \u001b[38;5;124mBMI:\u001b[39m\u001b[38;5;132;01m{\u001b[39;00m\u001b[38;5;28mround\u001b[39m(\u001b[38;5;28mself\u001b[39m\u001b[38;5;241m.\u001b[39mgetBMI(),ndigits\u001b[38;5;241m=\u001b[39m\u001b[38;5;241m2\u001b[39m)\u001b[38;5;132;01m}\u001b[39;00m\n\u001b[1;32m     30\u001b[0m \u001b[38;5;132;01m{\u001b[39;00m\u001b[38;5;28mself\u001b[39m\u001b[38;5;241m.\u001b[39mget_status()\u001b[38;5;132;01m}\u001b[39;00m\u001b[38;5;124m\"\"\"\u001b[39m)\n",
      "\u001b[0;31mNameError\u001b[0m: name 'n' is not defined"
     ]
    }
   ],
   "source": [
    "import pyinputplus as pyip\n",
    "\n",
    "class person():\n",
    "    def __init__ (self,n:str,he:int,we:int):\n",
    "        self.name=n\n",
    "        self.height=he\n",
    "        self.weight=we\n",
    "    def __repr__(self):\n",
    "        return\"(f'{self.name}您好\\n身高是{self.height}公分\\n體重是{self.weight}公斤\\nBMI為{round(getBMI,ndigits=2)}')\"\n",
    "    def getBmi(self) -> float:\n",
    "        return self.weight/(self.height/100)**2\n",
    "    def get_status(self) -> str:\n",
    "        if self.getBmi()<18.5:\n",
    "            return(\"體重過輕\")\n",
    "        elif self.getBmi()<24:\n",
    "            return(\"體重適中\")\n",
    "        elif self.getBmi()<27:\n",
    "            return(\"體重過重\")\n",
    "        elif self.getBmi()<30:\n",
    "            return(\"輕度肥胖\")\n",
    "        elif self.getBmi()<35:\n",
    "            return(\"中度肥胖\")\n",
    "        else:\n",
    "            return(\"重度肥胖\")\n",
    "p1=person(n,he,we)\n",
    "print(f\"\"\"{self.name}你好\n",
    "身高是：{self.height}公分\n",
    "體重是：{self.weight}公斤\n",
    "BMI:{round(self.getBMI(),ndigits=2)}\n",
    "{self.get_status()}\"\"\")"
   ]
  }
 ],
 "metadata": {
  "kernelspec": {
   "display_name": "Python 3",
   "language": "python",
   "name": "python3"
  },
  "language_info": {
   "codemirror_mode": {
    "name": "ipython",
    "version": 3
   },
   "file_extension": ".py",
   "mimetype": "text/x-python",
   "name": "python",
   "nbconvert_exporter": "python",
   "pygments_lexer": "ipython3",
   "version": "3.11.9"
  }
 },
 "nbformat": 4,
 "nbformat_minor": 2
}
