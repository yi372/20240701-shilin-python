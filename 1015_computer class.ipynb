{
 "cells": [
  {
   "cell_type": "code",
   "execution_count": null,
   "metadata": {},
   "outputs": [],
   "source": [
    "F = float(input(\"請輸入華氏溫度:\"))\n",
    "C = (F - 32) * (5/9)\n",
    "print(\"華氏 %.1f轉換為攝氏 %.f度\")"
   ]
  },
  {
   "cell_type": "code",
   "execution_count": 2,
   "metadata": {},
   "outputs": [
    {
     "name": "stdout",
     "output_type": "stream",
     "text": [
      "True 1 <class 'bool'>\n",
      "False 0 <class 'bool'>\n"
     ]
    }
   ],
   "source": [
    "a = 3\n",
    "b = (a == 3)\n",
    "print(b,int(b),type(b))\n",
    "c = (a != 3)\n",
    "print(c,int(c),type(c))"
   ]
  },
  {
   "cell_type": "code",
   "execution_count": 3,
   "metadata": {},
   "outputs": [
    {
     "name": "stdout",
     "output_type": "stream",
     "text": [
      "x 是否等於y? True\n"
     ]
    }
   ],
   "source": [
    "x,y = map (int,input(\"輸入兩個整數 x ,y :\").split())\n",
    "print(\"x 是否等於y? %s\" %(x == y))"
   ]
  }
 ],
 "metadata": {
  "kernelspec": {
   "display_name": "Python 3",
   "language": "python",
   "name": "python3"
  },
  "language_info": {
   "codemirror_mode": {
    "name": "ipython",
    "version": 3
   },
   "file_extension": ".py",
   "mimetype": "text/x-python",
   "name": "python",
   "nbconvert_exporter": "python",
   "pygments_lexer": "ipython3",
   "version": "3.11.2"
  }
 },
 "nbformat": 4,
 "nbformat_minor": 2
}
