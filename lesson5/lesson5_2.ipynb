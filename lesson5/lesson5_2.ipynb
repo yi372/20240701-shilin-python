{
 "cells": [
  {
   "cell_type": "code",
   "execution_count": 4,
   "metadata": {},
   "outputs": [
    {
     "name": "stdout",
     "output_type": "stream",
     "text": [
      "輸入數值要小於等於300\n"
     ]
    }
   ],
   "source": [
    "score = int(input (\"請輸入學生分數(最高300分):\"))\n",
    "if score < 0 :\n",
    "        print(\"輸入數值要大於等於0\")\n",
    "if score > 300 :\n",
    "        print(\"輸入數值要小於等於300\")\n",
    "if score >= 0:\n",
    "    if score <= 300:\n",
    "       print(\"在0-300內\")"
   ]
  },
  {
   "cell_type": "code",
   "execution_count": 5,
   "metadata": {},
   "outputs": [
    {
     "name": "stdout",
     "output_type": "stream",
     "text": [
      "在0-300內\n"
     ]
    }
   ],
   "source": [
    "score = int(input (\"請輸入學生分數(最高300分):\"))\n",
    "if score < 0 :\n",
    "        print(\"輸入數值要大於等於0\")\n",
    "if score > 300 :\n",
    "        print(\"輸入數值要小於等於300\")\n",
    "if score >= 0 and score <= 300 :\n",
    "    print(\"在0-300內\")"
   ]
  },
  {
   "cell_type": "code",
   "execution_count": 5,
   "metadata": {},
   "outputs": [],
   "source": [
    "number = int(input(\"請輸入整數:\"))\n",
    "if number < 0 :\n",
    "   print(f\"{number}是負整數\")\n",
    "if number > 0 :\n",
    "   print(f\"{number}是正整數\")\n",
    "if number "
   ]
  }
 ],
 "metadata": {
  "kernelspec": {
   "display_name": "Python 3",
   "language": "python",
   "name": "python3"
  },
  "language_info": {
   "codemirror_mode": {
    "name": "ipython",
    "version": 3
   },
   "file_extension": ".py",
   "mimetype": "text/x-python",
   "name": "python",
   "nbconvert_exporter": "python",
   "pygments_lexer": "ipython3",
   "version": "3.11.9"
  }
 },
 "nbformat": 4,
 "nbformat_minor": 2
}
