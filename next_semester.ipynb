{
 "cells": [
  {
   "cell_type": "code",
   "execution_count": 1,
   "metadata": {},
   "outputs": [
    {
     "name": "stdout",
     "output_type": "stream",
     "text": [
      "*****\n",
      "*   *\n",
      "*   *\n",
      "*   *\n",
      "*****\n"
     ]
    }
   ],
   "source": [
    "#空心四邊形\n",
    "n = int(input())\n",
    "print(\"*\" * n)\n",
    "#n-2 是因為最上面和最下面的兩行已經獨立處理，只需處理中間 n-2 行\n",
    "for i in range(0,(n - 2),1):\n",
    "    print(\"*\"+ \" \" * (n-2) + \"*\")\n",
    "if n > 1:\n",
    "    print(\"*\" * n)\n",
    "#n = 1，就不需要額外輸出（因為 print(\"*\" * n) 在第一行已經處理了）"
   ]
  },
  {
   "cell_type": "code",
   "execution_count": null,
   "metadata": {},
   "outputs": [
    {
     "name": "stdout",
     "output_type": "stream",
     "text": [
      "No carry operation.\n",
      "3 carry operations.\n",
      "1 carry operation.\n"
     ]
    }
   ],
   "source": [
    "#進位\n",
    "while True:\n",
    "    n,m = map(int,input().split())\n",
    "    if (n == 0) and (m == 0):\n",
    "        break\n",
    "    carry = 0\n",
    "    carry_count = 0\n",
    "    while n > 0 or m > 0 :\n",
    "        n_digit = n % 10\n",
    "        m_digit = m % 10\n",
    "        if n_digit + m_digit + carry >= 10:\n",
    "            carry = 1\n",
    "            carry_count += 1\n",
    "        else:\n",
    "            carry = 0\n",
    "        n = n // 10\n",
    "        m = m // 10\n",
    "    if carry_count == 0:\n",
    "        print(\"No carry operation.\")\n",
    "    elif carry_count == 1:\n",
    "        print(\"1 carry operation.\")\n",
    "    else:\n",
    "        print(\"%d carry operations.\" %carry_count)"
   ]
  },
  {
   "cell_type": "code",
   "execution_count": null,
   "metadata": {},
   "outputs": [
    {
     "name": "stdout",
     "output_type": "stream",
     "text": [
      "6\n"
     ]
    }
   ],
   "source": [
    "#蝸牛翻牆\n",
    "a,b,c,d = map(int,input().split())\n",
    "days = 0\n",
    "height = b\n",
    "while height < a:\n",
    "    days = days + 1\n",
    "    height = height + c\n",
    "    if height >= a:\n",
    "        break\n",
    "    height = height - d\n",
    "print(days)\n",
    "\n"
   ]
  },
  {
   "cell_type": "code",
   "execution_count": null,
   "metadata": {},
   "outputs": [
    {
     "name": "stdout",
     "output_type": "stream",
     "text": [
      "0 1 1 2 3 5 8 13\n"
     ]
    }
   ],
   "source": [
    "#fibonacci數列\n",
    "n = int(input())\n",
    "a,b = 0,1\n",
    "for i in range(1,n + 1):\n",
    "    if i != 1:\n",
    "        print(\" \",end =\"\")\n",
    "    print(a,end = \"\")\n",
    "    a,b = b,a + b\n",
    "print()"
   ]
  },
  {
   "cell_type": "code",
   "execution_count": null,
   "metadata": {},
   "outputs": [
    {
     "name": "stdout",
     "output_type": "stream",
     "text": [
      "20\n",
      "24\n",
      "125\n",
      "89\n",
      "174\n"
     ]
    }
   ],
   "source": [
    "#數列循環\n",
    "m = int(input())\n",
    "for k in range(0,m,1):\n",
    "    i,j = map(int,input().split())\n",
    "    max_cycle_length = 0\n",
    "    for num in range(i,j+1,1):\n",
    "        cycle_length = 1\n",
    "        while num != 1:\n",
    "            if num % 2 == 0:\n",
    "                num = num // 2\n",
    "            else:\n",
    "                num = 3 * num + 1\n",
    "            cycle_length = cycle_length + 1\n",
    "        if cycle_length > max_cycle_length:\n",
    "            max_cycle_length = cycle_length\n",
    "    print(max_cycle_length)"
   ]
  },
  {
   "cell_type": "code",
   "execution_count": null,
   "metadata": {},
   "outputs": [
    {
     "name": "stdout",
     "output_type": "stream",
     "text": [
      "The thief is 3\n"
     ]
    }
   ],
   "source": [
    "#thief\n",
    "for thief in range(1, 5):  \n",
    "    statement1 = (thief != 1)  \n",
    "    statement2 = (thief == 3)  \n",
    "    statement3 = (thief == 4)  \n",
    "    statement4 = (thief != 4)  \n",
    "    true_statements = 0  \n",
    "    if statement1 is True: \n",
    "        true_statements += 1  \n",
    "    if statement2 is True: \n",
    "        true_statements += 1  \n",
    "    if statement3 is True: \n",
    "        true_statements += 1  \n",
    "    if statement4 is True:\n",
    "        true_statements += 1  \n",
    "    if true_statements == 3:\n",
    "        print('The thief is', thief)"
   ]
  },
  {
   "cell_type": "code",
   "execution_count": null,
   "metadata": {},
   "outputs": [
    {
     "name": "stdout",
     "output_type": "stream",
     "text": [
      "150\n",
      "165\n",
      "185\n",
      "183\n",
      "156\n",
      "150\n",
      "175\n",
      "172\n",
      "168\n",
      "170\n"
     ]
    }
   ],
   "source": [
    "#翻轉吧身高\n",
    "N = int(input())\n",
    "heights = []\n",
    "for i in range(0,N,1):\n",
    "    height = int(input())\n",
    "    heights.append(height)\n",
    "heights.reverse()\n",
    "for height in heights:\n",
    "    print(height)"
   ]
  },
  {
   "cell_type": "code",
   "execution_count": null,
   "metadata": {},
   "outputs": [
    {
     "name": "stdout",
     "output_type": "stream",
     "text": [
      "6\n"
     ]
    }
   ],
   "source": [
    "#我掉了哪顆石頭\n",
    "stones = list(map(int,input().split()))\n",
    "for stone in stones:\n",
    "    if stones.count(stone) == 2:\n",
    "        print(stone)\n",
    "        break"
   ]
  },
  {
   "cell_type": "code",
   "execution_count": null,
   "metadata": {},
   "outputs": [
    {
     "name": "stdout",
     "output_type": "stream",
     "text": [
      "9 6 5 4 1\n"
     ]
    }
   ],
   "source": [
    "#泡沫排序法\n",
    "n = list(map(int,input().split()))\n",
    "#外層迴圈控制排序的回合數\n",
    "for i in range(0,len(n) - 1,1):\n",
    "    #內層迴圈進行元素交換\n",
    "    for j in range(0,len(n) - 1 - i,1):                \n",
    "        if n[j] < n[j + 1]:                    \n",
    "            n[j],n[j + 1] = n[j + 1],n[j]\n",
    "print(*n)\n",
    "#95416"
   ]
  },
  {
   "cell_type": "code",
   "execution_count": null,
   "metadata": {},
   "outputs": [
    {
     "name": "stdout",
     "output_type": "stream",
     "text": [
      "0\n",
      "4\n",
      "3\n",
      "2\n",
      "1\n",
      "8\n",
      "9\n",
      "5\n",
      "6\n",
      "7\n"
     ]
    }
   ],
   "source": [
    "n = input()\n",
    "count = []\n",
    "for times in n:\n",
    "    count.append(int(times))\n",
    "num_count = []\n",
    "for i in range(0,10,1):\n",
    "    num_count.append((i,count[i]))\n",
    "for i in range(0,9,1):\n",
    "    for j in range(i+1,10,1):\n",
    "        count_i = num_count[i][1]\n",
    "        count_j = num_count[j][1]\n",
    "        num_i = num_count[i][0]\n",
    "        num_j = num_count[j][0]\n",
    "        if (count_i < count_j) or (count_i == count_j and num_i > num_j):\n",
    "            num_count[i],num_count[j] = num_count[j],num_count[i]\n",
    "for i in range(0,10,1):\n",
    "    print(num_count[i][0])"
   ]
  },
  {
   "cell_type": "code",
   "execution_count": 9,
   "metadata": {},
   "outputs": [
    {
     "name": "stdout",
     "output_type": "stream",
     "text": [
      "0\n",
      "4\n",
      "3\n",
      "2\n",
      "1\n",
      "8\n",
      "9\n",
      "5\n",
      "6\n",
      "7\n"
     ]
    }
   ],
   "source": [
    "#排序數字出現次數\n",
    "counts = []\n",
    "for i in range(10):\n",
    "    num = int(input()) \n",
    "    counts.append(num)\n",
    "sorted_num = []\n",
    "while max(counts) != -1:\n",
    "    max_count = max(counts)  \n",
    "    for i in range(10):\n",
    "        if counts[i] == max_count:\n",
    "            sorted_num.append(i)  \n",
    "            counts[i] = -1  \n",
    "for num in sorted_num:\n",
    "    print(num)"
   ]
  },
  {
   "cell_type": "code",
   "execution_count": 4,
   "metadata": {},
   "outputs": [
    {
     "name": "stdout",
     "output_type": "stream",
     "text": [
      "5 9 0\n"
     ]
    }
   ],
   "source": [
    "#Move Zero\n",
    "n = int(input())\n",
    "A = list(map(int,(input().split())))\n",
    "no_zero = []\n",
    "zero_count = 0\n",
    "for num in A:\n",
    "    if num != 0:\n",
    "        no_zero.append(num)\n",
    "    else:\n",
    "        zero_count = zero_count + 1\n",
    "result = no_zero + [0] * zero_count\n",
    "print(*result)"
   ]
  },
  {
   "cell_type": "code",
   "execution_count": null,
   "metadata": {},
   "outputs": [
    {
     "name": "stdout",
     "output_type": "stream",
     "text": [
      "3\n"
     ]
    }
   ],
   "source": [
    "#Single Number\n",
    "A =list(map(int,input().split()))\n",
    "for num in A:\n",
    "    if A.count(num) == 1:\n",
    "        print(num)\n",
    "        break"
   ]
  },
  {
   "cell_type": "code",
   "execution_count": null,
   "metadata": {},
   "outputs": [
    {
     "name": "stdout",
     "output_type": "stream",
     "text": [
      "5 1\n"
     ]
    }
   ],
   "source": [
    "#找最大最小\n",
    "N =list(map(int,input().split()))\n",
    "Max = max(N)\n",
    "Min = min(N)\n",
    "print(Max,Min)"
   ]
  },
  {
   "cell_type": "code",
   "execution_count": null,
   "metadata": {},
   "outputs": [
    {
     "name": "stdout",
     "output_type": "stream",
     "text": [
      "11\n"
     ]
    }
   ],
   "source": [
    "#陣列連加器\n",
    "numbers = list(map(int,input().split()))\n",
    "total = sum(numbers)\n",
    "print(total)"
   ]
  },
  {
   "cell_type": "code",
   "execution_count": null,
   "metadata": {},
   "outputs": [
    {
     "name": "stdout",
     "output_type": "stream",
     "text": [
      "3\n"
     ]
    }
   ],
   "source": [
    "#找出中位數\n",
    "array = list(map(int,input().split()))\n",
    "for i in range(len(array) - 1):\n",
    "    min_index = i\n",
    "    for j in range(i + 1, len(array)):\n",
    "        if array[j] < array[min_index]:\n",
    "            min_index = j\n",
    "    array[i],array[min_index] = array[min_index],array[i]\n",
    "print(array[2])"
   ]
  },
  {
   "cell_type": "code",
   "execution_count": null,
   "metadata": {},
   "outputs": [
    {
     "name": "stdout",
     "output_type": "stream",
     "text": [
      "100\n"
     ]
    }
   ],
   "source": [
    "#找最大的相乘\n",
    "array = list(map(int,input().split()))\n",
    "max1 = max(array)\n",
    "array.remove(max1)\n",
    "max2 = max(array)\n",
    "print(max1 * max2)"
   ]
  },
  {
   "cell_type": "code",
   "execution_count": null,
   "metadata": {},
   "outputs": [
    {
     "name": "stdout",
     "output_type": "stream",
     "text": [
      "3 4\n"
     ]
    }
   ],
   "source": [
    "#遺失的數字\n",
    "array = list(map(int,input().split()))\n",
    "max_value = max(array)\n",
    "min_value = min(array)\n",
    "missing_nums = []\n",
    "for num in range(min_value + 1,max_value,1):\n",
    "    if num not in array:\n",
    "        missing_nums.append(num)\n",
    "if len(missing_nums) > 0: #只要陣列裏頭有元素\n",
    "    for i in range(len(missing_nums)):\n",
    "        if i == len(missing_nums) - 1:\n",
    "            print(missing_nums[i])\n",
    "        else:\n",
    "            print(missing_nums[i],end = \" \")"
   ]
  },
  {
   "cell_type": "code",
   "execution_count": null,
   "metadata": {},
   "outputs": [
    {
     "name": "stdout",
     "output_type": "stream",
     "text": [
      "8\n"
     ]
    }
   ],
   "source": [
    "#找重覆的數字\n",
    "array = list(map(int,input().split()))\n",
    "deplicate = []\n",
    "for num in array:\n",
    "    if array.count(num) > 1 and num not in deplicate:\n",
    "        deplicate.append(num)\n",
    "deplicate.sort()\n",
    "print(*deplicate)   \n"
   ]
  },
  {
   "cell_type": "code",
   "execution_count": null,
   "metadata": {},
   "outputs": [
    {
     "name": "stdout",
     "output_type": "stream",
     "text": [
      "0 4\n"
     ]
    }
   ],
   "source": [
    "#找出7的位置\n",
    "nums = list(map(int,input().split()))\n",
    "seven_index = []\n",
    "for i in range(0,len(nums),1):\n",
    "    if nums[i] == 7:\n",
    "        seven_index.append(i)\n",
    "for i in range(0,len(seven_index),1):\n",
    "    if i == len(seven_index) - 1:\n",
    "        print(seven_index[i])\n",
    "    else:\n",
    "        print(seven_index[i],end = \" \")"
   ]
  },
  {
   "cell_type": "code",
   "execution_count": null,
   "metadata": {},
   "outputs": [
    {
     "name": "stdout",
     "output_type": "stream",
     "text": [
      "5 8 6 2 9\n"
     ]
    }
   ],
   "source": [
    "#刪除大於k的串列元素\n",
    "nums = list(map(int,input().split()))\n",
    "k = int(input())\n",
    "del_num = []\n",
    "for num in nums:\n",
    "    if num <= k:\n",
    "        del_num.append(num)\n",
    "print(*del_num)\n"
   ]
  },
  {
   "cell_type": "code",
   "execution_count": null,
   "metadata": {},
   "outputs": [
    {
     "name": "stdout",
     "output_type": "stream",
     "text": [
      "5 8 6 2 30\n"
     ]
    }
   ],
   "source": [
    "#刪除重複的元素\n",
    "n = int(input())\n",
    "nums = list(map(int,input().split()))\n",
    "del_nums = []\n",
    "for num in nums:\n",
    "    if nums.count(num) == 1:\n",
    "        del_nums.append(num)\n",
    "print(*del_nums)"
   ]
  },
  {
   "cell_type": "code",
   "execution_count": null,
   "metadata": {},
   "outputs": [
    {
     "name": "stdout",
     "output_type": "stream",
     "text": [
      "2\n",
      "3\n",
      "4\n",
      "5\n",
      "6\n",
      "8\n",
      "11\n",
      "24\n",
      "63 7.875\n"
     ]
    }
   ],
   "source": [
    "#串列函式練習\n",
    "n = int(input())\n",
    "nums = []\n",
    "for i in range(n):\n",
    "    num = int(input())\n",
    "    nums.append(num)\n",
    "nums.sort()\n",
    "total = sum(nums)\n",
    "average = total / n\n",
    "for num in nums:\n",
    "    print(num)\n",
    "print(\"%d %.3f\" %(total,average))"
   ]
  },
  {
   "cell_type": "code",
   "execution_count": null,
   "metadata": {},
   "outputs": [
    {
     "name": "stdout",
     "output_type": "stream",
     "text": [
      "1 3\n",
      "2 2\n",
      "3 1\n"
     ]
    }
   ],
   "source": [
    "#翻轉矩陣\n",
    "n = list(map(int,input().split()))\n",
    "m = list(map(int,input().split()))\n",
    "print(n[0],m[0])\n",
    "print(n[1],m[1])\n",
    "print(n[2],m[2])"
   ]
  },
  {
   "cell_type": "code",
   "execution_count": null,
   "metadata": {},
   "outputs": [
    {
     "name": "stdout",
     "output_type": "stream",
     "text": [
      "10 10 26\n"
     ]
    }
   ],
   "source": [
    "#矩陣內的和\n",
    "n = list(map(int,input().split()))\n",
    "m = list(map(int,input().split()))\n",
    "o = list(map(int,input().split()))\n",
    "sum_n = sum(n)\n",
    "sum_m = sum(m)\n",
    "sum_o = sum(o)\n",
    "print(sum_n,sum_m,sum_o)"
   ]
  },
  {
   "cell_type": "code",
   "execution_count": null,
   "metadata": {},
   "outputs": [
    {
     "name": "stdout",
     "output_type": "stream",
     "text": [
      "1\n"
     ]
    }
   ],
   "source": [
    "#找交集\n",
    "n1 = list(map(int,input().split()))\n",
    "n2 = list(map(int,input().split()))\n",
    "repeat = []\n",
    "for num in n1:\n",
    "    if num in n2:\n",
    "        if num not in repeat:\n",
    "            repeat.append(num)\n",
    "repeat.sort()\n",
    "print(*repeat)"
   ]
  },
  {
   "cell_type": "code",
   "execution_count": null,
   "metadata": {},
   "outputs": [
    {
     "name": "stdout",
     "output_type": "stream",
     "text": [
      "15 15 26 39 26\n",
      "56 54 55 62 56 67 55\n"
     ]
    }
   ],
   "source": [
    "# 分割陣列\n",
    "nums = list(map(int,input().split()))\n",
    "average = round(sum(nums) / len(nums))\n",
    "less_average = []\n",
    "more_average = []\n",
    "for num in nums:\n",
    "    if num < average:\n",
    "        less_average.append(num)\n",
    "    else:\n",
    "        more_average.append(num)\n",
    "for i in range(len(less_average)):\n",
    "    if i == len(less_average) - 1:\n",
    "        print(less_average[i])\n",
    "    else:\n",
    "        print(less_average[i], end = \" \")\n",
    "for i in range(len(more_average)):\n",
    "    if i == len(more_average) - 1:\n",
    "        print(more_average[i])\n",
    "    else:\n",
    "        print(more_average[i], end = \" \")"
   ]
  },
  {
   "cell_type": "code",
   "execution_count": 1,
   "metadata": {},
   "outputs": [
    {
     "name": "stdout",
     "output_type": "stream",
     "text": [
      "2 2 3 5\n"
     ]
    }
   ],
   "source": [
    "#質因數分解\n",
    "n = int(input())\n",
    "factors = []\n",
    "for i in range(2,n+1):\n",
    "    while n % i == 0:\n",
    "        factors.append(i)\n",
    "        n = n // i\n",
    "for i in range(len(factors)):\n",
    "    if i == len(factors) - 1:\n",
    "        print(factors[i])\n",
    "    else:\n",
    "        print(factors[i] ,end = \" \")"
   ]
  },
  {
   "cell_type": "code",
   "execution_count": 12,
   "metadata": {},
   "outputs": [
    {
     "name": "stdout",
     "output_type": "stream",
     "text": [
      "(8, 7, 5, 2, 2)\n"
     ]
    }
   ],
   "source": [
    "#元祖練習\n",
    "n = int(input())\n",
    "nums = []\n",
    "for i in range(n):\n",
    "    num = int(input())\n",
    "    nums.append(num)\n",
    "nums.sort(reverse = True)\n",
    "print(tuple(nums))"
   ]
  },
  {
   "cell_type": "code",
   "execution_count": null,
   "metadata": {},
   "outputs": [
    {
     "name": "stdout",
     "output_type": "stream",
     "text": [
      "3.67\n"
     ]
    }
   ],
   "source": [
    "#二維陣列練習\n",
    "i = int(input()) #列\n",
    "j = int(input()) #行\n",
    "matrix = []\n",
    "for k in range(i):\n",
    "    row = list(map(int,input().split()))\n",
    "    matrix.append(row)\n",
    "sum_element = 0\n",
    "for index in range(i):\n",
    "    sum_element = sum_element + matrix[index][index]\n",
    "average = sum_element / i\n",
    "print(\"%.2f\" %average)"
   ]
  },
  {
   "cell_type": "code",
   "execution_count": null,
   "metadata": {},
   "outputs": [
    {
     "name": "stdout",
     "output_type": "stream",
     "text": [
      "1 0 3\n",
      "0 0 0\n",
      "4 0 6\n"
     ]
    }
   ],
   "source": [
    "#零元素處理\n",
    "n = int(input()) #列數 \n",
    "m = int(input()) #行數\n",
    "matrix = []\n",
    "for _ in range(n):\n",
    "    row = list(map(int,input().split()))\n",
    "    matrix.append(row)\n",
    "row = []  # 存哪幾列出現過 0\n",
    "colunm = [] # 存哪幾行出現過 0\n",
    "for i in range(n):\n",
    "    for j in range(m):\n",
    "        if matrix[i][j] == 0:\n",
    "            row.append(i)\n",
    "            colunm.append(j)\n",
    "#把列或行在 rows 或 cols 裡的元素設成 0\n",
    "for i in range(n):\n",
    "    for j in range(m):\n",
    "        if i in row or j in colunm:\n",
    "            matrix[i][j] = 0\n",
    "for i in range(n):\n",
    "    for j in range(m):\n",
    "        if j == m - 1:\n",
    "            print(matrix[i][j])\n",
    "        else:\n",
    "            print(matrix[i][j],end = \" \")\n"
   ]
  },
  {
   "cell_type": "code",
   "execution_count": null,
   "metadata": {},
   "outputs": [
    {
     "name": "stdout",
     "output_type": "stream",
     "text": [
      "7 4 1\n",
      "8 5 2\n",
      "9 6 3\n"
     ]
    }
   ],
   "source": [
    "#順時針旋轉矩陣\n",
    "n = int(input())\n",
    "matrix = []\n",
    "for _ in range(n):\n",
    "    row = list(map(int, input().split()))\n",
    "    matrix.append(row)\n",
    "#轉置（i, j）跟（j, i）交換 行列互換\n",
    "#1 4 7\n",
    "#2 5 8\n",
    "#3 6 9\n",
    "for i in range(n):\n",
    "    for j in range(i + 1):\n",
    "        matrix[i][j],matrix[j][i] = matrix[j][i],matrix[i][j]\n",
    "#每一列再反轉\n",
    "#7 4 1\n",
    "#8 5 2\n",
    "#9 6 3\n",
    "for i in range(n):\n",
    "    matrix [i].reverse()\n",
    "for i in range(n):\n",
    "    for j in range(n):\n",
    "        if j == n - 1:\n",
    "            print(matrix[i][j])\n",
    "        else:\n",
    "            print(matrix[i][j], end = \" \")"
   ]
  },
  {
   "cell_type": "code",
   "execution_count": null,
   "metadata": {},
   "outputs": [],
   "source": []
  },
  {
   "cell_type": "code",
   "execution_count": null,
   "metadata": {},
   "outputs": [
    {
     "ename": "IndexError",
     "evalue": "list index out of range",
     "output_type": "error",
     "traceback": [
      "\u001b[0;31m---------------------------------------------------------------------------\u001b[0m",
      "\u001b[0;31mIndexError\u001b[0m                                Traceback (most recent call last)",
      "Cell \u001b[0;32mIn[13], line 6\u001b[0m\n\u001b[1;32m      4\u001b[0m n4 \u001b[38;5;241m=\u001b[39m \u001b[38;5;28mlist\u001b[39m(\u001b[38;5;28mmap\u001b[39m(\u001b[38;5;28mint\u001b[39m,\u001b[38;5;28minput\u001b[39m()\u001b[38;5;241m.\u001b[39msplit()))\n\u001b[1;32m      5\u001b[0m n5 \u001b[38;5;241m=\u001b[39m \u001b[38;5;28mlist\u001b[39m(\u001b[38;5;28mmap\u001b[39m(\u001b[38;5;28mint\u001b[39m,\u001b[38;5;28minput\u001b[39m()\u001b[38;5;241m.\u001b[39msplit()))\n\u001b[0;32m----> 6\u001b[0m a \u001b[38;5;241m=\u001b[39m n1[\u001b[38;5;241m0\u001b[39m] \u001b[38;5;241m*\u001b[39m n3[\u001b[38;5;241m0\u001b[39m] \u001b[38;5;241m+\u001b[39m n1[\u001b[38;5;241m1\u001b[39m] \u001b[38;5;241m*\u001b[39m n4[\u001b[38;5;241m0\u001b[39m] \u001b[38;5;241m+\u001b[39m \u001b[43mn3\u001b[49m\u001b[43m[\u001b[49m\u001b[38;5;241;43m2\u001b[39;49m\u001b[43m]\u001b[49m \u001b[38;5;241m*\u001b[39m n5[\u001b[38;5;241m0\u001b[39m]\n\u001b[1;32m      7\u001b[0m b \u001b[38;5;241m=\u001b[39m n1[\u001b[38;5;241m0\u001b[39m] \u001b[38;5;241m*\u001b[39m n3[\u001b[38;5;241m1\u001b[39m] \u001b[38;5;241m+\u001b[39m n1[\u001b[38;5;241m1\u001b[39m] \u001b[38;5;241m*\u001b[39m n4[\u001b[38;5;241m1\u001b[39m] \u001b[38;5;241m+\u001b[39m n3[\u001b[38;5;241m2\u001b[39m] \u001b[38;5;241m*\u001b[39m n5[\u001b[38;5;241m1\u001b[39m]\n\u001b[1;32m      8\u001b[0m c \u001b[38;5;241m=\u001b[39m n2[\u001b[38;5;241m0\u001b[39m] \u001b[38;5;241m*\u001b[39m n3[\u001b[38;5;241m0\u001b[39m] \u001b[38;5;241m+\u001b[39m n2[\u001b[38;5;241m1\u001b[39m] \u001b[38;5;241m*\u001b[39m n4[\u001b[38;5;241m0\u001b[39m] \u001b[38;5;241m+\u001b[39m n2[\u001b[38;5;241m2\u001b[39m] \u001b[38;5;241m*\u001b[39m n5[\u001b[38;5;241m0\u001b[39m]\n",
      "\u001b[0;31mIndexError\u001b[0m: list index out of range"
     ]
    }
   ],
   "source": [
    "n1 = list(map(int,input().split()))\n",
    "n2 = list(map(int,input().split()))\n",
    "n3 = list(map(int,input().split()))\n",
    "n4 = list(map(int,input().split()))\n",
    "n5 = list(map(int,input().split()))\n",
    "a = n1[0] * n3[0] + n1[1] * n4[0] + n3[2] * n5[0]\n",
    "b = n1[0] * n3[1] + n1[1] * n4[1] + n3[2] * n5[1]\n",
    "c = n2[0] * n3[0] + n2[1] * n4[0] + n2[2] * n5[0]\n",
    "d = n2[1] * n3[1] + n2[1] * n4[1] + n2[2] * n5[1]\n",
    "print(a,end = \" \")\n",
    "print(b)\n",
    "print(c,end = \" \")\n",
    "print(d)"
   ]
  }
 ],
 "metadata": {
  "kernelspec": {
   "display_name": "Python 3",
   "language": "python",
   "name": "python3"
  },
  "language_info": {
   "codemirror_mode": {
    "name": "ipython",
    "version": 3
   },
   "file_extension": ".py",
   "mimetype": "text/x-python",
   "name": "python",
   "nbconvert_exporter": "python",
   "pygments_lexer": "ipython3",
   "version": "3.11.10"
  }
 },
 "nbformat": 4,
 "nbformat_minor": 2
}
