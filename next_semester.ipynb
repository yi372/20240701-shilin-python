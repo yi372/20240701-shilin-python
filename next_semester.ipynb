{
 "cells": [
  {
   "cell_type": "code",
   "execution_count": 5,
   "metadata": {},
   "outputs": [
    {
     "name": "stdout",
     "output_type": "stream",
     "text": [
      "**\n",
      "**\n"
     ]
    }
   ],
   "source": [
    "#空心四邊形\n",
    "n = int(input())\n",
    "print(\"*\" * n)\n",
    "for i in range(0,(n - 2),1):\n",
    "    print(\"*\"+ \" \" * (n-2) + \"*\")\n",
    "if n > 1:\n",
    "    print(\"*\" * n)"
   ]
  },
  {
   "cell_type": "code",
   "execution_count": 16,
   "metadata": {},
   "outputs": [
    {
     "name": "stdout",
     "output_type": "stream",
     "text": [
      "No carry operation.\n",
      "3 carry operations.\n",
      "1 carry operation.\n"
     ]
    }
   ],
   "source": [
    "#進位\n",
    "while True:\n",
    "    n,m = map(int,input().split())\n",
    "    if (n == 0) and (m == 0):\n",
    "        break\n",
    "    carry = 0\n",
    "    carry_count = 0\n",
    "    while n > 0 or m > 0 :\n",
    "        n_digit = n % 10\n",
    "        m_digit = m % 10\n",
    "        if n_digit + m_digit + carry >= 10:\n",
    "            carry = 1\n",
    "            carry_count += 1\n",
    "        else:\n",
    "            carry = 0\n",
    "        n = n // 10\n",
    "        m = m // 10\n",
    "    if carry_count == 0:\n",
    "        print(\"No carry operation.\")\n",
    "    elif carry_count == 1:\n",
    "        print(\"1 carry operation.\")\n",
    "    else:\n",
    "        print(\"%d carry operations.\" %carry_count)"
   ]
  },
  {
   "cell_type": "code",
   "execution_count": null,
   "metadata": {},
   "outputs": [
    {
     "name": "stdout",
     "output_type": "stream",
     "text": [
      "0 1 1 2 3 5 8 13\n"
     ]
    }
   ],
   "source": [
    "#fibonacci數列\n",
    "n = int(input())\n",
    "a,b = 0,1\n",
    "for i in range(1,n + 1):\n",
    "    if i != 1:\n",
    "        print(\" \",end =\"\")\n",
    "    print(a,end = \"\")\n",
    "    a,b = b,a + b\n",
    "print()"
   ]
  },
  {
   "cell_type": "code",
   "execution_count": 4,
   "metadata": {},
   "outputs": [
    {
     "name": "stdout",
     "output_type": "stream",
     "text": [
      "The thief is 3\n"
     ]
    }
   ],
   "source": [
    "#thief\n",
    "for thief in range(1, 5):  \n",
    "    statement1 = (thief != 1)  \n",
    "    statement2 = (thief == 3)  \n",
    "    statement3 = (thief == 4)  \n",
    "    statement4 = (thief != 4)  \n",
    "    true_statements = 0  \n",
    "    if statement1 is True: \n",
    "        true_statements += 1  \n",
    "    if statement2 is True: \n",
    "        true_statements += 1  \n",
    "    if statement3 is True: \n",
    "        true_statements += 1  \n",
    "    if statement4 is True:\n",
    "        true_statements += 1  \n",
    "    if true_statements == 3:\n",
    "        print('The thief is', thief)"
   ]
  },
  {
   "cell_type": "code",
   "execution_count": 14,
   "metadata": {},
   "outputs": [
    {
     "name": "stdout",
     "output_type": "stream",
     "text": [
      "11\n"
     ]
    }
   ],
   "source": [
    "#陣列連加器\n",
    "numbers = list(map(int,input().split()))\n",
    "total = sum(numbers)\n",
    "print(total)"
   ]
  },
  {
   "cell_type": "code",
   "execution_count": 15,
   "metadata": {},
   "outputs": [
    {
     "name": "stdout",
     "output_type": "stream",
     "text": [
      "3\n"
     ]
    }
   ],
   "source": [
    "#找出中位數\n",
    "array = list(map(int,input().split()))\n",
    "for i in range(len(array) - 1):\n",
    "    min_index = i\n",
    "    for j in range(i + 1, len(array)):\n",
    "        if array[j] < array[min_index]:\n",
    "            min_index = j\n",
    "    array[i],array[min_index] = array[min_index],array[i]\n",
    "print(array[2])"
   ]
  },
  {
   "cell_type": "code",
   "execution_count": 14,
   "metadata": {},
   "outputs": [
    {
     "name": "stdout",
     "output_type": "stream",
     "text": [
      "100\n"
     ]
    }
   ],
   "source": [
    "#找最大的相乘\n",
    "array = list(map(int,input().split()))\n",
    "max1 = max(array)\n",
    "array.remove(max1)\n",
    "max2 = max(array)\n",
    "print(max1 * max2)"
   ]
  },
  {
   "cell_type": "code",
   "execution_count": 6,
   "metadata": {},
   "outputs": [
    {
     "name": "stdout",
     "output_type": "stream",
     "text": [
      "3 4\n"
     ]
    }
   ],
   "source": [
    "#遺失的數字\n",
    "array = list(map(int,input().split()))\n",
    "max_value = max(array)\n",
    "min_value = min(array)\n",
    "missing_nums = []\n",
    "for num in range(min_value + 1,max_value,1):\n",
    "    if num not in array:\n",
    "        missing_nums.append(num)\n",
    "if len(missing_nums) > 0:\n",
    "    for i in range(len(missing_nums)):\n",
    "        if i == len(missing_nums) - 1:\n",
    "            print(missing_nums[i])\n",
    "        else:\n",
    "            print(missing_nums[i],end = \" \")"
   ]
  },
  {
   "cell_type": "code",
   "execution_count": 11,
   "metadata": {},
   "outputs": [
    {
     "name": "stdout",
     "output_type": "stream",
     "text": [
      "8\n"
     ]
    }
   ],
   "source": [
    "#找重覆的數字\n",
    "array = list(map(int,input().split()))\n",
    "deplicate = []\n",
    "for num in array:\n",
    "    if array.count(num) > 1 and num not in deplicate:\n",
    "        deplicate.append(num)\n",
    "deplicate.sort()   \n",
    "if len(deplicate) > 0:\n",
    "    for i in range(len(deplicate)):\n",
    "        if i == len(deplicate) - 1:\n",
    "            print(deplicate[i])\n",
    "        else:\n",
    "            print(deplicate[i],end = \" \")"
   ]
  }
 ],
 "metadata": {
  "kernelspec": {
   "display_name": "Python 3",
   "language": "python",
   "name": "python3"
  },
  "language_info": {
   "codemirror_mode": {
    "name": "ipython",
    "version": 3
   },
   "file_extension": ".py",
   "mimetype": "text/x-python",
   "name": "python",
   "nbconvert_exporter": "python",
   "pygments_lexer": "ipython3",
   "version": "3.11.10"
  }
 },
 "nbformat": 4,
 "nbformat_minor": 2
}
