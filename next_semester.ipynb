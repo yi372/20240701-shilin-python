{
 "cells": [
  {
   "cell_type": "code",
   "execution_count": 5,
   "metadata": {},
   "outputs": [
    {
     "name": "stdout",
     "output_type": "stream",
     "text": [
      "**\n",
      "**\n"
     ]
    }
   ],
   "source": [
    "#空心四邊形\n",
    "n = int(input())\n",
    "print(\"*\" * n)\n",
    "for i in range(0,(n - 2),1):\n",
    "    print(\"*\"+ \" \" * (n-2) + \"*\")\n",
    "if n > 1:\n",
    "    print(\"*\" * n)"
   ]
  },
  {
   "cell_type": "code",
   "execution_count": 16,
   "metadata": {},
   "outputs": [
    {
     "name": "stdout",
     "output_type": "stream",
     "text": [
      "No carry operation.\n",
      "3 carry operations.\n",
      "1 carry operation.\n"
     ]
    }
   ],
   "source": [
    "#進位\n",
    "while True:\n",
    "    n,m = map(int,input().split())\n",
    "    if (n == 0) and (m == 0):\n",
    "        break\n",
    "    carry = 0\n",
    "    carry_count = 0\n",
    "    while n > 0 or m > 0 :\n",
    "        n_digit = n % 10\n",
    "        m_digit = m % 10\n",
    "        if n_digit + m_digit + carry >= 10:\n",
    "            carry = 1\n",
    "            carry_count += 1\n",
    "        else:\n",
    "            carry = 0\n",
    "        n = n // 10\n",
    "        m = m // 10\n",
    "    if carry_count == 0:\n",
    "        print(\"No carry operation.\")\n",
    "    elif carry_count == 1:\n",
    "        print(\"1 carry operation.\")\n",
    "    else:\n",
    "        print(\"%d carry operations.\" %carry_count)"
   ]
  },
  {
   "cell_type": "code",
   "execution_count": null,
   "metadata": {},
   "outputs": [
    {
     "name": "stdout",
     "output_type": "stream",
     "text": [
      "0 1 1 2 3 5 8 13\n"
     ]
    }
   ],
   "source": [
    "#fibonacci數列\n",
    "n = int(input())\n",
    "a,b = 0,1\n",
    "for i in range(1,n + 1):\n",
    "    if i != 1:\n",
    "        print(\" \",end =\"\")\n",
    "    print(a,end = \"\")\n",
    "    a,b = b,a + b\n",
    "print()"
   ]
  },
  {
   "cell_type": "code",
   "execution_count": 4,
   "metadata": {},
   "outputs": [
    {
     "name": "stdout",
     "output_type": "stream",
     "text": [
      "The thief is 3\n"
     ]
    }
   ],
   "source": [
    "#thief\n",
    "for thief in range(1, 5):  \n",
    "    statement1 = (thief != 1)  \n",
    "    statement2 = (thief == 3)  \n",
    "    statement3 = (thief == 4)  \n",
    "    statement4 = (thief != 4)  \n",
    "    true_statements = 0  \n",
    "    if statement1 is True: \n",
    "        true_statements += 1  \n",
    "    if statement2 is True: \n",
    "        true_statements += 1  \n",
    "    if statement3 is True: \n",
    "        true_statements += 1  \n",
    "    if statement4 is True:\n",
    "        true_statements += 1  \n",
    "    if true_statements == 3:\n",
    "        print('The thief is', thief)"
   ]
  }
 ],
 "metadata": {
  "kernelspec": {
   "display_name": "Python 3",
   "language": "python",
   "name": "python3"
  },
  "language_info": {
   "codemirror_mode": {
    "name": "ipython",
    "version": 3
   },
   "file_extension": ".py",
   "mimetype": "text/x-python",
   "name": "python",
   "nbconvert_exporter": "python",
   "pygments_lexer": "ipython3",
   "version": "3.11.2"
  }
 },
 "nbformat": 4,
 "nbformat_minor": 2
}
