{
 "cells": [
  {
   "cell_type": "code",
   "execution_count": 5,
   "metadata": {},
   "outputs": [
    {
     "name": "stdout",
     "output_type": "stream",
     "text": [
      "**\n",
      "**\n"
     ]
    }
   ],
   "source": [
    "#空心四邊形\n",
    "n = int(input())\n",
    "print(\"*\" * n)\n",
    "for i in range(0,(n - 2),1):\n",
    "    print(\"*\"+ \" \" * (n-2) + \"*\")\n",
    "if n > 1:\n",
    "    print(\"*\" * n)"
   ]
  },
  {
   "cell_type": "code",
   "execution_count": 16,
   "metadata": {},
   "outputs": [
    {
     "name": "stdout",
     "output_type": "stream",
     "text": [
      "No carry operation.\n",
      "3 carry operations.\n",
      "1 carry operation.\n"
     ]
    }
   ],
   "source": [
    "#進位\n",
    "while True:\n",
    "    n,m = map(int,input().split())\n",
    "    if (n == 0) and (m == 0):\n",
    "        break\n",
    "    carry = 0\n",
    "    carry_count = 0\n",
    "    while n > 0 or m > 0 :\n",
    "        n_digit = n % 10\n",
    "        m_digit = m % 10\n",
    "        if n_digit + m_digit + carry >= 10:\n",
    "            carry = 1\n",
    "            carry_count += 1\n",
    "        else:\n",
    "            carry = 0\n",
    "        n = n // 10\n",
    "        m = m // 10\n",
    "    if carry_count == 0:\n",
    "        print(\"No carry operation.\")\n",
    "    elif carry_count == 1:\n",
    "        print(\"1 carry operation.\")\n",
    "    else:\n",
    "        print(\"%d carry operations.\" %carry_count)"
   ]
  },
  {
   "cell_type": "code",
   "execution_count": 2,
   "metadata": {},
   "outputs": [
    {
     "name": "stdout",
     "output_type": "stream",
     "text": [
      "6\n"
     ]
    }
   ],
   "source": [
    "#蝸牛翻牆\n",
    "a,b,c,d = map(int,input().split())\n",
    "days = 0\n",
    "height = b\n",
    "while height < a:\n",
    "    days = days + 1\n",
    "    height = height + c\n",
    "    if height >= a:\n",
    "        break\n",
    "    height = height - d\n",
    "print(days)\n",
    "\n"
   ]
  },
  {
   "cell_type": "code",
   "execution_count": null,
   "metadata": {},
   "outputs": [
    {
     "name": "stdout",
     "output_type": "stream",
     "text": [
      "0 1 1 2 3 5 8 13\n"
     ]
    }
   ],
   "source": [
    "#fibonacci數列\n",
    "n = int(input())\n",
    "a,b = 0,1\n",
    "for i in range(1,n + 1):\n",
    "    if i != 1:\n",
    "        print(\" \",end =\"\")\n",
    "    print(a,end = \"\")\n",
    "    a,b = b,a + b\n",
    "print()"
   ]
  },
  {
   "cell_type": "code",
   "execution_count": null,
   "metadata": {},
   "outputs": [
    {
     "name": "stdout",
     "output_type": "stream",
     "text": [
      "20\n",
      "24\n",
      "125\n",
      "89\n",
      "174\n"
     ]
    }
   ],
   "source": [
    "#數列循環\n",
    "m = int(input())\n",
    "for k in range(0,m,1):\n",
    "    i,j = map(int,input().split())\n",
    "    max_cycle_length = 0\n",
    "    for num in range(i,j+1,1):\n",
    "        cycle_length = 1\n",
    "        while num != 1:\n",
    "            if num % 2 == 0:\n",
    "                num = num // 2\n",
    "            else:\n",
    "                num = 3 * num + 1\n",
    "            cycle_length = cycle_length + 1\n",
    "        if cycle_length > max_cycle_length:\n",
    "            max_cycle_length = cycle_length\n",
    "    print(max_cycle_length)"
   ]
  },
  {
   "cell_type": "code",
   "execution_count": 4,
   "metadata": {},
   "outputs": [
    {
     "name": "stdout",
     "output_type": "stream",
     "text": [
      "The thief is 3\n"
     ]
    }
   ],
   "source": [
    "#thief\n",
    "for thief in range(1, 5):  \n",
    "    statement1 = (thief != 1)  \n",
    "    statement2 = (thief == 3)  \n",
    "    statement3 = (thief == 4)  \n",
    "    statement4 = (thief != 4)  \n",
    "    true_statements = 0  \n",
    "    if statement1 is True: \n",
    "        true_statements += 1  \n",
    "    if statement2 is True: \n",
    "        true_statements += 1  \n",
    "    if statement3 is True: \n",
    "        true_statements += 1  \n",
    "    if statement4 is True:\n",
    "        true_statements += 1  \n",
    "    if true_statements == 3:\n",
    "        print('The thief is', thief)"
   ]
  },
  {
   "cell_type": "code",
   "execution_count": 2,
   "metadata": {},
   "outputs": [
    {
     "name": "stdout",
     "output_type": "stream",
     "text": [
      "150\n",
      "165\n",
      "185\n",
      "183\n",
      "156\n",
      "150\n",
      "175\n",
      "172\n",
      "168\n",
      "170\n"
     ]
    }
   ],
   "source": [
    "#翻轉吧身高\n",
    "N = int(input())\n",
    "heights = []\n",
    "for i in range(0,N,1):\n",
    "    height = int(input())\n",
    "    heights.append(height)\n",
    "heights.reverse()\n",
    "for height in heights:\n",
    "    print(height)"
   ]
  },
  {
   "cell_type": "code",
   "execution_count": 13,
   "metadata": {},
   "outputs": [
    {
     "name": "stdout",
     "output_type": "stream",
     "text": [
      "6\n"
     ]
    }
   ],
   "source": [
    "#我掉了哪顆石頭\n",
    "stones = list(map(int,input().split()))\n",
    "for stone in stones:\n",
    "    if stones.count(stone) == 2:\n",
    "        print(stone)\n",
    "        break"
   ]
  },
  {
   "cell_type": "code",
   "execution_count": 4,
   "metadata": {},
   "outputs": [
    {
     "name": "stdout",
     "output_type": "stream",
     "text": [
      "0\n",
      "4\n",
      "3\n",
      "2\n",
      "1\n",
      "8\n",
      "9\n",
      "5\n",
      "6\n",
      "7\n"
     ]
    }
   ],
   "source": [
    "n = input()\n",
    "count = []\n",
    "for times in n:\n",
    "    count.append(int(times))\n",
    "num_count = []\n",
    "for i in range(0,10,1):\n",
    "    num_count.append((i,count[i]))\n",
    "for i in range(0,9,1):\n",
    "    for j in range(i+1,10,1):\n",
    "        count_i = num_count[i][1]\n",
    "        count_j = num_count[j][1]\n",
    "        num_i = num_count[i][0]\n",
    "        num_j = num_count[j][0]\n",
    "        if (count_i < count_j) or (count_i == count_j and num_i > num_j):\n",
    "            num_count[i],num_count[j] = num_count[j],num_count[i]\n",
    "for i in range(0,10,1):\n",
    "    print(num_count[i][0])"
   ]
  },
  {
   "cell_type": "code",
   "execution_count": null,
   "metadata": {},
   "outputs": [],
   "source": []
  },
  {
   "cell_type": "code",
   "execution_count": 5,
   "metadata": {},
   "outputs": [
    {
     "name": "stdout",
     "output_type": "stream",
     "text": [
      "3 1 8 0 0\n"
     ]
    }
   ],
   "source": [
    "#Move Zero\n",
    "n = input()\n",
    "A = map(int,(input().split()))\n",
    "no_zero = []\n",
    "zero_count = 0\n",
    "for num in A:\n",
    "    if num != 0:\n",
    "        no_zero.append(num)\n",
    "    else:\n",
    "        zero_count = zero_count + 1\n",
    "result = no_zero + [0] * zero_count\n",
    "print(*result)"
   ]
  },
  {
   "cell_type": "code",
   "execution_count": null,
   "metadata": {},
   "outputs": [
    {
     "name": "stdout",
     "output_type": "stream",
     "text": [
      "3\n"
     ]
    }
   ],
   "source": [
    "#Single Number\n",
    "A =list(map(int,input().split()))\n",
    "for num in A:\n",
    "    if A.count(num) == 1:\n",
    "        print(num)\n",
    "        break"
   ]
  },
  {
   "cell_type": "code",
   "execution_count": 16,
   "metadata": {},
   "outputs": [
    {
     "name": "stdout",
     "output_type": "stream",
     "text": [
      "5 1\n"
     ]
    }
   ],
   "source": [
    "#找最大最小\n",
    "N =list(map(int,input().split()))\n",
    "Max = max(N)\n",
    "Min = min(N)\n",
    "print(Max,Min)"
   ]
  },
  {
   "cell_type": "code",
   "execution_count": 14,
   "metadata": {},
   "outputs": [
    {
     "name": "stdout",
     "output_type": "stream",
     "text": [
      "11\n"
     ]
    }
   ],
   "source": [
    "#陣列連加器\n",
    "numbers = list(map(int,input().split()))\n",
    "total = sum(numbers)\n",
    "print(total)"
   ]
  },
  {
   "cell_type": "code",
   "execution_count": 15,
   "metadata": {},
   "outputs": [
    {
     "name": "stdout",
     "output_type": "stream",
     "text": [
      "3\n"
     ]
    }
   ],
   "source": [
    "#找出中位數\n",
    "array = list(map(int,input().split()))\n",
    "for i in range(len(array) - 1):\n",
    "    min_index = i\n",
    "    for j in range(i + 1, len(array)):\n",
    "        if array[j] < array[min_index]:\n",
    "            min_index = j\n",
    "    array[i],array[min_index] = array[min_index],array[i]\n",
    "print(array[2])"
   ]
  },
  {
   "cell_type": "code",
   "execution_count": 14,
   "metadata": {},
   "outputs": [
    {
     "name": "stdout",
     "output_type": "stream",
     "text": [
      "100\n"
     ]
    }
   ],
   "source": [
    "#找最大的相乘\n",
    "array = list(map(int,input().split()))\n",
    "max1 = max(array)\n",
    "array.remove(max1)\n",
    "max2 = max(array)\n",
    "print(max1 * max2)"
   ]
  },
  {
   "cell_type": "code",
   "execution_count": 6,
   "metadata": {},
   "outputs": [
    {
     "name": "stdout",
     "output_type": "stream",
     "text": [
      "3 4\n"
     ]
    }
   ],
   "source": [
    "#遺失的數字\n",
    "array = list(map(int,input().split()))\n",
    "max_value = max(array)\n",
    "min_value = min(array)\n",
    "missing_nums = []\n",
    "for num in range(min_value + 1,max_value,1):\n",
    "    if num not in array:\n",
    "        missing_nums.append(num)\n",
    "if len(missing_nums) > 0:\n",
    "    for i in range(len(missing_nums)):\n",
    "        if i == len(missing_nums) - 1:\n",
    "            print(missing_nums[i])\n",
    "        else:\n",
    "            print(missing_nums[i],end = \" \")"
   ]
  },
  {
   "cell_type": "code",
   "execution_count": 11,
   "metadata": {},
   "outputs": [
    {
     "name": "stdout",
     "output_type": "stream",
     "text": [
      "8\n"
     ]
    }
   ],
   "source": [
    "#找重覆的數字\n",
    "array = list(map(int,input().split()))\n",
    "deplicate = []\n",
    "for num in array:\n",
    "    if array.count(num) > 1 and num not in deplicate:\n",
    "        deplicate.append(num)\n",
    "deplicate.sort()   \n",
    "if len(deplicate) > 0:\n",
    "    for i in range(len(deplicate)):\n",
    "        if i == len(deplicate) - 1:\n",
    "            print(deplicate[i])\n",
    "        else:\n",
    "            print(deplicate[i],end = \" \")"
   ]
  },
  {
   "cell_type": "code",
   "execution_count": null,
   "metadata": {},
   "outputs": [
    {
     "name": "stdout",
     "output_type": "stream",
     "text": [
      "0 4 6 "
     ]
    }
   ],
   "source": [
    "#找出7的位置\n",
    "array = list(map(int,input().split()))\n",
    "last = True\n",
    "for i in range(0,len(array),1):\n",
    "    if array[i] == 7:\n",
    "        print(i,end = \" \")\n",
    "        "
   ]
  },
  {
   "cell_type": "code",
   "execution_count": 11,
   "metadata": {},
   "outputs": [
    {
     "name": "stdout",
     "output_type": "stream",
     "text": [
      "0 4\n"
     ]
    }
   ],
   "source": [
    "#找出7的位置\n",
    "nums = list(map(int,input().split()))\n",
    "seven_index = []\n",
    "for i in range(0,len(nums),1):\n",
    "    if nums[i] == 7:\n",
    "        seven_index.append(i)\n",
    "for i in range(0,len(seven_index),1):\n",
    "    if i == len(seven_index) - 1:\n",
    "        print(seven_index[i])\n",
    "    else:\n",
    "        print(seven_index[i],end = \" \")\n",
    "    \n"
   ]
  },
  {
   "cell_type": "code",
   "execution_count": 3,
   "metadata": {},
   "outputs": [
    {
     "name": "stdout",
     "output_type": "stream",
     "text": [
      "5 8 6 2 9\n"
     ]
    }
   ],
   "source": [
    "#刪除大於k的串列元素\n",
    "nums = list(map(int,input().split()))\n",
    "k = int(input())\n",
    "del_num = []\n",
    "for num in nums:\n",
    "    if num <= k:\n",
    "        del_num.append(num)\n",
    "print(*del_num)\n"
   ]
  },
  {
   "cell_type": "code",
   "execution_count": null,
   "metadata": {},
   "outputs": [
    {
     "name": "stdout",
     "output_type": "stream",
     "text": [
      "5 8 6 2 30\n"
     ]
    }
   ],
   "source": [
    "#刪除重複的元素\n",
    "n = int(input())\n",
    "nums = list(map(int,input().split()))\n",
    "del_nums = []\n",
    "for num in nums:\n",
    "    if nums.count(num) == 1:\n",
    "        del_nums.append(num)\n",
    "print(*del_nums)"
   ]
  },
  {
   "cell_type": "code",
   "execution_count": null,
   "metadata": {},
   "outputs": [
    {
     "name": "stdout",
     "output_type": "stream",
     "text": [
      "63\n",
      "7.000\n"
     ]
    }
   ],
   "source": [
    "n = int(input())\n",
    "value = []\n",
    "for i in range(0,n,1):\n",
    "    num = input()\n",
    "    value.append(int(num))\n",
    "value.sort()\n",
    "total_sum = sum(value)\n",
    "averge = total_sum // n"
   ]
  }
 ],
 "metadata": {
  "kernelspec": {
   "display_name": "Python 3",
   "language": "python",
   "name": "python3"
  },
  "language_info": {
   "codemirror_mode": {
    "name": "ipython",
    "version": 3
   },
   "file_extension": ".py",
   "mimetype": "text/x-python",
   "name": "python",
   "nbconvert_exporter": "python",
   "pygments_lexer": "ipython3",
   "version": "3.11.2"
  }
 },
 "nbformat": 4,
 "nbformat_minor": 2
}
