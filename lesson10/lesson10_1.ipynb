{
 "cells": [
  {
   "cell_type": "code",
   "execution_count": 1,
   "metadata": {},
   "outputs": [
    {
     "name": "stdout",
     "output_type": "stream",
     "text": [
      "請輸入姓名：tom \n",
      "\n",
      "請輸入身高(cm)：170 \n",
      "\n",
      "請輸入體重(kg)：56 \n",
      "\n"
     ]
    },
    {
     "data": {
      "text/plain": [
       "'tom你好\\n身高是：170公分\\n體重是：56公斤\\nBMI:19.38\\n體重正常'"
      ]
     },
     "execution_count": 1,
     "metadata": {},
     "output_type": "execute_result"
    }
   ],
   "source": [
    "import pyinputplus as pyip\n",
    "\n",
    "class Person():\n",
    "    def __init__(self,n:str,h:int,w:int):\n",
    "        self._name = n\n",
    "        self._height = h\n",
    "        self._weight = w\n",
    "\n",
    "    @property\n",
    "    def name(self) -> str:\n",
    "        return self._name\n",
    "    \n",
    "    @property\n",
    "    def height(self)->int:\n",
    "        return self._height\n",
    "    \n",
    "    @property\n",
    "    def weight(self)->int:\n",
    "        return self._weight\n",
    "\n",
    "    def getBmi(self) -> float:\n",
    "        return self.weight / (self.height/100) ** 2\n",
    "    \n",
    "    def get_status(self) -> str:\n",
    "        bmi:float = self.getBmi()\n",
    "        if bmi >= 35:\n",
    "            return '重度肥胖'\n",
    "        elif bmi >= 30:\n",
    "            return '中度肥胖'\n",
    "        elif bmi >= 27:\n",
    "            return '輕度肥胖'\n",
    "        elif bmi >= 24:\n",
    "            return '體重過重'\n",
    "        elif bmi >= 18.5:\n",
    "            return '體重正常'\n",
    "        else:\n",
    "            return '體重過輕'\n",
    "        \n",
    "    def bmi_print(self)->str:\n",
    "        return f\"{self.name}你好\\n身高是：{self.height}公分\\n體重是：{self.weight}公斤\\nBMI:{round(self.getBmi(),ndigits=2)}\\n{self.get_status()}\"\n",
    "       \n",
    "name = pyip.inputStr(\"請輸入姓名：\")\n",
    "print(name,\"\\n\")\n",
    "\n",
    "height= pyip.inputNum(\"請輸入身高(cm)：\")\n",
    "print(height,\"\\n\")\n",
    "weight = pyip.inputNum(\"請輸入體重(kg)：\")\n",
    "print(weight,\"\\n\")\n",
    "\n",
    "p = Person(name,height,weight)\n",
    "\n",
    "\n",
    "\n",
    "p.bmi_print()\n",
    "    \n",
    "\n",
    "        \n"
   ]
  },
  {
   "cell_type": "code",
   "execution_count": null,
   "metadata": {},
   "outputs": [],
   "source": []
  }
 ],
 "metadata": {
  "kernelspec": {
   "display_name": "Python 3",
   "language": "python",
   "name": "python3"
  },
  "language_info": {
   "codemirror_mode": {
    "name": "ipython",
    "version": 3
   },
   "file_extension": ".py",
   "mimetype": "text/x-python",
   "name": "python",
   "nbconvert_exporter": "python",
   "pygments_lexer": "ipython3",
   "version": "3.11.9"
  }
 },
 "nbformat": 4,
 "nbformat_minor": 2
}
