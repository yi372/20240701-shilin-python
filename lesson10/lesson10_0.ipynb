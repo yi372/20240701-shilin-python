{
 "cells": [
  {
   "cell_type": "code",
   "execution_count": null,
   "metadata": {},
   "outputs": [],
   "source": [
    "import pyinputplus as pyip\n",
    "\n",
    "class Person():\n",
    "    def __init__(self,n:str,h:int,w:int):\n",
    "        self.name = n\n",
    "        self.height = h\n",
    "        self.weight = w\n",
    "\n",
    "    def getBmi(self) -> float:\n",
    "        return self.weight / (self.height/100) ** 2\n",
    "    \n",
    "    def get_status(self) -> str:\n",
    "        bmi:float = self.getBmi()\n",
    "        if bmi >= 35:\n",
    "            return '重度肥胖'\n",
    "        elif bmi >= 30:\n",
    "            return '中度肥胖'\n",
    "        elif bmi >= 27:\n",
    "            return '輕度肥胖'\n",
    "        elif bmi >= 24:\n",
    "            return '體重過重'\n",
    "        elif bmi >= 18.5:\n",
    "            return '體重正常'\n",
    "        else:\n",
    "            return '體重過輕'\n",
    "        \n",
    "    def bmi_print(self)->str:\n",
    "        return f\"{self.name}你好\\n身高是：{self.height}公分\\n體重是：{self.weight}公斤\\nBMI:{round(self.getBmi(),ndigits=2)}\\n{self.get_status()}\"\n",
    "while True:       \n",
    "    name = pyip.inputStr(\"請輸入姓名：\")\n",
    "    print(name,\"\\n\")\n",
    "\n",
    "    height= pyip.inputNum(\"請輸入身高(cm)：\")\n",
    "    print(height,\"\\n\")\n",
    "    weight = pyip.inputNum(\"請輸入體重(kg)：\")\n",
    "    print(weight,\"\\n\")\n",
    "\n",
    "    p = Person(name,height,weight)\n",
    "    print(p.bmi_print())\n",
    "    \n",
    "    answer=input(\"離開(q)or繼續(c)\")\n",
    "    if answer==\"q\":\n",
    "        break\n",
    "    \n",
    "        \n",
    "print(\"應用程式結束\")"
   ]
  }
 ],
 "metadata": {
  "kernelspec": {
   "display_name": "Python 3",
   "language": "python",
   "name": "python3"
  },
  "language_info": {
   "name": "python",
   "version": "3.11.9"
  }
 },
 "nbformat": 4,
 "nbformat_minor": 2
}
