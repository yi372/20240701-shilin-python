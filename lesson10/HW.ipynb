{
 "cells": [
  {
   "cell_type": "code",
   "execution_count": 2,
   "metadata": {},
   "outputs": [
    {
     "ename": "NameError",
     "evalue": "name 'Person' is not defined",
     "output_type": "error",
     "traceback": [
      "\u001b[0;31m---------------------------------------------------------------------------\u001b[0m",
      "\u001b[0;31mNameError\u001b[0m                                 Traceback (most recent call last)",
      "Cell \u001b[0;32mIn[2], line 4\u001b[0m\n\u001b[1;32m      1\u001b[0m \u001b[38;5;28;01mimport\u001b[39;00m \u001b[38;5;21;01mrandom\u001b[39;00m\n\u001b[1;32m      2\u001b[0m \u001b[38;5;28;01mimport\u001b[39;00m \u001b[38;5;21;01mpyinputplus\u001b[39;00m \u001b[38;5;28;01mas\u001b[39;00m \u001b[38;5;21;01mpyip\u001b[39;00m\n\u001b[0;32m----> 4\u001b[0m \u001b[38;5;28;43;01mclass\u001b[39;49;00m\u001b[43m \u001b[49m\u001b[38;5;21;43;01mPerson\u001b[39;49;00m\u001b[43m(\u001b[49m\u001b[43m)\u001b[49m\u001b[43m:\u001b[49m\n\u001b[1;32m      6\u001b[0m \u001b[43m    \u001b[49m\u001b[38;5;28;43;01mdef\u001b[39;49;00m\u001b[43m \u001b[49m\u001b[38;5;21;43m__init__\u001b[39;49m\u001b[43m(\u001b[49m\u001b[38;5;28;43mself\u001b[39;49m\u001b[43m,\u001b[49m\u001b[43mn\u001b[49m\u001b[43m:\u001b[49m\u001b[38;5;28;43mstr\u001b[39;49m\u001b[43m,\u001b[49m\u001b[43mh\u001b[49m\u001b[43m:\u001b[49m\u001b[38;5;28;43mint\u001b[39;49m\u001b[43m,\u001b[49m\u001b[43mw\u001b[49m\u001b[43m:\u001b[49m\u001b[38;5;28;43mint\u001b[39;49m\u001b[43m)\u001b[49m\u001b[43m:\u001b[49m\n\u001b[1;32m      7\u001b[0m \u001b[43m        \u001b[49m\u001b[38;5;28;43mself\u001b[39;49m\u001b[38;5;241;43m.\u001b[39;49m\u001b[43mname\u001b[49m\u001b[43m \u001b[49m\u001b[38;5;241;43m=\u001b[39;49m\u001b[43m \u001b[49m\u001b[43mn\u001b[49m\n",
      "Cell \u001b[0;32mIn[2], line 41\u001b[0m, in \u001b[0;36mPerson\u001b[0;34m()\u001b[0m\n\u001b[1;32m     30\u001b[0m     \u001b[38;5;28;01mreturn\u001b[39;00m \u001b[38;5;124mf\u001b[39m\u001b[38;5;124m\"\u001b[39m\u001b[38;5;132;01m{\u001b[39;00m\u001b[38;5;28mself\u001b[39m\u001b[38;5;241m.\u001b[39mname\u001b[38;5;132;01m}\u001b[39;00m\u001b[38;5;124m你好\u001b[39m\u001b[38;5;130;01m\\n\u001b[39;00m\u001b[38;5;124m身高是：\u001b[39m\u001b[38;5;132;01m{\u001b[39;00m\u001b[38;5;28mself\u001b[39m\u001b[38;5;241m.\u001b[39mheight\u001b[38;5;132;01m}\u001b[39;00m\u001b[38;5;124m公分\u001b[39m\u001b[38;5;130;01m\\n\u001b[39;00m\u001b[38;5;124m體重是：\u001b[39m\u001b[38;5;132;01m{\u001b[39;00m\u001b[38;5;28mself\u001b[39m\u001b[38;5;241m.\u001b[39mweight\u001b[38;5;132;01m}\u001b[39;00m\u001b[38;5;124m公斤\u001b[39m\u001b[38;5;130;01m\\n\u001b[39;00m\u001b[38;5;124mBMI:\u001b[39m\u001b[38;5;132;01m{\u001b[39;00m\u001b[38;5;28mround\u001b[39m(\u001b[38;5;28mself\u001b[39m\u001b[38;5;241m.\u001b[39mgetBmi(),ndigits\u001b[38;5;241m=\u001b[39m\u001b[38;5;241m2\u001b[39m)\u001b[38;5;132;01m}\u001b[39;00m\u001b[38;5;130;01m\\n\u001b[39;00m\u001b[38;5;132;01m{\u001b[39;00m\u001b[38;5;28mself\u001b[39m\u001b[38;5;241m.\u001b[39mget_status()\u001b[38;5;132;01m}\u001b[39;00m\u001b[38;5;124m\"\u001b[39m\n\u001b[1;32m     33\u001b[0m \u001b[38;5;66;03m#name = pyip.inputStr(\"請輸入姓名：\")\u001b[39;00m\n\u001b[1;32m     34\u001b[0m \u001b[38;5;66;03m#print(name,\"\\n\")\u001b[39;00m\n\u001b[1;32m     35\u001b[0m \n\u001b[0;32m   (...)\u001b[0m\n\u001b[1;32m     38\u001b[0m \u001b[38;5;66;03m#weight = pyip.inputNum(\"請輸入體重(kg)：\")\u001b[39;00m\n\u001b[1;32m     39\u001b[0m \u001b[38;5;66;03m#print(weight,\"\\n\")\u001b[39;00m\n\u001b[0;32m---> 41\u001b[0m p \u001b[38;5;241m=\u001b[39m \u001b[43mPerson\u001b[49m(name,height,weight)\n\u001b[1;32m     42\u001b[0m \u001b[38;5;28mprint\u001b[39m(p\u001b[38;5;241m.\u001b[39mbmi_print())\n",
      "\u001b[0;31mNameError\u001b[0m: name 'Person' is not defined"
     ]
    }
   ],
   "source": [
    "import random\n",
    "import pyinputplus as pyip\n",
    "\n",
    "class Person():\n",
    "    \n",
    "    def __init__(self,n:str,h:int,w:int):\n",
    "        self.name = n\n",
    "        self.height = h\n",
    "        self.weight = w\n",
    "\n",
    "    def getBmi(self) -> float:\n",
    "        return self.weight / (self.height/100) ** 2\n",
    "    \n",
    "    def get_status(self) -> str:\n",
    "        bmi:float = self.getBmi()\n",
    "        if bmi >= 35:\n",
    "            return '重度肥胖'\n",
    "        elif bmi >= 30:\n",
    "            return '中度肥胖'\n",
    "        elif bmi >= 27:\n",
    "            return '輕度肥胖'\n",
    "        elif bmi >= 24:\n",
    "            return '體重過重'\n",
    "        elif bmi >= 18.5:\n",
    "            return '體重正常'\n",
    "        else:\n",
    "            return '體重過輕'\n",
    "        \n",
    "    def bmi_print(self)->str:\n",
    "        return f\"{self.name}你好\\n身高是：{self.height}公分\\n體重是：{self.weight}公斤\\nBMI:{round(self.getBmi(),ndigits=2)}\\n{self.get_status()}\"\n",
    "    \n",
    "   \n",
    "    #name = pyip.inputStr(\"請輸入姓名：\")\n",
    "    #print(name,\"\\n\")\n",
    "\n",
    "    #height= pyip.inputNum(\"請輸入身高(cm)：\")\n",
    "    #print(height,\"\\n\")\n",
    "    #weight = pyip.inputNum(\"請輸入體重(kg)：\")\n",
    "    #print(weight,\"\\n\")\n",
    "\n",
    "    p = Person(name,height,weight)\n",
    "    print(p.bmi_print())"
   ]
  }
 ],
 "metadata": {
  "kernelspec": {
   "display_name": "Python 3",
   "language": "python",
   "name": "python3"
  },
  "language_info": {
   "codemirror_mode": {
    "name": "ipython",
    "version": 3
   },
   "file_extension": ".py",
   "mimetype": "text/x-python",
   "name": "python",
   "nbconvert_exporter": "python",
   "pygments_lexer": "ipython3",
   "version": "3.11.9"
  }
 },
 "nbformat": 4,
 "nbformat_minor": 2
}
