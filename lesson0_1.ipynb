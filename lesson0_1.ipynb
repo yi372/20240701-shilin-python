{
 "cells": [
  {
   "cell_type": "code",
   "execution_count": null,
   "metadata": {},
   "outputs": [],
   "source": [
    "w = input().split()\n",
    "print(w,type(w))\n",
    "x,y = input().split()\n",
    "print(x,y,type(x),type(y))\n"
   ]
  },
  {
   "cell_type": "code",
   "execution_count": null,
   "metadata": {},
   "outputs": [],
   "source": [
    "x,y = map(float,input().split())\n",
    "print(x,y,type(x),type(y))"
   ]
  },
  {
   "cell_type": "code",
   "execution_count": null,
   "metadata": {},
   "outputs": [],
   "source": [
    "z = list(map(float,input().split()))\n",
    "print(z,type(z))"
   ]
  },
  {
   "cell_type": "code",
   "execution_count": null,
   "metadata": {},
   "outputs": [],
   "source": [
    "#批改娘2-2題\n",
    "P = input()\n",
    "Q = input()\n",
    "R = input()\n",
    "M = int(input())\n",
    "N = int(input())\n",
    "O = float(input())\n",
    "S = M + N + O \n",
    "print(\"%s+%s+%s的價格為:%.2f元\" %(P,Q,R,S))"
   ]
  },
  {
   "cell_type": "code",
   "execution_count": null,
   "metadata": {},
   "outputs": [],
   "source": [
    "#批改娘2-3題\n",
    "H = eval(input())\n",
    "W = eval(input())\n",
    "BMI = W / (H/100)**2\n",
    "print (\"%.2f\" %(BMI))"
   ]
  },
  {
   "cell_type": "code",
   "execution_count": null,
   "metadata": {},
   "outputs": [],
   "source": [
    "#批改娘2-4題\n",
    "import math\n",
    "P = math.pi\n",
    "R = int(input())\n",
    "L = (R*2)*P\n",
    "A = (R*R)*P\n",
    "print(\"圓周率為%.7f\" %P)\n",
    "print(\"半徑為%d\" %R)\n",
    "print(\"圓周長為%.7f\" %L)\n",
    "print(\"圓面積為%.7f\" %A)\n",
    "\n"
   ]
  },
  {
   "cell_type": "code",
   "execution_count": null,
   "metadata": {},
   "outputs": [],
   "source": [
    "#批改娘2-5題\n",
    "C = int(input())\n",
    "E = int(input())\n",
    "M = int(input())\n",
    "E = (C + E + M)/3\n",
    "print(\"%d\" %E)\n"
   ]
  },
  {
   "cell_type": "code",
   "execution_count": null,
   "metadata": {},
   "outputs": [],
   "source": [
    "#批改娘3-1題\n",
    "N1 = float(input())\n",
    "N2 = float(input())\n",
    "C = float((N1 + N2)*(N1 + N2))\n",
    "print(\"{:g}\".format(C))\n"
   ]
  },
  {
   "cell_type": "code",
   "execution_count": null,
   "metadata": {},
   "outputs": [],
   "source": [
    "#批改娘3-2題\n",
    "N = int(input())\n",
    "V = (N // 6)*6\n",
    "print(\"%d\" %V )\n"
   ]
  },
  {
   "cell_type": "code",
   "execution_count": 5,
   "metadata": {},
   "outputs": [
    {
     "name": "stdout",
     "output_type": "stream",
     "text": [
      " -2\n",
      " 2\n"
     ]
    }
   ],
   "source": [
    "#批改娘3-3題\n",
    "N1 = int(input())\n",
    "N2 = int(input())\n",
    "V1 = N1 // N2\n",
    "V2 = N1 % N2\n",
    "print(\"%d\" % V1)\n",
    "print(\"%d\" % V2)"
   ]
  },
  {
   "cell_type": "code",
   "execution_count": 31,
   "metadata": {},
   "outputs": [
    {
     "name": "stdout",
     "output_type": "stream",
     "text": [
      "3880 秒可分解為\n",
      "1 小時\n",
      "4 分\n",
      "40 秒\n"
     ]
    }
   ],
   "source": [
    "#批改娘3-4題\n",
    "N = int(input())\n",
    "V1 = N // (60*60)\n",
    "V2 = (N % (60*60))/60\n",
    "V3 = (N % (60*60))%60\n",
    "print(\"%d 秒可分解為\" %N)\n",
    "print(\"%d 小時\" %V1)\n",
    "print(\"%d 分\" %V2)\n",
    "print(\"%d 秒\" %V3)"
   ]
  },
  {
   "cell_type": "code",
   "execution_count": 6,
   "metadata": {},
   "outputs": [
    {
     "name": "stdout",
     "output_type": "stream",
     "text": [
      "Long = 32.58\n",
      "Width = 13.00\n",
      "Perimeter = 91.16\n",
      "Area = 423.54\n"
     ]
    }
   ],
   "source": [
    "#批改娘3-5題\n",
    "n1 = float(input())\n",
    "n2 = float(input())\n",
    "length = (n1 + n2)* 2\n",
    "A = n1 * n2\n",
    "print(\"Long = %.2f\" %n1)\n",
    "print(\"Width = %.2f\" %n2)\n",
    "print(\"Perimeter = %.2f\" %length)\n",
    "print(\"Area = %.2f\" %A)"
   ]
  },
  {
   "cell_type": "code",
   "execution_count": null,
   "metadata": {},
   "outputs": [],
   "source": [
    "#批改娘3-6題"
   ]
  },
  {
   "cell_type": "code",
   "execution_count": 38,
   "metadata": {},
   "outputs": [
    {
     "name": "stdout",
     "output_type": "stream",
     "text": [
      "54321\n"
     ]
    }
   ],
   "source": [
    "#批改娘3-7題\n",
    "N = input()\n",
    "reverse_N = N[::-1]\n",
    "print(reverse_N)"
   ]
  },
  {
   "cell_type": "code",
   "execution_count": null,
   "metadata": {},
   "outputs": [
    {
     "name": "stdout",
     "output_type": "stream",
     "text": [
      "False\n"
     ]
    }
   ],
   "source": [
    "#批改娘3-8題\n",
    "x = int(input())\n",
    "year = x + 1911\n",
    "leap_year = ((year % 4 == 0) and (year % 100 != 0)) or (year % 400 == 0)\n",
    "print(leap_year)"
   ]
  },
  {
   "cell_type": "code",
   "execution_count": 9,
   "metadata": {},
   "outputs": [],
   "source": [
    "#批改娘3-9題\n",
    "n1,n2 = map(int,input().split())\n",
    "range = 1023<=n1,n2<=9876"
   ]
  },
  {
   "cell_type": "code",
   "execution_count": 30,
   "metadata": {},
   "outputs": [
    {
     "name": "stdout",
     "output_type": "stream",
     "text": [
      "13.0, 30.0, 30.0\n"
     ]
    }
   ],
   "source": [
    "#批改娘3-10題\n",
    "N1,N2 = map(int,input().split())\n",
    "slope = (N1 * N1 + N2 * N2) ** 0.5\n",
    "length = (N1 + N2 + slope)\n",
    "area = (N1 * N2) * 0.5\n",
    "print(slope,length,area,sep = \", \")"
   ]
  },
  {
   "cell_type": "code",
   "execution_count": 45,
   "metadata": {},
   "outputs": [
    {
     "name": "stdout",
     "output_type": "stream",
     "text": [
      "True\n"
     ]
    }
   ],
   "source": [
    "#批改娘3-12題\n",
    "n1= int(input())\n",
    "n2= int(input())\n",
    "judge = (n1 * 3) > (n2 * n2)\n",
    "print(judge)"
   ]
  },
  {
   "cell_type": "code",
   "execution_count": 43,
   "metadata": {},
   "outputs": [
    {
     "name": "stdout",
     "output_type": "stream",
     "text": [
      "True\n"
     ]
    }
   ],
   "source": [
    "#批改娘3-13題\n",
    "n = int(input())\n",
    "judge = n % 5 ==0\n",
    "print(judge)"
   ]
  },
  {
   "cell_type": "code",
   "execution_count": 2,
   "metadata": {},
   "outputs": [
    {
     "name": "stdout",
     "output_type": "stream",
     "text": [
      "78.8\n"
     ]
    }
   ],
   "source": [
    "#批改娘3-14題\n",
    "C = int(input())\n",
    "F = C * 9 / 5 + 32\n",
    "print (F)"
   ]
  },
  {
   "cell_type": "code",
   "execution_count": 41,
   "metadata": {},
   "outputs": [
    {
     "name": "stdout",
     "output_type": "stream",
     "text": [
      "False\n"
     ]
    }
   ],
   "source": [
    "#批改娘3-15題\n",
    "n1 = int(input())\n",
    "n2 = int(input())\n",
    "judge = n1 % n2 == 0\n",
    "print(judge)"
   ]
  },
  {
   "cell_type": "code",
   "execution_count": null,
   "metadata": {},
   "outputs": [
    {
     "name": "stdout",
     "output_type": "stream",
     "text": [
      "isosceles acute triangle\n"
     ]
    }
   ],
   "source": [
    "#批改娘4-2題\n",
    "a, b, c = map(int,input().split())\n",
    "if (a + b > c) and (b + c > a) and (a + c > b):\n",
    "    if a == b == c:\n",
    "        print(\"regular triangle\")\n",
    "    elif a * a + b * b == c * c:\n",
    "        print(\"rectangular triangle\")\n",
    "    elif ((a * a + b * b > c * c) and ((a == b) or (b == c) or (a == c))):\n",
    "        print(\"isosceles acute triangle\")\n",
    "    elif ((a * a + b * b > c * c) and (a != b)):\n",
    "        print(\"acute triangle\")\n",
    "    elif ((a * a + b * b < c * c) and ((a == b) or (b == c) or (a == c))):\n",
    "        print(\"isosceles obtuse triangle\")\n",
    "    elif ((a * a + b * b < c * c) and (a != b)):\n",
    "        print(\"obtuse triangle\")\n",
    "else:\n",
    "    print(\"not a triangle\")"
   ]
  },
  {
   "cell_type": "code",
   "execution_count": 11,
   "metadata": {},
   "outputs": [
    {
     "name": "stdout",
     "output_type": "stream",
     "text": [
      "32\n"
     ]
    }
   ],
   "source": [
    "#批改娘4-3題\n",
    "year, month, date = map(int,input().split())\n",
    "if ((year % 4 == 0) and (year % 100 != 0)) or (year % 400 == 0):\n",
    "    if month == 1:\n",
    "       days = date\n",
    "       print(\"%d\" %days)\n",
    "    elif month == 2:\n",
    "       days = 31 + date\n",
    "       print(\"%d\" %days)\n",
    "    elif month == 3:\n",
    "       days = 60 + date\n",
    "       print(\"%d\" %days)\n",
    "    elif month == 4:\n",
    "       days = 91 + date\n",
    "       print(\"%d\" %days)\n",
    "    elif month == 5:\n",
    "       days = 121 + date\n",
    "       print(\"%d\" %days)\n",
    "    elif month == 6:\n",
    "       days = 152 + date\n",
    "       print(\"%d\" %days)\n",
    "    elif month == 7:\n",
    "       days = 182 + date\n",
    "       print(\"%d\" %days)\n",
    "    elif month == 8:\n",
    "       days = 213 + date\n",
    "       print(\"%d\" %days)\n",
    "    elif month == 9:\n",
    "       days = 244 + date\n",
    "       print(\"%d\" %days)\n",
    "    elif month == 10:\n",
    "       days = 274 + date\n",
    "       print(\"%d\" %days)\n",
    "    elif month == 11:\n",
    "       days = 305 + date\n",
    "       print(\"%d\" %days)\n",
    "    elif month == 12:\n",
    "       days = 335 + date\n",
    "       print(\"%d\" %days)\n",
    "else:\n",
    "    if month == 1:\n",
    "       days = date\n",
    "       print(\"%d\" %days)\n",
    "    elif month == 2:\n",
    "       days = 31 + date\n",
    "       print(\"%d\" %days)\n",
    "    elif month == 3:\n",
    "       days = 59 + date\n",
    "       print(\"%d\" %days)\n",
    "    elif month == 4:\n",
    "       days = 90 + date\n",
    "       print(\"%d\" %days)\n",
    "    elif month == 5:\n",
    "       days = 120 + date\n",
    "       print(\"%d\" %days)\n",
    "    elif month == 6:\n",
    "       days = 151 + date\n",
    "       print(\"%d\" %days)\n",
    "    elif month == 7:\n",
    "       days = 181 + date\n",
    "       print(\"%d\" %days)\n",
    "    elif month == 8:\n",
    "       days = 212 + date\n",
    "       print(\"%d\" %days)\n",
    "    elif month == 9:\n",
    "       days = 243 + date\n",
    "       print(\"%d\" %days)\n",
    "    elif month == 10:\n",
    "       days = 273 + date\n",
    "       print(\"%d\" %days)\n",
    "    elif month == 11:\n",
    "       days = 304 + date\n",
    "       print(\"%d\" %days)\n",
    "    elif month == 12:\n",
    "       days = 334 + date\n",
    "       print(\"%d\" %days)"
   ]
  },
  {
   "cell_type": "code",
   "execution_count": 2,
   "metadata": {},
   "outputs": [
    {
     "name": "stdout",
     "output_type": "stream",
     "text": [
      "80\n"
     ]
    }
   ],
   "source": [
    "#批改娘4-4題\n",
    "m = int(input())\n",
    "if m > 1500:\n",
    "   count = (m - 1500) // 500 \n",
    "   result = 80 + (5 * count)\n",
    "   print(\"%d\" %result)\n",
    "else:\n",
    "   print(\"80\")"
   ]
  },
  {
   "cell_type": "code",
   "execution_count": 16,
   "metadata": {},
   "outputs": [
    {
     "name": "stdout",
     "output_type": "stream",
     "text": [
      "95\n"
     ]
    }
   ],
   "source": [
    "#批改娘4-4題\n",
    "m = int(input())\n",
    "if  m <= 1500:\n",
    "    print(\"80\")\n",
    "elif 1500 < m <= 2000:\n",
    "    print(\"85\")\n",
    "else:\n",
    "   print((m - 1500) // 500 * 5 + 85) "
   ]
  },
  {
   "cell_type": "code",
   "execution_count": 12,
   "metadata": {},
   "outputs": [
    {
     "name": "stdout",
     "output_type": "stream",
     "text": [
      "100\n"
     ]
    }
   ],
   "source": [
    "#批改娘4-5題\n",
    "n = int(input())\n",
    "if 0 <= n <= 10:\n",
    "    score = n * 6\n",
    "    print(\"%d\" %score)\n",
    "elif  n <= 20:\n",
    "    score1 = 60 + (n-10) * 2 \n",
    "    print(\"%d\" %score1)\n",
    "elif  n < 40:\n",
    "    score2 = 80 + (n-20) * 1 \n",
    "    print(\"%d\" %score2)\n",
    "else:\n",
    "    print(\"100\")"
   ]
  },
  {
   "cell_type": "code",
   "execution_count": 4,
   "metadata": {},
   "outputs": [
    {
     "name": "stdout",
     "output_type": "stream",
     "text": [
      "8是偶數\n"
     ]
    }
   ],
   "source": [
    "#批改娘4-6題\n",
    "n1 = int(input())\n",
    "if n1 % 2 == 0:\n",
    "    print(\"%d是偶數\" %n1)\n",
    "else: \n",
    "    print(\"%d不是偶數\" %n1)\n"
   ]
  },
  {
   "cell_type": "code",
   "execution_count": 23,
   "metadata": {},
   "outputs": [
    {
     "name": "stdout",
     "output_type": "stream",
     "text": [
      "10\n"
     ]
    }
   ],
   "source": [
    "#批改娘4-7題 \n",
    "n1 = int(input())\n",
    "n2 = int(input())\n",
    "n  = input()\n",
    "if n == \"+\":\n",
    "   plus = n1 + n2\n",
    "   print(\"%.f\" %plus) \n",
    "elif n == \"-\":\n",
    "   minus = n1 - n2\n",
    "   print(\"%.f\" %minus) \n",
    "elif n == \"*\":\n",
    "   multiply = n1 * n2\n",
    "   print(\"%.f\" % multiply)\n",
    "elif n == \"/\":\n",
    "   division = n1 / n2\n",
    "   print(\"%.f\" %division)\n",
    "elif n == \"//\":\n",
    "   r1 = n1 // n2\n",
    "   print(\"%.f\" %r1)  \n",
    "else:\n",
    "   r2 = n1 % n2\n",
    "   print(\"%.f\" %r2)"
   ]
  },
  {
   "cell_type": "code",
   "execution_count": 11,
   "metadata": {},
   "outputs": [
    {
     "name": "stdout",
     "output_type": "stream",
     "text": [
      "8\n"
     ]
    }
   ],
   "source": [
    "#批改娘4-8題\n",
    "n = int(input())\n",
    "if (n < 100) or (n > 999):\n",
    "    print(\"\")\n",
    "elif n % 2 == 1:\n",
    "    count = (n // 100) + ((n % 100) // 10) + (n % 10)\n",
    "    print(\"%d\" %count)\n",
    "else :\n",
    "    count2 = (n // 100) * ((n % 100) // 10) * (n % 10)\n",
    "    print(\"%d\" %count2)\n"
   ]
  },
  {
   "cell_type": "code",
   "execution_count": 7,
   "metadata": {},
   "outputs": [
    {
     "name": "stdout",
     "output_type": "stream",
     "text": [
      "A\n"
     ]
    }
   ],
   "source": [
    "#批改娘4-9題\n",
    "n1 = int(input())\n",
    "if   n1 > 100:\n",
    "    print(\"error\")\n",
    "elif n1 >= 80:\n",
    "    print(\"A\")\n",
    "elif n1 >= 70:\n",
    "    print(\"B\")\n",
    "elif n1 >= 60:\n",
    "    print(\"C\")\n",
    "elif n1 >= 0:\n",
    "    print(\"F\")\n",
    "else:\n",
    "    print(\"error\")"
   ]
  },
  {
   "cell_type": "code",
   "execution_count": null,
   "metadata": {},
   "outputs": [
    {
     "name": "stdout",
     "output_type": "stream",
     "text": [
      "54443.9\n"
     ]
    }
   ],
   "source": [
    "#批改娘4-10題\n",
    "dollar = int(input())\n",
    "if dollar < 0:\n",
    "    print(\"ERROR\")\n",
    "elif dollar < 8000:\n",
    "    print(\"{:.1f}\".format(dollar))\n",
    "elif dollar < 18000:\n",
    "    discount1 = dollar * 0.95\n",
    "    print(\"{:.1f}\".format(discount1))\n",
    "elif dollar < 28000:\n",
    "    discount2 = dollar * 0.9\n",
    "    print(\"{:.1f}\".format(discount2))\n",
    "elif dollar < 38000:\n",
    "    discount3 = dollar * 0.8\n",
    "    print(\"{:.1f}\".format(discount3))\n",
    "else:\n",
    "    discount4 = dollar * 0.7\n",
    "    print(\"{:.1f}\".format(discount4)) "
   ]
  },
  {
   "cell_type": "code",
   "execution_count": 21,
   "metadata": {},
   "outputs": [
    {
     "name": "stdout",
     "output_type": "stream",
     "text": [
      "1000: 1\n",
      "500: 0\n",
      "100: 0\n",
      "50: 0\n",
      "10: 1\n"
     ]
    }
   ],
   "source": [
    "#批改娘4-13題\n",
    "dollars = int(input())\n",
    "if dollars >= 1000:\n",
    "    thousand = dollars // 1000\n",
    "    five_hundred = (dollars % 1000) // 500\n",
    "    one_hundred = ((dollars % 1000) % 500) // 100\n",
    "    fifty = (((dollars % 1000) % 500) % 100) // 50\n",
    "    ten = ((((dollars % 1000) % 500) % 100) % 50) // 10\n",
    "    print(\"1000: %d\" %(thousand > 0))\n",
    "    print(\"500: %d\" %(five_hundred > 0))\n",
    "    print(\"100: %d\" %(one_hundred > 0))\n",
    "    print(\"50: %d\" %(fifty > 0))\n",
    "    print(\"10: %d\" %(ten > 0))"
   ]
  },
  {
   "cell_type": "code",
   "execution_count": 3,
   "metadata": {},
   "outputs": [
    {
     "name": "stdout",
     "output_type": "stream",
     "text": [
      "12250\n"
     ]
    }
   ],
   "source": [
    "#批改娘4-14題 \n",
    "s = int(input())\n",
    "if s < 60:\n",
    "   s1 = s * 100\n",
    "   print(\"%d\"%s1)\n",
    "elif s < 75:\n",
    "   s2 = 600 + (s - 60) * 100 * 1.25 \n",
    "   print(\"%d\"%s2)\n",
    "else:\n",
    "   s3 = 7875 + (s - 75) * 100 * 1.75\n",
    "   print(\"%d\"%s3)"
   ]
  },
  {
   "cell_type": "code",
   "execution_count": 7,
   "metadata": {},
   "outputs": [
    {
     "name": "stdout",
     "output_type": "stream",
     "text": [
      "The total annual tax payable is 108400 dollars.\n"
     ]
    }
   ],
   "source": [
    "#批改娘4-16題 \n",
    "income = int(input())\n",
    "if income <= 560000:\n",
    "    tax = income * 0.05\n",
    "    print(\"The total annual tax payable is %d dollars.\" %tax)\n",
    "elif income <= 1260000:\n",
    "    tax1 = income * 0.12 - 39200\n",
    "    print(\"The total annual tax payable is %d dollars.\" %tax1)\n",
    "elif income <= 2520000:\n",
    "    tax2 = income * 0.2 - 140000\n",
    "    print(\"The total annual tax payable is %d dollars.\" %tax2)\n",
    "elif income <= 4720000:\n",
    "    tax3 = income * 0.3 - 392000\n",
    "    print(\"The total annual tax payable is %d dollars.\" %tax3)\n",
    "else:\n",
    "    tax4 = income * 0.4 - 864000\n",
    "    print(\"The total annual tax payable is %d dollars.\" %tax4)"
   ]
  },
  {
   "cell_type": "code",
   "execution_count": null,
   "metadata": {},
   "outputs": [
    {
     "name": "stdout",
     "output_type": "stream",
     "text": [
      "3\n"
     ]
    }
   ],
   "source": [
    "#批改娘 期中考第3題\n",
    "a, b, c, d = map(int,input().split())\n",
    "if a > b:\n",
    "    min1 = b\n",
    "else:\n",
    "    min1 = a\n",
    "if c > d:\n",
    "    min2 = d\n",
    "else:\n",
    "    min2 = c\n",
    "if min1 < min2:\n",
    "    min = min1\n",
    "else:\n",
    "    min = min2\n",
    "print(min)"
   ]
  },
  {
   "cell_type": "code",
   "execution_count": 10,
   "metadata": {},
   "outputs": [
    {
     "name": "stdout",
     "output_type": "stream",
     "text": [
      "159\n"
     ]
    }
   ],
   "source": [
    "#批改娘 期中考第4題\n",
    "year, month, date = map(int,input().split())\n",
    "if ((year % 4 == 0) and (year % 100 != 0)) or (year % 400 == 0):\n",
    "    if month == 1:\n",
    "       days = date\n",
    "       print(\"%d\" %days)\n",
    "    elif month == 2:\n",
    "       days = 31 + date\n",
    "       print(\"%d\" %days)\n",
    "    elif month == 3:\n",
    "       days = 60 + date\n",
    "       print(\"%d\" %days)\n",
    "    elif month == 4:\n",
    "       days = 91 + date\n",
    "       print(\"%d\" %days)\n",
    "    elif month == 5:\n",
    "       days = 121 + date\n",
    "       print(\"%d\" %days)\n",
    "    elif month == 6:\n",
    "       days = 152 + date\n",
    "       print(\"%d\" %days)\n",
    "else:\n",
    "    if month == 1:\n",
    "       days = date\n",
    "       print(\"%d\" %days)\n",
    "    elif month == 2:\n",
    "       days = 31 + date\n",
    "       print(\"%d\" %days)\n",
    "    elif month == 3:\n",
    "       days = 59 + date\n",
    "       print(\"%d\" %days)\n",
    "    elif month == 4:\n",
    "       days = 90 + date\n",
    "       print(\"%d\" %days)\n",
    "    elif month == 5:\n",
    "       days = 120 + date\n",
    "       print(\"%d\" %days)\n",
    "    elif month == 6:\n",
    "       days = 151 + date\n",
    "       print(\"%d\" %days)"
   ]
  }
 ],
 "metadata": {
  "kernelspec": {
   "display_name": "Python 3",
   "language": "python",
   "name": "python3"
  },
  "language_info": {
   "codemirror_mode": {
    "name": "ipython",
    "version": 3
   },
   "file_extension": ".py",
   "mimetype": "text/x-python",
   "name": "python",
   "nbconvert_exporter": "python",
   "pygments_lexer": "ipython3",
   "version": "3.11.2"
  }
 },
 "nbformat": 4,
 "nbformat_minor": 2
}
