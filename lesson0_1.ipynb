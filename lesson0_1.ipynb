{
 "cells": [
  {
   "cell_type": "code",
   "execution_count": null,
   "metadata": {},
   "outputs": [],
   "source": [
    "w = input().split()\n",
    "print(w,type(w))\n",
    "x,y = input().split()\n",
    "print(x,y,type(x),type(y))\n"
   ]
  },
  {
   "cell_type": "code",
   "execution_count": null,
   "metadata": {},
   "outputs": [],
   "source": [
    "x,y = map(float,input().split())\n",
    "print(x,y,type(x),type(y))"
   ]
  },
  {
   "cell_type": "code",
   "execution_count": null,
   "metadata": {},
   "outputs": [],
   "source": [
    "z = list(map(float,input().split()))\n",
    "print(z,type(z))"
   ]
  },
  {
   "cell_type": "code",
   "execution_count": null,
   "metadata": {},
   "outputs": [],
   "source": [
    "#批改娘2-2題\n",
    "P = input()\n",
    "Q = input()\n",
    "R = input()\n",
    "M = int(input())\n",
    "N = int(input())\n",
    "O = float(input())\n",
    "S = M + N + O\n",
    "print(\"%s+%s+%s的價格為:%.2f元\" %(P,Q,R,S))"
   ]
  },
  {
   "cell_type": "code",
   "execution_count": null,
   "metadata": {},
   "outputs": [],
   "source": [
    "#批改娘2-3題\n",
    "H = eval(input())\n",
    "W = eval(input())\n",
    "BMI = W / (H/100)**2\n",
    "print (\"%.2f\" %(BMI))"
   ]
  },
  {
   "cell_type": "code",
   "execution_count": null,
   "metadata": {},
   "outputs": [],
   "source": [
    "#批改娘2-4題\n",
    "import math\n",
    "P = math.pi\n",
    "R = int(input())\n",
    "L = (R*2)*P\n",
    "A = (R*R)*P\n",
    "print(\"圓周率為%.7f\" %P)\n",
    "print(\"半徑為%d\" %R)\n",
    "print(\"圓周長為%.7f\" %L)\n",
    "print(\"圓面積為%.7f\" %A)\n",
    "\n"
   ]
  },
  {
   "cell_type": "code",
   "execution_count": 1,
   "metadata": {},
   "outputs": [
    {
     "name": "stdout",
     "output_type": "stream",
     "text": [
      "60\n"
     ]
    }
   ],
   "source": [
    "#批改娘2-5題\n",
    "C = int(input())\n",
    "E = int(input())\n",
    "M = int(input())\n",
    "E = (C + E + M)/3\n",
    "print(\"%d\" %E)"
   ]
  },
  {
   "cell_type": "code",
   "execution_count": null,
   "metadata": {},
   "outputs": [
    {
     "name": "stdout",
     "output_type": "stream",
     "text": [
      "121\n"
     ]
    }
   ],
   "source": [
    "#批改娘3-1題\n",
    "N1 = float(input())\n",
    "N2 = float(input())\n",
    "C = float((N1 + N2)*(N1 + N2))\n",
    "print(\"{:g}\".format(C))"
   ]
  },
  {
   "cell_type": "code",
   "execution_count": 5,
   "metadata": {},
   "outputs": [
    {
     "name": "stdout",
     "output_type": "stream",
     "text": [
      "12\n"
     ]
    }
   ],
   "source": [
    "#批改娘3-2題\n",
    "N = int(input())\n",
    "V = (N // 6)*6\n",
    "print(\"%d\" %V )\n"
   ]
  },
  {
   "cell_type": "code",
   "execution_count": 5,
   "metadata": {},
   "outputs": [
    {
     "name": "stdout",
     "output_type": "stream",
     "text": [
      " -2\n",
      " 2\n"
     ]
    }
   ],
   "source": [
    "#批改娘3-3題\n",
    "N1 = int(input())\n",
    "N2 = int(input())\n",
    "V1 = N1 // N2\n",
    "V2 = N1 % N2\n",
    "print(\"%d\" % V1)\n",
    "print(\"%d\" % V2)"
   ]
  },
  {
   "cell_type": "code",
   "execution_count": 1,
   "metadata": {},
   "outputs": [
    {
     "name": "stdout",
     "output_type": "stream",
     "text": [
      "3880 秒可分解為\n",
      "1 小時\n",
      "4 分\n",
      "40 秒\n"
     ]
    }
   ],
   "source": [
    "#已知輸入任意介於1~86400的秒數,將其分解為對等於幾小時、幾分鐘、幾秒鐘(批改娘3-4題)\n",
    "N = int(input())\n",
    "V1 = N // (60*60)\n",
    "V2 = (N % (60*60))//60\n",
    "V3 = (N % (60*60))%60\n",
    "print(\"%d 秒可分解為\" %N)\n",
    "print(\"%d 小時\" %V1)\n",
    "print(\"%d 分\" %V2)\n",
    "print(\"%d 秒\" %V3)"
   ]
  },
  {
   "cell_type": "code",
   "execution_count": 6,
   "metadata": {},
   "outputs": [
    {
     "name": "stdout",
     "output_type": "stream",
     "text": [
      "Long = 32.58\n",
      "Width = 13.00\n",
      "Perimeter = 91.16\n",
      "Area = 423.54\n"
     ]
    }
   ],
   "source": [
    "#批改娘3-5題\n",
    "n1 = float(input())\n",
    "n2 = float(input())\n",
    "length = (n1 + n2)* 2\n",
    "A = n1 * n2\n",
    "print(\"Long = %.2f\" %n1)\n",
    "print(\"Width = %.2f\" %n2)\n",
    "print(\"Perimeter = %.2f\" %length)\n",
    "print(\"Area = %.2f\" %A)"
   ]
  },
  {
   "cell_type": "code",
   "execution_count": 9,
   "metadata": {},
   "outputs": [
    {
     "name": "stdout",
     "output_type": "stream",
     "text": [
      "True\n"
     ]
    }
   ],
   "source": [
    "#批改娘3-6題\n",
    "n = input()\n",
    "judge = n == n[::-1]\n",
    "print(judge)"
   ]
  },
  {
   "cell_type": "code",
   "execution_count": 38,
   "metadata": {},
   "outputs": [
    {
     "name": "stdout",
     "output_type": "stream",
     "text": [
      "54321\n"
     ]
    }
   ],
   "source": [
    "#批改娘3-7題\n",
    "N = input()\n",
    "reverse_N = N[::-1]\n",
    "print(reverse_N)"
   ]
  },
  {
   "cell_type": "code",
   "execution_count": null,
   "metadata": {},
   "outputs": [
    {
     "name": "stdout",
     "output_type": "stream",
     "text": [
      "False\n"
     ]
    }
   ],
   "source": [
    "#批改娘3-8題\n",
    "#輸入整數，代表民國的年份，然後判別這個年份是否為閏年\n",
    "#（西元年每四年一閏，每百年不閏，每四百年一閏)\n",
    "##Sample Input\n",
    "#100\n",
    "##Sample Output\n",
    "#False\n",
    "x = int(input())\n",
    "year = x + 1911\n",
    "leap_year = ((year % 4 == 0) and (year % 100 != 0)) or (year % 400 == 0)\n",
    "print(leap_year)"
   ]
  },
  {
   "cell_type": "code",
   "execution_count": 17,
   "metadata": {},
   "outputs": [
    {
     "name": "stdout",
     "output_type": "stream",
     "text": [
      "2A2B\n"
     ]
    }
   ],
   "source": [
    "#輸入兩個0~9之四位數字n,m，四位數中數字不重複，比較n,m的四個數字，並依照以下規則輸出\n",
    "#1.數字相同，且位置相同為A，計算A的數量為X\n",
    "#2.數字相同，但位置不同為B，計算B的數量為Y\n",
    "#輸出XAYB(批改娘3-9題)\n",
    "#Input Format\n",
    "#1023≤n,m≤9876\n",
    "#提示：使用 map()、split()\n",
    "##Output Format\n",
    "#XAYB\n",
    "##Sample Input\n",
    "#1234 1243\n",
    "##Sample Output\n",
    "#2A2B\n",
    "n, m = map(str,input().split())\n",
    "A = sum(1 for i in range(4) if n[i] == m[i])\n",
    "B = sum(1 for i in range (4) if n[i] in m and n[i] != m[i])\n",
    "print(\"%dA%dB\"%(A,B))"
   ]
  },
  {
   "cell_type": "code",
   "execution_count": 10,
   "metadata": {},
   "outputs": [
    {
     "name": "stdout",
     "output_type": "stream",
     "text": [
      "13.0, 30.0, 30.0\n"
     ]
    }
   ],
   "source": [
    "#批改娘3-10題\n",
    "N1,N2 = map(int,input().split())\n",
    "slope = (N1 * N1 + N2 * N2) ** 0.5\n",
    "length = (N1 + N2 + slope)\n",
    "area = (N1 * N2) * 0.5\n",
    "print(slope,length,area,sep = \", \")"
   ]
  },
  {
   "cell_type": "code",
   "execution_count": 17,
   "metadata": {},
   "outputs": [
    {
     "name": "stdout",
     "output_type": "stream",
     "text": [
      "2\n"
     ]
    }
   ],
   "source": [
    "#批改娘3-11題\n",
    "n = int(input())\n",
    "p = int(input())\n",
    "k = (p ** (1/n))\n",
    "print(\"%d\" %k)"
   ]
  },
  {
   "cell_type": "code",
   "execution_count": null,
   "metadata": {},
   "outputs": [
    {
     "name": "stdout",
     "output_type": "stream",
     "text": [
      "True\n"
     ]
    }
   ],
   "source": [
    "#批改娘3-12題\n",
    "#輸入兩個數字A,B(換行輸入)，\n",
    "#先將第一個數字A乘3，\n",
    "#再將第二個數字B平方，\n",
    "#判斷A是否大於B。\n",
    "#若大於印出True 反之印出False。\n",
    "##Input Format\n",
    "#讓使用者輸入2個數字A, B(換行輸入)。\n",
    "##Output Format\n",
    "#計算答案，輸出比較結果。\n",
    "n1= int(input())\n",
    "n2= int(input())\n",
    "judge = (n1 * 3) > (n2 * n2)\n",
    "print(judge)"
   ]
  },
  {
   "cell_type": "code",
   "execution_count": 16,
   "metadata": {},
   "outputs": [
    {
     "name": "stdout",
     "output_type": "stream",
     "text": [
      "True\n"
     ]
    }
   ],
   "source": [
    "#批改娘3-13題\n",
    "n = int(input())\n",
    "judge = n % 5 ==0\n",
    "print(judge)"
   ]
  },
  {
   "cell_type": "code",
   "execution_count": 2,
   "metadata": {},
   "outputs": [
    {
     "name": "stdout",
     "output_type": "stream",
     "text": [
      "78.8\n"
     ]
    }
   ],
   "source": [
    "#批改娘3-14題\n",
    "C = int(input())\n",
    "F = C * 9 / 5 + 32\n",
    "print (F)"
   ]
  },
  {
   "cell_type": "code",
   "execution_count": 41,
   "metadata": {},
   "outputs": [
    {
     "name": "stdout",
     "output_type": "stream",
     "text": [
      "False\n"
     ]
    }
   ],
   "source": [
    "#批改娘3-15題\n",
    "n1 = int(input())\n",
    "n2 = int(input())\n",
    "judge = n1 % n2 == 0\n",
    "print(judge)"
   ]
  },
  {
   "cell_type": "code",
   "execution_count": null,
   "metadata": {},
   "outputs": [
    {
     "name": "stdout",
     "output_type": "stream",
     "text": [
      "isosceles acute triangle\n"
     ]
    }
   ],
   "source": [
    "#批改娘4-2題\n",
    "a, b, c = map(int,input().split())\n",
    "if (a + b > c) and (b + c > a) and (a + c > b):\n",
    "    if a == b == c:\n",
    "        print(\"regular triangle\")\n",
    "    elif a * a + b * b == c * c:\n",
    "        print(\"rectangular triangle\")\n",
    "    elif ((a * a + b * b > c * c) and ((a == b) or (b == c) or (a == c))):\n",
    "        print(\"isosceles acute triangle\")\n",
    "    elif ((a * a + b * b > c * c) and (a != b)):\n",
    "        print(\"acute triangle\")\n",
    "    elif ((a * a + b * b < c * c) and ((a == b) or (b == c) or (a == c))):\n",
    "        print(\"isosceles obtuse triangle\")\n",
    "    elif ((a * a + b * b < c * c) and (a != b)):\n",
    "        print(\"obtuse triangle\")\n",
    "else:\n",
    "    print(\"not a triangle\")"
   ]
  },
  {
   "cell_type": "code",
   "execution_count": null,
   "metadata": {},
   "outputs": [
    {
     "name": "stdout",
     "output_type": "stream",
     "text": [
      "32\n"
     ]
    }
   ],
   "source": [
    "#批改娘4-3題\n",
    "#輸入一個有效 y 年 m 月 d 日，計算當日是那一年的第幾天。例如，2018年1月2日是第2天。\n",
    "#(提示：注意閏年)\n",
    "##input(2018 2 1)\n",
    "##output(32)\n",
    "year, month, date = map(int,input().split())\n",
    "if ((year % 4 == 0) and (year % 100 != 0)) or (year % 400 == 0):\n",
    "    if month == 1:\n",
    "       days = date\n",
    "       print(\"%d\" %days)\n",
    "    elif month == 2:\n",
    "       days = 31 + date\n",
    "       print(\"%d\" %days)\n",
    "    elif month == 3:\n",
    "       days = 60 + date\n",
    "       print(\"%d\" %days)\n",
    "    elif month == 4:\n",
    "       days = 91 + date\n",
    "       print(\"%d\" %days)\n",
    "    elif month == 5:\n",
    "       days = 121 + date\n",
    "       print(\"%d\" %days)\n",
    "    elif month == 6:\n",
    "       days = 152 + date\n",
    "       print(\"%d\" %days)\n",
    "    elif month == 7:\n",
    "       days = 182 + date\n",
    "       print(\"%d\" %days)\n",
    "    elif month == 8:\n",
    "       days = 213 + date\n",
    "       print(\"%d\" %days)\n",
    "    elif month == 9:\n",
    "       days = 244 + date\n",
    "       print(\"%d\" %days)\n",
    "    elif month == 10:\n",
    "       days = 274 + date\n",
    "       print(\"%d\" %days)\n",
    "    elif month == 11:\n",
    "       days = 305 + date\n",
    "       print(\"%d\" %days)\n",
    "    elif month == 12:\n",
    "       days = 335 + date\n",
    "       print(\"%d\" %days)\n",
    "else:\n",
    "    if month == 1:\n",
    "       days = date\n",
    "       print(\"%d\" %days)\n",
    "    elif month == 2:\n",
    "       days = 31 + date\n",
    "       print(\"%d\" %days)\n",
    "    elif month == 3:\n",
    "       days = 59 + date\n",
    "       print(\"%d\" %days)\n",
    "    elif month == 4:\n",
    "       days = 90 + date\n",
    "       print(\"%d\" %days)\n",
    "    elif month == 5:\n",
    "       days = 120 + date\n",
    "       print(\"%d\" %days)\n",
    "    elif month == 6:\n",
    "       days = 151 + date\n",
    "       print(\"%d\" %days)\n",
    "    elif month == 7:\n",
    "       days = 181 + date\n",
    "       print(\"%d\" %days)\n",
    "    elif month == 8:\n",
    "       days = 212 + date\n",
    "       print(\"%d\" %days)\n",
    "    elif month == 9:\n",
    "       days = 243 + date\n",
    "       print(\"%d\" %days)\n",
    "    elif month == 10:\n",
    "       days = 273 + date\n",
    "       print(\"%d\" %days)\n",
    "    elif month == 11:\n",
    "       days = 304 + date\n",
    "       print(\"%d\" %days)\n",
    "    elif month == 12:\n",
    "       days = 334 + date\n",
    "       print(\"%d\" %days)"
   ]
  },
  {
   "cell_type": "code",
   "execution_count": 2,
   "metadata": {},
   "outputs": [
    {
     "name": "stdout",
     "output_type": "stream",
     "text": [
      "80\n"
     ]
    }
   ],
   "source": [
    "#批改娘4-4題\n",
    "m = int(input())\n",
    "if m > 1500:\n",
    "   count = (m - 1500) // 500 \n",
    "   result = 80 + (5 * count)\n",
    "   print(\"%d\" %result)\n",
    "else:\n",
    "   print(\"80\")"
   ]
  },
  {
   "cell_type": "code",
   "execution_count": 13,
   "metadata": {},
   "outputs": [
    {
     "name": "stdout",
     "output_type": "stream",
     "text": [
      "90\n"
     ]
    }
   ],
   "source": [
    "#批改娘4-4題\n",
    "#計算計程車車資\n",
    "#小於或等於1500公尺80元，超過1500公尺後，每多500公尺加5元，不足500公尺以500公尺計算\n",
    "#按照使用者輸入的里程計算出正確的車資\n",
    "##input(2500)\n",
    "##output(90)\n",
    "m = int(input())\n",
    "if  m <= 1500:\n",
    "    print(\"80\")\n",
    "else:\n",
    "   base_fare = 80\n",
    "   add_fare = (m - 1500 + 499) // 500 * 5 \n",
    "   total_fare = base_fare + add_fare\n",
    "   print(total_fare)"
   ]
  },
  {
   "cell_type": "code",
   "execution_count": null,
   "metadata": {},
   "outputs": [
    {
     "name": "stdout",
     "output_type": "stream",
     "text": [
      "100\n"
     ]
    }
   ],
   "source": [
    "#批改娘4-5題\n",
    "#答對題數在 0~10 者，每題給6分。\n",
    "#題數在 11~20 者，從第11題開始，每題給2分。(前10題還是每題給6分)\n",
    "#題數在 21~40 者，從第21題開始，每題給1分。\n",
    "#題數在 40 以上者，一律100分。\n",
    "#如此一來，只要寫10題，就可以得到60分，寫20題，就可以得到80分，不過要得到滿分100分，則是要寫到40題\n",
    "##input(10)\n",
    "##output(60)\n",
    "n = int(input())\n",
    "if 0 <= n <= 10:\n",
    "    score = n * 6\n",
    "    print(\"%d\" %score)\n",
    "elif  n <= 20:\n",
    "    score1 = 60 + (n-10) * 2 \n",
    "    print(\"%d\" %score1)\n",
    "elif  n < 40:\n",
    "    score2 = 80 + (n-20) * 1 \n",
    "    print(\"%d\" %score2)\n",
    "else:\n",
    "    print(\"100\")"
   ]
  },
  {
   "cell_type": "code",
   "execution_count": 4,
   "metadata": {},
   "outputs": [
    {
     "name": "stdout",
     "output_type": "stream",
     "text": [
      "8是偶數\n"
     ]
    }
   ],
   "source": [
    "#批改娘4-6題\n",
    "n1 = int(input())\n",
    "if n1 % 2 == 0:\n",
    "    print(\"%d是偶數\" %n1)\n",
    "else: \n",
    "    print(\"%d不是偶數\" %n1)\n"
   ]
  },
  {
   "cell_type": "code",
   "execution_count": null,
   "metadata": {},
   "outputs": [
    {
     "name": "stdout",
     "output_type": "stream",
     "text": [
      "10\n"
     ]
    }
   ],
   "source": [
    "#批改娘4-7題\n",
    "#輸入兩個正整數和一個算術運算子( +、-、∗、/、//、% )，\n",
    "#輸出其經過運算的結果。\n",
    "##Input Format\n",
    "#輸入為2個正整數(換行輸入),再輸入算術運算子\n",
    "##Output Format\n",
    "#輸出運算後結果,若有小數點則印到小數點後1位\n",
    "n1 = int(input())\n",
    "n2 = int(input())\n",
    "n  = input()\n",
    "if n == \"+\":\n",
    "   plus = n1 + n2\n",
    "   print(\"%.f\" %plus) \n",
    "elif n == \"-\":\n",
    "   minus = n1 - n2\n",
    "   print(\"%.f\" %minus) \n",
    "elif n == \"*\":\n",
    "   multiply = n1 * n2\n",
    "   print(\"%.f\" % multiply)\n",
    "elif n == \"/\":\n",
    "   division = n1 / n2\n",
    "   print(\"%.f\" %division)\n",
    "elif n == \"//\":\n",
    "   r1 = n1 // n2\n",
    "   print(\"%.f\" %r1)  \n",
    "else:\n",
    "   r2 = n1 % n2\n",
    "   print(\"%.f\" %r2)"
   ]
  },
  {
   "cell_type": "code",
   "execution_count": null,
   "metadata": {},
   "outputs": [
    {
     "name": "stdout",
     "output_type": "stream",
     "text": [
      "8\n"
     ]
    }
   ],
   "source": [
    "#批改娘4-8題\n",
    "#輸入3位數數字\n",
    "#若是奇數，將百位數十位數個位數相加輸出\n",
    "#若為偶數，將百位數十位數個位數相乘輸出\n",
    "#(若不是輸入三位數字，不輸出任何東西)\n",
    "##Sample Input\n",
    "#111\n",
    "##Sample Output\n",
    "#3\n",
    "##Sample Input\n",
    "#222\n",
    "##Sample Output\n",
    "#8\n",
    "n = int(input())\n",
    "if (n < 100) or (n > 999):\n",
    "    print(\"\")\n",
    "elif n % 2 == 1:\n",
    "    count = (n // 100) + ((n % 100) // 10) + (n % 10)\n",
    "    print(\"%d\" %count)\n",
    "else :\n",
    "    count2 = (n // 100) * ((n % 100) // 10) * (n % 10)\n",
    "    print(\"%d\" %count2)\n"
   ]
  },
  {
   "cell_type": "code",
   "execution_count": 7,
   "metadata": {},
   "outputs": [
    {
     "name": "stdout",
     "output_type": "stream",
     "text": [
      "A\n"
     ]
    }
   ],
   "source": [
    "#批改娘4-9題\n",
    "n1 = int(input())\n",
    "if   n1 > 100:\n",
    "    print(\"error\")\n",
    "elif n1 >= 80:\n",
    "    print(\"A\")\n",
    "elif n1 >= 70:\n",
    "    print(\"B\")\n",
    "elif n1 >= 60:\n",
    "    print(\"C\")\n",
    "elif n1 >= 0:\n",
    "    print(\"F\")\n",
    "else:\n",
    "    print(\"error\")"
   ]
  },
  {
   "cell_type": "code",
   "execution_count": null,
   "metadata": {},
   "outputs": [
    {
     "name": "stdout",
     "output_type": "stream",
     "text": [
      "54443.9\n"
     ]
    }
   ],
   "source": [
    "#批改娘4-10題\n",
    "dollar = int(input())\n",
    "if dollar < 0:\n",
    "    print(\"ERROR\")\n",
    "elif dollar < 8000:\n",
    "    print(\"{:.1f}\".format(dollar))\n",
    "elif dollar < 18000:\n",
    "    discount1 = dollar * 0.95\n",
    "    print(\"{:.1f}\".format(discount1))\n",
    "elif dollar < 28000:\n",
    "    discount2 = dollar * 0.9\n",
    "    print(\"{:.1f}\".format(discount2))\n",
    "elif dollar < 38000:\n",
    "    discount3 = dollar * 0.8\n",
    "    print(\"{:.1f}\".format(discount3))\n",
    "else:\n",
    "    discount4 = dollar * 0.7\n",
    "    print(\"{:.1f}\".format(discount4)) "
   ]
  },
  {
   "cell_type": "code",
   "execution_count": 1,
   "metadata": {},
   "outputs": [
    {
     "name": "stdout",
     "output_type": "stream",
     "text": [
      "壬戌\n"
     ]
    }
   ],
   "source": [
    "#批改娘4-11題\n",
    "#輸入一個正整數 n，依其除以10的餘數 i 輸出「甲乙丙丁戊己庚辛壬癸」中之第 i 個字。例如，如果餘數為0則輸出「甲」。依 n 除以12的餘數 j 輸出「子丑寅卯辰巳午未申酉戌亥」之第 j 個字。\n",
    "#甲(0)乙(1)丙(2)丁(3)戊(4)己(5)庚(6)辛(7)壬(8)癸(9)\n",
    "#子(0)丑(1)寅(2)卯(3)辰(4)巳(5)午(6)未(7)申(8)酉(9)戌(10)亥(11)\n",
    "##Input Format\n",
    "#正整數 n\n",
    "##Output Format\n",
    "#天干地支\n",
    "##Sample Input\n",
    "#58\n",
    "##Sample Output\n",
    "#壬戌\n",
    "n = int(input())\n",
    "tens = [\"甲\", \"乙\", \"丙\", \"丁\", \"戊\", \"己\", \"庚\", \"辛\", \"壬\", \"癸\"]\n",
    "twelve = [\"子\", \"丑\", \"寅\", \"卯\", \"辰\", \"巳\", \"午\", \"未\", \"申\", \"酉\", \"戌\", \"亥\"]\n",
    "n1 = tens[n % 10]\n",
    "n2 = twelve[n % 12]\n",
    "print(\"%s%s\" %(n1,n2))"
   ]
  },
  {
   "cell_type": "code",
   "execution_count": 2,
   "metadata": {},
   "outputs": [
    {
     "name": "stdout",
     "output_type": "stream",
     "text": [
      "161724\n"
     ]
    }
   ],
   "source": [
    "#批改娘4-12題\n",
    "#怪獸數列的定義 : 第 x+1 項會由左至右描述第 x 項的數字個數。\n",
    "#以下面的數列第4項1211為例\n",
    "#在此項由左至右先遇到的數字1且出現3次，所以有3個1，第5項前兩個數字是31。\n",
    "#之後遇到數字2且出現1次，所以有1個2，第5項第3和4個數字就是12。\n",
    "#之後的數字由於讀取過，所以略過。因此第5項數字為3112。\n",
    "##Sample Input\n",
    "#5545\n",
    "##Sample Output\n",
    "#3514\n",
    "n = int(input())\n",
    "s = str(n)\n",
    "result = \"\"\n",
    "counted = set()\n",
    "for digit in s:\n",
    "    if digit not in counted:\n",
    "        count = s.count(digit)\n",
    "        result = result + str(count)+digit\n",
    "        counted.add(digit)\n",
    "print(int(result))"
   ]
  },
  {
   "cell_type": "code",
   "execution_count": 6,
   "metadata": {},
   "outputs": [
    {
     "name": "stdout",
     "output_type": "stream",
     "text": [
      "231412\n"
     ]
    }
   ],
   "source": [
    "s = str(input())\n",
    "result = \"\"\n",
    "counted = set() #儲存計算過的數字\n",
    "for digit in s:\n",
    "    if digit not in counted:\n",
    "        count = s.count(digit)\n",
    "        result = result + str(count)+digit\n",
    "        counted.add(digit)\n",
    "print(int(result))"
   ]
  },
  {
   "cell_type": "code",
   "execution_count": 3,
   "metadata": {},
   "outputs": [
    {
     "name": "stdout",
     "output_type": "stream",
     "text": [
      "1000: 2\n",
      "500: 1\n",
      "50: 1\n",
      "10: 1\n",
      "1: 1\n"
     ]
    }
   ],
   "source": [
    "#目前新台幣常見種類有7種：1000元、500元、100元、50元、10元、5元、1元。\n",
    "#請計算出一筆款項需要「最少」的紙鈔或硬幣(批改娘4-13題)\n",
    "##Input Format\n",
    "#輸入一整數代表要換算的金額。\n",
    "##Output Format\n",
    "#輸出有使用到的貨幣種類與數量，沒使用到的不用印出。\n",
    "#若輸入數值為負，則輸出error。\n",
    "dollars = int(input())\n",
    "if dollars >= 0:\n",
    "    t = dollars // 1000\n",
    "    f_h = (dollars % 1000) // 500\n",
    "    o_h = ((dollars % 1000) % 500) // 100\n",
    "    fifty = (((dollars % 1000) % 500) % 100) // 50\n",
    "    ten = ((((dollars % 1000) % 500) % 100) % 50) //10\n",
    "    five = (((((dollars % 1000) % 500) % 100) % 50) % 10) // 5\n",
    "    one = (((((dollars % 1000) % 500) % 100) % 50) % 10) % 5\n",
    "    if t > 0:\n",
    "        print(\"1000: %d\" %t)\n",
    "    if f_h > 0:\n",
    "        print(\"500: %d\" %f_h)\n",
    "    if o_h > 0:\n",
    "        print(\"100: %d\" %o_h)\n",
    "    if fifty > 0:\n",
    "        print(\"50: %d\" %fifty)\n",
    "    if ten > 0:\n",
    "        print(\"10: %d\" %ten)\n",
    "    if five > 0:\n",
    "        print(\"5: %d\" %five)\n",
    "    if one > 0:\n",
    "        print(\"1: %d\" %one)\n",
    "else:\n",
    "    print(\"error\")   \n"
   ]
  },
  {
   "cell_type": "code",
   "execution_count": 3,
   "metadata": {},
   "outputs": [
    {
     "name": "stdout",
     "output_type": "stream",
     "text": [
      "12250\n"
     ]
    }
   ],
   "source": [
    "#批改娘4-14題 \n",
    "s = int(input())\n",
    "if s <= 60:\n",
    "   s1 = s * 100\n",
    "   print(\"%d\"%s1)\n",
    "elif s <= 75:\n",
    "   s2 = 600 + (s - 60) * 100 * 1.25 \n",
    "   print(\"%d\"%s2)\n",
    "else:\n",
    "   s3 = 7875 + (s - 75) * 100 * 1.75\n",
    "   print(\"%d\"%s3)"
   ]
  },
  {
   "cell_type": "code",
   "execution_count": null,
   "metadata": {},
   "outputs": [
    {
     "name": "stdout",
     "output_type": "stream",
     "text": [
      "不收件\n"
     ]
    }
   ],
   "source": [
    "#批改娘4-15題(宅配運費計算)\n",
    "#宅配包裹使用秤重和配送距離來計算運費，假設計費方式如下：\n",
    "#基本服務費用為100元，\n",
    "#小於5kg包裹，且運送距離小於10公里運費不用額外收費，若配送10km(含)以上為每公里10元，\n",
    "#5kg~10kg包裹為每公里20元，\n",
    "#10kg以上包裹為每公里40元，\n",
    "#20kg以上不收件。設計一個計算運費的程式\n",
    "n1,n2 = map(int,input().split())\n",
    "if (n1 < 5) and (n2 < 10):\n",
    "    print(\"100\")\n",
    "elif (n1 < 5) and (n2 >= 10):\n",
    "    fee = 100 + n2 * 10\n",
    "    print(\"%d\"%fee)\n",
    "elif (n1 >= 5) and (n1 < 10):\n",
    "    fee1 = 100 + n2 * 20\n",
    "    print(\"%d\"%fee1)\n",
    "elif (n1 >= 10) and (n1 < 20):\n",
    "    fee2 = 100 + n2 * 40\n",
    "    print(\"%d\"%fee2)\n",
    "else:\n",
    "    print(\"不收件\")"
   ]
  },
  {
   "cell_type": "code",
   "execution_count": 7,
   "metadata": {},
   "outputs": [
    {
     "name": "stdout",
     "output_type": "stream",
     "text": [
      "The total annual tax payable is 108400 dollars.\n"
     ]
    }
   ],
   "source": [
    "#批改娘4-16題 \n",
    "income = int(input())\n",
    "if income <= 560000:\n",
    "    tax = income * 0.05\n",
    "    print(\"The total annual tax payable is %d dollars.\" %tax)\n",
    "elif income <= 1260000:\n",
    "    tax1 = income * 0.12 - 39200\n",
    "    print(\"The total annual tax payable is %d dollars.\" %tax1)\n",
    "elif income <= 2520000:\n",
    "    tax2 = income * 0.2 - 140000\n",
    "    print(\"The total annual tax payable is %d dollars.\" %tax2)\n",
    "elif income <= 4720000:\n",
    "    tax3 = income * 0.3 - 392000\n",
    "    print(\"The total annual tax payable is %d dollars.\" %tax3)\n",
    "else:\n",
    "    tax4 = income * 0.4 - 864000\n",
    "    print(\"The total annual tax payable is %d dollars.\" %tax4)"
   ]
  },
  {
   "cell_type": "code",
   "execution_count": null,
   "metadata": {},
   "outputs": [
    {
     "name": "stdout",
     "output_type": "stream",
     "text": [
      "  *  1\n",
      " *+* 1\n",
      "*+*+*1\n"
     ]
    }
   ],
   "source": [
    "#批改娘 期中考第1題\n",
    "char, sep, end = input().split()\n",
    "print(f\"  {char}  {end}\")\n",
    "print(f\" {char}{sep}{char} {end}\")\n",
    "print(f\"{char}{sep}{char}{sep}{char}{end}\", end=\"\")"
   ]
  },
  {
   "cell_type": "code",
   "execution_count": 5,
   "metadata": {},
   "outputs": [
    {
     "name": "stdout",
     "output_type": "stream",
     "text": [
      "0A2B2C\n"
     ]
    }
   ],
   "source": [
    "#批改娘 期中考第2題\n",
    "n = input()\n",
    "m = input()\n",
    "A = (n[0]==m[0]) + (n[1]==m[1]) + (n[2]==m[2])\n",
    "common = 0\n",
    "if n[0] in m:\n",
    "    common += 1\n",
    "if n[1] in m:\n",
    "    common += 1\n",
    "if n[2] in m:\n",
    "    common += 1\n",
    "B = common - A\n",
    "exclusive = 0\n",
    "if n[0] not in m:\n",
    "    exclusive += 1\n",
    "if n[1] not in m:\n",
    "    exclusive += 1\n",
    "if n[2] not in m:\n",
    "    exclusive += 1\n",
    "if m[0] not in n:\n",
    "    exclusive += 1\n",
    "if m[1] not in n:\n",
    "    exclusive += 1\n",
    "if m[2] not in n:\n",
    "    exclusive += 1\n",
    "C = exclusive\n",
    "print(\"%sA%sB%sC\" %(A,B,C))"
   ]
  },
  {
   "cell_type": "code",
   "execution_count": 9,
   "metadata": {},
   "outputs": [
    {
     "name": "stdout",
     "output_type": "stream",
     "text": [
      "1\n"
     ]
    }
   ],
   "source": [
    "#批改娘 期中考第3題\n",
    "a, b, c, d = map(int,input().split())\n",
    "if a > b:\n",
    "    min1 = b\n",
    "else:\n",
    "    min1 = a\n",
    "if c > d:\n",
    "    min2 = d\n",
    "else:\n",
    "    min2 = c\n",
    "if min1 < min2:\n",
    "    min = min1\n",
    "else:\n",
    "    min = min2\n",
    "print(min)"
   ]
  },
  {
   "cell_type": "code",
   "execution_count": 10,
   "metadata": {},
   "outputs": [
    {
     "name": "stdout",
     "output_type": "stream",
     "text": [
      "159\n"
     ]
    }
   ],
   "source": [
    "#批改娘 期中考第4題\n",
    "year, month, date = map(int,input().split())\n",
    "if ((year % 4 == 0) and (year % 100 != 0)) or (year % 400 == 0):\n",
    "    if month == 1:\n",
    "       days = date\n",
    "       print(\"%d\" %days)\n",
    "    elif month == 2:\n",
    "       days = 31 + date\n",
    "       print(\"%d\" %days)\n",
    "    elif month == 3:\n",
    "       days = 60 + date\n",
    "       print(\"%d\" %days)\n",
    "    elif month == 4:\n",
    "       days = 91 + date\n",
    "       print(\"%d\" %days)\n",
    "    elif month == 5:\n",
    "       days = 121 + date\n",
    "       print(\"%d\" %days)\n",
    "    elif month == 6:\n",
    "       days = 152 + date\n",
    "       print(\"%d\" %days)\n",
    "else:\n",
    "    if month == 1:\n",
    "       days = date\n",
    "       print(\"%d\" %days)\n",
    "    elif month == 2:\n",
    "       days = 31 + date\n",
    "       print(\"%d\" %days)\n",
    "    elif month == 3:\n",
    "       days = 59 + date\n",
    "       print(\"%d\" %days)\n",
    "    elif month == 4:\n",
    "       days = 90 + date\n",
    "       print(\"%d\" %days)\n",
    "    elif month == 5:\n",
    "       days = 120 + date\n",
    "       print(\"%d\" %days)\n",
    "    elif month == 6:\n",
    "       days = 151 + date\n",
    "       print(\"%d\" %days)"
   ]
  },
  {
   "cell_type": "code",
   "execution_count": 10,
   "metadata": {},
   "outputs": [
    {
     "name": "stdout",
     "output_type": "stream",
     "text": [
      "587.50\n"
     ]
    }
   ],
   "source": [
    "#批改娘 期中考第5題\n",
    "n = int(input())\n",
    "if n <= 100:\n",
    "    expense = n * 2   \n",
    "elif n <= 300:\n",
    "    expense = 200 + (n - 100) * 2.5\n",
    "elif n <= 500:\n",
    "    expense = 700 + (n - 300) * 3.5\n",
    "elif n <= 700:\n",
    "    expense = 1400 + (n - 500) * 4.5\n",
    "else:\n",
    "    expense = 2300 + (n - 700) * 6.5\n",
    "if expense.is_integer(): \n",
    "    print(int(expense))\n",
    "else:\n",
    "    print(\"%.2f\"%expense)\n",
    "\n"
   ]
  },
  {
   "cell_type": "code",
   "execution_count": null,
   "metadata": {},
   "outputs": [],
   "source": [
    "n, m = map(int,input().split())\n",
    "X = 0  \n",
    "Y = 0  \n",
    "for i in range(4):\n",
    "    if n[i] == m[i]:\n",
    "        X += 1\n",
    "\n",
    "for digit in n:\n",
    "    if digit in m:\n",
    "        Y += 1\n",
    "        m = m.replace(digit, \"\", 1)\n",
    "\n",
    "Y -= X\n",
    "\n",
    "print(f\"{X}A{Y}B\")"
   ]
  },
  {
   "cell_type": "code",
   "execution_count": 10,
   "metadata": {},
   "outputs": [
    {
     "name": "stdout",
     "output_type": "stream",
     "text": [
      "3112\n"
     ]
    }
   ],
   "source": [
    "n = int(input())\n",
    "s = str(n)\n",
    "result = \"\"\n",
    "counted = set()\n",
    "for digit in s:\n",
    "    if digit not in counted:\n",
    "        count = s.count(digit)\n",
    "        result = result + str(count)+digit\n",
    "        counted.add(digit)\n",
    "print(int(result))"
   ]
  }
 ],
 "metadata": {
  "kernelspec": {
   "display_name": "Python 3",
   "language": "python",
   "name": "python3"
  },
  "language_info": {
   "codemirror_mode": {
    "name": "ipython",
    "version": 3
   },
   "file_extension": ".py",
   "mimetype": "text/x-python",
   "name": "python",
   "nbconvert_exporter": "python",
   "pygments_lexer": "ipython3",
   "version": "3.11.10"
  }
 },
 "nbformat": 4,
 "nbformat_minor": 2
}
