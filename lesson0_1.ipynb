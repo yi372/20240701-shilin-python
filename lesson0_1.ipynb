{
 "cells": [
  {
   "cell_type": "code",
   "execution_count": 5,
   "metadata": {},
   "outputs": [
    {
     "name": "stdout",
     "output_type": "stream",
     "text": [
      "['34', '45'] <class 'list'>\n",
      "34 45 <class 'str'> <class 'str'>\n"
     ]
    }
   ],
   "source": [
    "w = input().split()\n",
    "print(w,type(w))\n",
    "x,y = input().split()\n",
    "print(x,y,type(x),type(y))\n"
   ]
  },
  {
   "cell_type": "code",
   "execution_count": 6,
   "metadata": {},
   "outputs": [
    {
     "name": "stdout",
     "output_type": "stream",
     "text": [
      "23.0 34.0 <class 'float'> <class 'float'>\n"
     ]
    }
   ],
   "source": [
    "x,y = map(float,input().split())\n",
    "print(x,y,type(x),type(y))"
   ]
  },
  {
   "cell_type": "code",
   "execution_count": 7,
   "metadata": {},
   "outputs": [
    {
     "name": "stdout",
     "output_type": "stream",
     "text": [
      "[23.0, 34.0] <class 'list'>\n"
     ]
    }
   ],
   "source": [
    "z = list(map(float,input().split()))\n",
    "print(z,type(z))"
   ]
  },
  {
   "cell_type": "code",
   "execution_count": 11,
   "metadata": {},
   "outputs": [
    {
     "name": "stdout",
     "output_type": "stream",
     "text": [
      "蘋果+鳳梨+西瓜的價格為:125.50元\n"
     ]
    }
   ],
   "source": [
    "#批改娘2-2題\n",
    "P = input()\n",
    "Q = input()\n",
    "R = input()\n",
    "M = int(input())\n",
    "N = int(input())\n",
    "O = float(input())\n",
    "S = M + N + O \n",
    "print(\"%s+%s+%s的價格為:%.2f元\" %(P,Q,R,S))"
   ]
  },
  {
   "cell_type": "code",
   "execution_count": 20,
   "metadata": {},
   "outputs": [
    {
     "name": "stdout",
     "output_type": "stream",
     "text": [
      "22.64\n"
     ]
    }
   ],
   "source": [
    "#批改娘2-3題\n",
    "H = eval(input())\n",
    "W = eval(input())\n",
    "BMI = W / (H/100)**2\n",
    "print (\"%.2f\" %(BMI))"
   ]
  },
  {
   "cell_type": "code",
   "execution_count": 8,
   "metadata": {},
   "outputs": [
    {
     "name": "stdout",
     "output_type": "stream",
     "text": [
      "圓周率為3.1415927\n",
      "半徑為100\n",
      "圓周長為628.3185307\n",
      "圓面積為31415.9265359\n"
     ]
    }
   ],
   "source": [
    "#批改娘2-4題\n",
    "import math\n",
    "P = math.pi\n",
    "R = int(input())\n",
    "L = (R*2)*P\n",
    "A = (R*R)*P\n",
    "print(\"圓周率為%.7f\" %P)\n",
    "print(\"半徑為%d\" %R)\n",
    "print(\"圓周長為%.7f\" %L)\n",
    "print(\"圓面積為%.7f\" %A)\n",
    "\n"
   ]
  },
  {
   "cell_type": "code",
   "execution_count": 9,
   "metadata": {},
   "outputs": [
    {
     "name": "stdout",
     "output_type": "stream",
     "text": [
      "60\n"
     ]
    }
   ],
   "source": [
    "#批改娘2-5題\n",
    "C = int(input())\n",
    "E = int(input())\n",
    "M = int(input())\n",
    "E = (C + E + M)/3\n",
    "print(\"%d\" %E)\n"
   ]
  }
 ],
 "metadata": {
  "kernelspec": {
   "display_name": "Python 3",
   "language": "python",
   "name": "python3"
  },
  "language_info": {
   "codemirror_mode": {
    "name": "ipython",
    "version": 3
   },
   "file_extension": ".py",
   "mimetype": "text/x-python",
   "name": "python",
   "nbconvert_exporter": "python",
   "pygments_lexer": "ipython3",
   "version": "3.11.10"
  }
 },
 "nbformat": 4,
 "nbformat_minor": 2
}
