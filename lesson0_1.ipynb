{
 "cells": [
  {
   "cell_type": "code",
   "execution_count": null,
   "metadata": {},
   "outputs": [],
   "source": [
    "w = input().split()\n",
    "print(w,type(w))\n",
    "x,y = input().split()\n",
    "print(x,y,type(x),type(y))\n"
   ]
  },
  {
   "cell_type": "code",
   "execution_count": null,
   "metadata": {},
   "outputs": [],
   "source": [
    "x,y = map(float,input().split())\n",
    "print(x,y,type(x),type(y))"
   ]
  },
  {
   "cell_type": "code",
   "execution_count": null,
   "metadata": {},
   "outputs": [],
   "source": [
    "z = list(map(float,input().split()))\n",
    "print(z,type(z))"
   ]
  },
  {
   "cell_type": "code",
   "execution_count": null,
   "metadata": {},
   "outputs": [],
   "source": [
    "#批改娘2-2題\n",
    "P = input()\n",
    "Q = input()\n",
    "R = input()\n",
    "M = int(input())\n",
    "N = int(input())\n",
    "O = float(input())\n",
    "S = M + N + O \n",
    "print(\"%s+%s+%s的價格為:%.2f元\" %(P,Q,R,S))"
   ]
  },
  {
   "cell_type": "code",
   "execution_count": null,
   "metadata": {},
   "outputs": [],
   "source": [
    "#批改娘2-3題\n",
    "H = eval(input())\n",
    "W = eval(input())\n",
    "BMI = W / (H/100)**2\n",
    "print (\"%.2f\" %(BMI))"
   ]
  },
  {
   "cell_type": "code",
   "execution_count": null,
   "metadata": {},
   "outputs": [],
   "source": [
    "#批改娘2-4題\n",
    "import math\n",
    "P = math.pi\n",
    "R = int(input())\n",
    "L = (R*2)*P\n",
    "A = (R*R)*P\n",
    "print(\"圓周率為%.7f\" %P)\n",
    "print(\"半徑為%d\" %R)\n",
    "print(\"圓周長為%.7f\" %L)\n",
    "print(\"圓面積為%.7f\" %A)\n",
    "\n"
   ]
  },
  {
   "cell_type": "code",
   "execution_count": null,
   "metadata": {},
   "outputs": [],
   "source": [
    "#批改娘2-5題\n",
    "C = int(input())\n",
    "E = int(input())\n",
    "M = int(input())\n",
    "E = (C + E + M)/3\n",
    "print(\"%d\" %E)\n"
   ]
  },
  {
   "cell_type": "code",
   "execution_count": null,
   "metadata": {},
   "outputs": [],
   "source": [
    "#批改娘3-1題\n",
    "N1 = float(input())\n",
    "N2 = float(input())\n",
    "C = float((N1 + N2)*(N1 + N2))\n",
    "print(\"{:g}\".format(C))\n"
   ]
  },
  {
   "cell_type": "code",
   "execution_count": null,
   "metadata": {},
   "outputs": [],
   "source": [
    "#批改娘3-2題\n",
    "N = int(input())\n",
    "V = (N // 6)*6\n",
    "print(\"%d\" %V )\n"
   ]
  },
  {
   "cell_type": "code",
   "execution_count": 5,
   "metadata": {},
   "outputs": [
    {
     "name": "stdout",
     "output_type": "stream",
     "text": [
      " -2\n",
      " 2\n"
     ]
    }
   ],
   "source": [
    "#批改娘3-3題\n",
    "N1 = int(input())\n",
    "N2 = int(input())\n",
    "V1 = N1 // N2\n",
    "V2 = N1 % N2\n",
    "print(\"%d\" % V1)\n",
    "print(\"%d\" % V2)"
   ]
  },
  {
   "cell_type": "code",
   "execution_count": 31,
   "metadata": {},
   "outputs": [
    {
     "name": "stdout",
     "output_type": "stream",
     "text": [
      "3880 秒可分解為\n",
      "1 小時\n",
      "4 分\n",
      "40 秒\n"
     ]
    }
   ],
   "source": [
    "#批改娘3-4題\n",
    "N = int(input())\n",
    "V1 = N // (60*60)\n",
    "V2 = (N % (60*60))/60\n",
    "V3 = (N % (60*60))%60\n",
    "print(\"%d 秒可分解為\" %N)\n",
    "print(\"%d 小時\" %V1)\n",
    "print(\"%d 分\" %V2)\n",
    "print(\"%d 秒\" %V3)"
   ]
  },
  {
   "cell_type": "code",
   "execution_count": 6,
   "metadata": {},
   "outputs": [
    {
     "name": "stdout",
     "output_type": "stream",
     "text": [
      "Long = 32.58\n",
      "Width = 13.00\n",
      "Perimeter = 91.16\n",
      "Area = 423.54\n"
     ]
    }
   ],
   "source": [
    "#批改娘3-5題\n",
    "n1 = float(input())\n",
    "n2 = float(input())\n",
    "length = (n1 + n2)* 2\n",
    "A = n1 * n2\n",
    "print(\"Long = %.2f\" %n1)\n",
    "print(\"Width = %.2f\" %n2)\n",
    "print(\"Perimeter = %.2f\" %length)\n",
    "print(\"Area = %.2f\" %A)"
   ]
  },
  {
   "cell_type": "code",
   "execution_count": null,
   "metadata": {},
   "outputs": [],
   "source": [
    "#批改娘3-6題"
   ]
  },
  {
   "cell_type": "code",
   "execution_count": 38,
   "metadata": {},
   "outputs": [
    {
     "name": "stdout",
     "output_type": "stream",
     "text": [
      "54321\n"
     ]
    }
   ],
   "source": [
    "#批改娘3-7題\n",
    "N = input()\n",
    "reverse_N = N[::-1]\n",
    "print(reverse_N)"
   ]
  },
  {
   "cell_type": "code",
   "execution_count": 20,
   "metadata": {},
   "outputs": [
    {
     "name": "stdout",
     "output_type": "stream",
     "text": [
      "False\n"
     ]
    }
   ],
   "source": [
    "#批改娘3-8題\n",
    "x = int(input(\"輸入民國:\"))\n",
    "year = x + 1911\n",
    "leap_year = ((year % 4 == 0) and (year % 100 != 0)) or (year % 400 == 0)\n",
    "print(leap_year)"
   ]
  },
  {
   "cell_type": "code",
   "execution_count": 9,
   "metadata": {},
   "outputs": [],
   "source": [
    "#批改娘3-9題\n",
    "n1,n2 = map(int,input().split())\n",
    "range = 1023<=n1,n2<=9876"
   ]
  },
  {
   "cell_type": "code",
   "execution_count": 30,
   "metadata": {},
   "outputs": [
    {
     "name": "stdout",
     "output_type": "stream",
     "text": [
      "13.0, 30.0, 30.0\n"
     ]
    }
   ],
   "source": [
    "#批改娘3-10題\n",
    "N1,N2 = map(int,input().split())\n",
    "slope = (N1 * N1 + N2 * N2) ** 0.5\n",
    "length = (N1 + N2 + slope)\n",
    "area = (N1 * N2) * 0.5\n",
    "print(slope,length,area,sep = \", \")"
   ]
  },
  {
   "cell_type": "code",
   "execution_count": 45,
   "metadata": {},
   "outputs": [
    {
     "name": "stdout",
     "output_type": "stream",
     "text": [
      "True\n"
     ]
    }
   ],
   "source": [
    "#批改娘3-12題\n",
    "n1= int(input())\n",
    "n2= int(input())\n",
    "judge = (n1 * 3) > (n2 * n2)\n",
    "print(judge)"
   ]
  },
  {
   "cell_type": "code",
   "execution_count": 43,
   "metadata": {},
   "outputs": [
    {
     "name": "stdout",
     "output_type": "stream",
     "text": [
      "True\n"
     ]
    }
   ],
   "source": [
    "#批改娘3-13題\n",
    "n = int(input())\n",
    "judge = n % 5 ==0\n",
    "print(judge)"
   ]
  },
  {
   "cell_type": "code",
   "execution_count": 2,
   "metadata": {},
   "outputs": [
    {
     "name": "stdout",
     "output_type": "stream",
     "text": [
      "78.8\n"
     ]
    }
   ],
   "source": [
    "#批改娘3-14題\n",
    "C = int(input())\n",
    "F = C * 9 / 5 + 32\n",
    "print (F)"
   ]
  },
  {
   "cell_type": "code",
   "execution_count": 41,
   "metadata": {},
   "outputs": [
    {
     "name": "stdout",
     "output_type": "stream",
     "text": [
      "False\n"
     ]
    }
   ],
   "source": [
    "#批改娘3-15題\n",
    "n1 = int(input())\n",
    "n2 = int(input())\n",
    "judge = n1 % n2 == 0\n",
    "print(judge)"
   ]
  }
 ],
 "metadata": {
  "kernelspec": {
   "display_name": "Python 3",
   "language": "python",
   "name": "python3"
  },
  "language_info": {
   "codemirror_mode": {
    "name": "ipython",
    "version": 3
   },
   "file_extension": ".py",
   "mimetype": "text/x-python",
   "name": "python",
   "nbconvert_exporter": "python",
   "pygments_lexer": "ipython3",
   "version": "3.11.10"
  }
 },
 "nbformat": 4,
 "nbformat_minor": 2
}
