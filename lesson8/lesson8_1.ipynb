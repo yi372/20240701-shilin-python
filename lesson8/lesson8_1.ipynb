{
 "cells": [
  {
   "cell_type": "code",
   "execution_count": 2,
   "metadata": {},
   "outputs": [
    {
     "name": "stdout",
     "output_type": "stream",
     "text": [
      "\n",
      "    tom你好\n",
      "    身高是：160公分\n",
      "    體重是：46公斤\n",
      "    BMI:17.97\n",
      "    體重過輕\n",
      "    \n",
      "應用程式結束\n"
     ]
    }
   ],
   "source": [
    "while True :\n",
    "    name = input(\"請輸入姓名：\")\n",
    "    while True :\n",
    "       try:\n",
    "           height = eval(input(\"請輸入身高(cm)：\"))\n",
    "           break\n",
    "       except:\n",
    "           continue\n",
    "    while True :\n",
    "       try:\n",
    "           weight = eval(input(\"請輸入體重(kg)：\"))\n",
    "           break\n",
    "       except:\n",
    "          continue\n",
    "    bmi = weight/(height/100) ** 2\n",
    "    if bmi >= 35:\n",
    "      status = '重度肥胖'\n",
    "    elif bmi >= 30:\n",
    "      status = '中度肥胖'\n",
    "    elif bmi >= 27:\n",
    "      status = '輕度肥胖'\n",
    "    elif bmi >= 24:\n",
    "      status = '體重過重'\n",
    "    elif bmi >= 18.5:\n",
    "      status = '體重正常'\n",
    "    else:\n",
    "      status = '體重過輕'\n",
    "    print(f\"\"\"\n",
    "    {name}你好\n",
    "    身高是：{height}公分\n",
    "    體重是：{weight}公斤\n",
    "    BMI:{round(bmi,ndigits=2)}\n",
    "    {status}\n",
    "    \"\"\")\n",
    "\n",
    "    letter = input(\"是否要離開?[離開請輸入q 繼續請輸入c]\")\n",
    "    if letter == \"q\":\n",
    "        break\n",
    "   \n",
    "print(\"應用程式結束\")    "
   ]
  },
  {
   "cell_type": "code",
   "execution_count": null,
   "metadata": {},
   "outputs": [],
   "source": [
    "import random\n",
    "while True:\n",
    "    min = 1\n",
    "    max = 100\n",
    "    target = random.randint(min, max)\n",
    "    print(target)\n",
    "    print(\"===========猜數字遊戲============\\n\")\n",
    "    count = 0\n",
    "\n",
    "    while True:\n",
    "        \n",
    "        try:\n",
    "            keyin = int(input(f\"猜數字範圍{min}~{max}:\"))\n",
    "            count += 1\n",
    "        except:\n",
    "            print(\"格式錯誤\")     # 輸入錯誤不算次數\n",
    "            continue\n",
    "\n",
    "        if keyin < min or keyin > max:\n",
    "            print(\"超過範圍\")        \n",
    "            continue\n",
    "\n",
    "        \n",
    "\n",
    "        if keyin == target:\n",
    "            print(f\"賓果!猜對了, 答案是:{keyin}\")\n",
    "            print(f\"您猜了{count}次\")\n",
    "            break\n",
    "        elif keyin > target:\n",
    "            print(\"再小一點\")\n",
    "            max = keyin - 1\n",
    "            \n",
    "        elif keyin < target:\n",
    "            print(\"再大一點\")\n",
    "            min = keyin + 1\n",
    "        print(f\"您已經猜了{count}次\")   \n",
    "    \n",
    "    play = str(input(\"是否繼續(y/n)\"))\n",
    "    if play == \"n\":\n",
    "        break\n",
    "    else:\n",
    "        continue    \n",
    "print(\"應用程式結束\")"
   ]
  },
  {
   "cell_type": "code",
   "execution_count": 4,
   "metadata": {},
   "outputs": [
    {
     "name": "stdout",
     "output_type": "stream",
     "text": [
      "1033.3333333333333\n",
      "148.0\n"
     ]
    }
   ],
   "source": [
    "def myfunction (x,y):\n",
    "    return x ** 2 * y ** 2 + x / 3 + y\n",
    "print(myfunction(4,8))\n",
    "print(myfunction(6,2))"
   ]
  }
 ],
 "metadata": {
  "kernelspec": {
   "display_name": "Python 3",
   "language": "python",
   "name": "python3"
  },
  "language_info": {
   "codemirror_mode": {
    "name": "ipython",
    "version": 3
   },
   "file_extension": ".py",
   "mimetype": "text/x-python",
   "name": "python",
   "nbconvert_exporter": "python",
   "pygments_lexer": "ipython3",
   "version": "3.11.9"
  }
 },
 "nbformat": 4,
 "nbformat_minor": 2
}
