{
 "cells": [
  {
   "cell_type": "code",
   "execution_count": 8,
   "metadata": {},
   "outputs": [
    {
     "name": "stdout",
     "output_type": "stream",
     "text": [
      "有這個檔\n"
     ]
    }
   ],
   "source": [
    "import os\n",
    "file__path = os.path.abspath(__name__)\n",
    "current__dir__name = os.path.dirname(file__path)\n",
    "file_position= os.path.join(current__dir__name,\"data\",\"class.csv\")\n",
    "if os.path.isfile(file_position):\n",
    "    print(\"有這個檔\")\n",
    "else:\n",
    "    print(\"沒有這個檔\")\n"
   ]
  },
  {
   "cell_type": "code",
   "execution_count": 10,
   "metadata": {},
   "outputs": [],
   "source": [
    "file = open(file_position,mode='w',encoding='utf-8')\n",
    "file.write('姓名,國文,英文,數學\\n徐國堂,80,90,100\\n')\n",
    "file.close()"
   ]
  },
  {
   "cell_type": "code",
   "execution_count": 11,
   "metadata": {},
   "outputs": [],
   "source": [
    "with open(file_position,mode='w',encoding='utf-8') as file:\n",
    "    file.write('姓名,國文,英文,數學\\n徐國堂,80,90,100\\n')"
   ]
  },
  {
   "cell_type": "code",
   "execution_count": 12,
   "metadata": {},
   "outputs": [
    {
     "data": {
      "text/plain": [
       "{'姓名': 'Mia', '國文': 96, '數學': 78, '英文': 76}"
      ]
     },
     "execution_count": 12,
     "metadata": {},
     "output_type": "execute_result"
    }
   ],
   "source": [
    "{'姓名':'Mia',\n",
    " '國文':96,\n",
    " '數學':78,\n",
    " '英文':76}"
   ]
  },
  {
   "cell_type": "code",
   "execution_count": 13,
   "metadata": {},
   "outputs": [
    {
     "data": {
      "text/plain": [
       "[{'姓名': 'Mia', '國文': 96, '數學': 78, '英文': 76},\n",
       " {'姓名': 'May', '國文': 65, '數學': 85, '英文': 96}]"
      ]
     },
     "execution_count": 13,
     "metadata": {},
     "output_type": "execute_result"
    }
   ],
   "source": [
    "[{'姓名':'Mia',\n",
    " '國文':96,\n",
    " '數學':78,\n",
    " '英文':76},\n",
    " {'姓名':'May',\n",
    " '國文':65,\n",
    " '數學':85,\n",
    " '英文':96}]"
   ]
  },
  {
   "cell_type": "code",
   "execution_count": 14,
   "metadata": {},
   "outputs": [
    {
     "data": {
      "text/plain": [
       "[{'姓名': 'Mia', '國文': 96, '數學': 78, '英文': 76},\n",
       " {'姓名': 'May', '國文': 65, '數學': 85, '英文': 96}]"
      ]
     },
     "execution_count": 14,
     "metadata": {},
     "output_type": "execute_result"
    }
   ],
   "source": [
    "students = list()\n",
    "students.append(\n",
    "  {'姓名':'Mia',\n",
    " '國文':96,\n",
    " '數學':78,\n",
    " '英文':76},  \n",
    ")\n",
    "students.append(\n",
    " {'姓名':'May',\n",
    " '國文':65,\n",
    " '數學':85,\n",
    " '英文':96}\n",
    ")   \n",
    "students"
   ]
  }
 ],
 "metadata": {
  "kernelspec": {
   "display_name": "Python 3",
   "language": "python",
   "name": "python3"
  },
  "language_info": {
   "codemirror_mode": {
    "name": "ipython",
    "version": 3
   },
   "file_extension": ".py",
   "mimetype": "text/x-python",
   "name": "python",
   "nbconvert_exporter": "python",
   "pygments_lexer": "ipython3",
   "version": "3.11.9"
  }
 },
 "nbformat": 4,
 "nbformat_minor": 2
}
