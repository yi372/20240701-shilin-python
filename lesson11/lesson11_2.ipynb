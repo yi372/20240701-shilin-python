{
 "cells": [
  {
   "cell_type": "code",
   "execution_count": 5,
   "metadata": {},
   "outputs": [
    {
     "data": {
      "text/plain": [
       "['李慶亮',\n",
       " '王坤安',\n",
       " '林益妏',\n",
       " '李佳彥',\n",
       " '王志謙',\n",
       " '林佳人',\n",
       " '林佳蓉',\n",
       " '高俊男',\n",
       " '李政成',\n",
       " '林昱芳',\n",
       " '賴苑禾',\n",
       " '劉依婷',\n",
       " '謝水儒',\n",
       " '張天亨',\n",
       " '林思賢',\n",
       " '游一鈺',\n",
       " '黃佩玲',\n",
       " '余月修',\n",
       " '王梅劭',\n",
       " '葉祖雄']"
      ]
     },
     "execution_count": 5,
     "metadata": {},
     "output_type": "execute_result"
    }
   ],
   "source": [
    "import random\n",
    "with open('names.txt',encoding='utf-8') as file:\n",
    "    contents:str = file.read()\n",
    "    names:list[str] = contents.split(sep=\"\\n\")\n",
    "    students_names = random.choices(names,k=20)\n",
    "students_names"
   ]
  },
  {
   "cell_type": "code",
   "execution_count": 7,
   "metadata": {},
   "outputs": [
    {
     "data": {
      "text/plain": [
       "[{'姓名': '李慶亮', '國文': 60, '英文': 73, '數學': 77},\n",
       " {'姓名': '王坤安', '國文': 53, '英文': 66, '數學': 68},\n",
       " {'姓名': '林益妏', '國文': 70, '英文': 89, '數學': 71},\n",
       " {'姓名': '李佳彥', '國文': 56, '英文': 68, '數學': 85},\n",
       " {'姓名': '王志謙', '國文': 52, '英文': 80, '數學': 70},\n",
       " {'姓名': '林佳人', '國文': 73, '英文': 87, '數學': 98},\n",
       " {'姓名': '林佳蓉', '國文': 77, '英文': 96, '數學': 100},\n",
       " {'姓名': '高俊男', '國文': 67, '英文': 84, '數學': 51},\n",
       " {'姓名': '李政成', '國文': 57, '英文': 82, '數學': 92},\n",
       " {'姓名': '林昱芳', '國文': 71, '英文': 81, '數學': 53},\n",
       " {'姓名': '賴苑禾', '國文': 91, '英文': 72, '數學': 51},\n",
       " {'姓名': '劉依婷', '國文': 78, '英文': 52, '數學': 85},\n",
       " {'姓名': '謝水儒', '國文': 85, '英文': 80, '數學': 66},\n",
       " {'姓名': '張天亨', '國文': 85, '英文': 57, '數學': 61},\n",
       " {'姓名': '林思賢', '國文': 77, '英文': 89, '數學': 69},\n",
       " {'姓名': '游一鈺', '國文': 56, '英文': 65, '數學': 53},\n",
       " {'姓名': '黃佩玲', '國文': 79, '英文': 64, '數學': 55},\n",
       " {'姓名': '余月修', '國文': 54, '英文': 72, '數學': 59},\n",
       " {'姓名': '王梅劭', '國文': 90, '英文': 86, '數學': 74},\n",
       " {'姓名': '葉祖雄', '國文': 72, '英文': 94, '數學': 66}]"
      ]
     },
     "execution_count": 7,
     "metadata": {},
     "output_type": "execute_result"
    }
   ],
   "source": [
    "students = []\n",
    "for name in students_names:\n",
    "    chinese = random.randint(50,100)\n",
    "    english = random.randint(50,100)\n",
    "    math = random.randint(50,100)\n",
    "    students.append({'姓名':name,\n",
    "                    \"國文\":chinese,\n",
    "                    \"英文\":english,\n",
    "                    \"數學\":math})\n",
    "\n",
    "students"
   ]
  },
  {
   "cell_type": "code",
   "execution_count": 6,
   "metadata": {},
   "outputs": [],
   "source": [
    "import os\n",
    "file_path = os.path.abspath(__name__)\n",
    "current_dir_name = os.path.dirname(file_path)\n",
    "file_position = os.path.join(current_dir_name,\"data\",\"people.csv\")\n",
    "import random\n",
    "with open('names.txt',encoding='utf-8') as file:\n",
    "    contents:str = file.read()\n",
    "    names:list[str] = contents.split(sep=\"\\n\")\n",
    "    students_names = random.choices(names,k=50)\n",
    "students_names\n",
    "students = []\n",
    "for name in students_names:\n",
    "    height = random.randint(150,190)\n",
    "    weight = random.randint(50,90)\n",
    "    students.append({'姓名':name,\n",
    "                    \"身高\":height,\n",
    "                    \"體重\":weight,})\n",
    "students\n",
    "import csv\n",
    "with open(file_position,mode='w',newline='') as file:\n",
    "    writer = csv.DictWriter(file,['姓名','身高','體重'])\n",
    "    writer.writeheader()\n",
    "    writer.writerows(students)\n",
    "\n"
   ]
  }
 ],
 "metadata": {
  "kernelspec": {
   "display_name": "Python 3",
   "language": "python",
   "name": "python3"
  },
  "language_info": {
   "codemirror_mode": {
    "name": "ipython",
    "version": 3
   },
   "file_extension": ".py",
   "mimetype": "text/x-python",
   "name": "python",
   "nbconvert_exporter": "python",
   "pygments_lexer": "ipython3",
   "version": "3.11.9"
  }
 },
 "nbformat": 4,
 "nbformat_minor": 2
}
