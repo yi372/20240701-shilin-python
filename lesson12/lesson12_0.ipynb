{
 "cells": [
  {
   "cell_type": "code",
   "execution_count": 3,
   "metadata": {},
   "outputs": [],
   "source": [
    "import os\n",
    "import csv\n",
    "import random\n",
    "\n",
    "file_path = os.path.abspath(__name__) #檔案的絕對位置\n",
    "current_dir_name = os.path.dirname(file_path) #取得目前的目錄\n",
    "file_position = os.path.join(current_dir_name,'data','peoples.csv') #操作檔案的絕對位置\n",
    "\n",
    "with open('names.txt',encoding='utf-8') as file1:\n",
    "    contents:str = file1.read()\n",
    "    names:list[str] = contents.split(sep='\\n')\n",
    "    peoples_names = random.choices(names,k=50)\n",
    "peoples_names\n",
    "\n",
    "\n",
    "peoples = []\n",
    "for name in peoples_names:\n",
    "    height = random.randint(150,190)\n",
    "    weight = random.randint(50,90)\n",
    "    BMI = weight / (height/100) ** 2\n",
    "    if BMI >= 35:\n",
    "        status = '重度肥胖'\n",
    "    elif BMI >= 30:\n",
    "        status = '中度肥胖'\n",
    "    elif BMI >= 27:\n",
    "        status = '輕度肥胖'\n",
    "    elif BMI >= 24:\n",
    "        status = '體重過重'\n",
    "    elif BMI >= 18.5:\n",
    "        status = '體重正常'\n",
    "    else:\n",
    "        status = '體重過輕'\n",
    "\n",
    "    peoples.append({\"姓名\":name,\n",
    "                    '身高':height,\n",
    "                    '體重':weight,\n",
    "                    'BMI':round(BMI,2),\n",
    "                    '狀態':status})\n",
    "\n",
    "\n",
    "with open(file_position,mode='w',newline='') as file2:\n",
    "    writer = csv.DictWriter(file2,['姓名','身高','體重','BMI','狀態'])\n",
    "    writer.writeheader()\n",
    "    writer.writerows(peoples)"
   ]
  }
 ],
 "metadata": {
  "kernelspec": {
   "display_name": "Python 3",
   "language": "python",
   "name": "python3"
  },
  "language_info": {
   "codemirror_mode": {
    "name": "ipython",
    "version": 3
   },
   "file_extension": ".py",
   "mimetype": "text/x-python",
   "name": "python",
   "nbconvert_exporter": "python",
   "pygments_lexer": "ipython3",
   "version": "3.11.9"
  }
 },
 "nbformat": 4,
 "nbformat_minor": 2
}
